{
  "nbformat": 4,
  "nbformat_minor": 0,
  "metadata": {
    "colab": {
      "name": " Precy_Mae_Core_W6_Project",
      "provenance": [],
      "collapsed_sections": [],
      "authorship_tag": "ABX9TyPALAZX59ODRcDK/ervH+AK",
      "include_colab_link": true
    },
    "kernelspec": {
      "name": "python3",
      "display_name": "Python 3"
    }
  },
  "cells": [
    {
      "cell_type": "markdown",
      "metadata": {
        "id": "view-in-github",
        "colab_type": "text"
      },
      "source": [
        "<a href=\"https://colab.research.google.com/github/PrecyMaeMwanyungu/World_football_results_predicions_using_machine_learning/blob/master/Precy_Mae_Core_W6_Project.ipynb\" target=\"_parent\"><img src=\"https://colab.research.google.com/assets/colab-badge.svg\" alt=\"Open In Colab\"/></a>"
      ]
    },
    {
      "cell_type": "markdown",
      "metadata": {
        "id": "LpeybcyyX8Hv",
        "colab_type": "text"
      },
      "source": [
        "# **Data Science Core W6 Independent Project**\n",
        "\n",
        "\n",
        "---\n",
        "\n"
      ]
    },
    {
      "cell_type": "markdown",
      "metadata": {
        "id": "kiJf70iDaOhI",
        "colab_type": "text"
      },
      "source": [
        "## *1.* Defining the Question"
      ]
    },
    {
      "cell_type": "markdown",
      "metadata": {
        "id": "8rK72DsgWjyK",
        "colab_type": "text"
      },
      "source": [
        "**Overview**\n",
        "\n",
        "You have been recruited as a football analyst in a company - Mchezopesa Ltd and tasked to accomplish the task below.\n",
        "\n",
        "A prediction result of a game between team 1 and team 2, based on who's home and who's away, and on whether or not the game is friendly (include rank in your training).\n",
        "\n",
        "You have two possible approaches as showngiven the datasets that will be provided.\n",
        "\n",
        "\n",
        "To work on this project, we will perform the following analysis with Python; \n",
        "\n",
        "1. Define the question, the metric for success, the context, experimental design taken and the appropriateness of the available data to answer the given question\n",
        "2. Expected flow for the assessment:\n",
        "* Perform your EDA\n",
        "* Perform any necessary feature engineering \n",
        "* Check of multicollinearity\n",
        "* Start building the model\n",
        "* Cross-validate the model\n",
        "* Compute RMSE\n",
        "* Create residual plots for your models, and assess their heteroscedasticity using Bartlett’s test\n",
        "2. Perform appropriate regressions on the data including your justification\n",
        "3. Challenge your solution by providing insights on how you can make improvements.\n",
        "\n",
        "**Dataset** \n",
        "\n",
        "* Variable Definitions: /content/fifa_ranking.csv\n",
        "* Dataset: /content/results.csv"
      ]
    },
    {
      "cell_type": "markdown",
      "metadata": {
        "id": "zp-4aDeGMr-q",
        "colab_type": "text"
      },
      "source": [
        "**Results dataset column descriptions;**\n",
        "\n",
        "*  date - date of the match\n",
        "* home_team - the name of the home team\n",
        "* away_team - the name of the away team\n",
        "* home_score - full-time home team score including extra time, not including penalty-shootouts\n",
        "* away_score - full-time away team score including extra time, not including penalty-shootouts\n",
        "* tournament - the name of the tournament\n",
        "* city - the name of the city/ town/ administrative unit where the match was played\n",
        "* country - the name of the country where the match was played\n",
        "* neutral - TRUE/FALSE column indicating whether the match was played at a neutral venue"
      ]
    },
    {
      "cell_type": "markdown",
      "metadata": {
        "id": "PbD3sLeDY4J8",
        "colab_type": "text"
      },
      "source": [
        "### a) Specifying the Question\n",
        "\n",
        ">  Give a prediction result of a game between team 1 and team 2, based on who's home and who's away, and on whether or not the game is friendly (include rank in your training)."
      ]
    },
    {
      "cell_type": "markdown",
      "metadata": {
        "id": "jcCsJRhcZ25c",
        "colab_type": "text"
      },
      "source": [
        "\n",
        "\n",
        "\n",
        "### b) Defining the Metric for Success\n",
        " \n",
        "\n",
        "> Getting an accurate solution to our hypothesis\n",
        "\n",
        "\n",
        "\n"
      ]
    },
    {
      "cell_type": "markdown",
      "metadata": {
        "id": "eM639MAMZ_Px",
        "colab_type": "text"
      },
      "source": [
        "### c) Understanding the context\n",
        "> "
      ]
    },
    {
      "cell_type": "markdown",
      "metadata": {
        "id": "zsunpEWgan8U",
        "colab_type": "text"
      },
      "source": [
        "### d) Recording the Experimental Design\n",
        "\n",
        "We took the following steps to get our hypothesis solution\n",
        "\n",
        ">**1) Business Understanding**: This enabled us to understand the details as well as the context of our claim. In this case, the car sharing company wants to decifer some claims concerning the bluecar.\n",
        "\n",
        "\n",
        ">**2) Reading the data:** This enables us to undrestand the data provided.\n",
        "\n",
        "\n",
        ">**3) Checking our data:** This gives us information about our dataset including the shape, data types, columns, statistical summaries and other details about the dataset.\n",
        "\n",
        "\n",
        ">**4) Data cleaning:** I enables us to come up with clean data that is easier to analyse. This involves reanming columns, checking and dealing with missing values and others .\n",
        "\n",
        "\n",
        ">**5) EDA:** visualizing and understanding data.\n",
        "\n",
        "\n",
        ">**6) Implementing the solution:** using hypothesis testing\n",
        "\n",
        "\n",
        ">**7) Challenging the solution:**\n",
        "\n",
        "\n",
        ">**8)Conclusion**\n",
        "\n",
        "\n",
        "\n",
        "\n",
        "\n",
        "\n",
        "\n",
        "\n",
        "\n",
        "\n",
        "\n",
        "\n",
        "\n"
      ]
    },
    {
      "cell_type": "markdown",
      "metadata": {
        "id": "JUfjoz9VavTl",
        "colab_type": "text"
      },
      "source": [
        "### e) Data Relevance\n",
        "> The data is relevant as it is found from the FiFa website: https://www.fifa.com/fifa-world-ranking/ranking-table/men/\n"
      ]
    },
    {
      "cell_type": "markdown",
      "metadata": {
        "id": "aFsb7J7QbRfg",
        "colab_type": "text"
      },
      "source": [
        "## *2.* Reading the Data\n"
      ]
    },
    {
      "cell_type": "code",
      "metadata": {
        "id": "SVBZs10CcjEW",
        "colab_type": "code",
        "colab": {}
      },
      "source": [
        "import pandas as pd\n",
        "import numpy as np\n",
        "import seaborn as sns\n",
        "import matplotlib\n",
        "import matplotlib.pyplot as plt\n",
        "from sklearn.preprocessing import PolynomialFeatures\n",
        "from sklearn.model_selection import train_test_split\n",
        "from sklearn.linear_model import LinearRegression\n",
        "import warnings\n",
        "warnings.filterwarnings('ignore')"
      ],
      "execution_count": 437,
      "outputs": []
    },
    {
      "cell_type": "code",
      "metadata": {
        "id": "_qOHyr5Pctaw",
        "colab_type": "code",
        "colab": {
          "base_uri": "https://localhost:8080/",
          "height": 301
        },
        "outputId": "a579146a-f769-4d83-fa24-6a409ccf8c0c"
      },
      "source": [
        "# Read rankings dataset\n",
        "df_rankings= pd.read_csv(\"/content/fifa_ranking.csv\",encoding='latin-1',error_bad_lines=False)\n",
        "df_rankings.head()"
      ],
      "execution_count": 438,
      "outputs": [
        {
          "output_type": "execute_result",
          "data": {
            "text/html": [
              "<div>\n",
              "<style scoped>\n",
              "    .dataframe tbody tr th:only-of-type {\n",
              "        vertical-align: middle;\n",
              "    }\n",
              "\n",
              "    .dataframe tbody tr th {\n",
              "        vertical-align: top;\n",
              "    }\n",
              "\n",
              "    .dataframe thead th {\n",
              "        text-align: right;\n",
              "    }\n",
              "</style>\n",
              "<table border=\"1\" class=\"dataframe\">\n",
              "  <thead>\n",
              "    <tr style=\"text-align: right;\">\n",
              "      <th></th>\n",
              "      <th>rank</th>\n",
              "      <th>country_full</th>\n",
              "      <th>country_abrv</th>\n",
              "      <th>total_points</th>\n",
              "      <th>previous_points</th>\n",
              "      <th>rank_change</th>\n",
              "      <th>cur_year_avg</th>\n",
              "      <th>cur_year_avg_weighted</th>\n",
              "      <th>last_year_avg</th>\n",
              "      <th>last_year_avg_weighted</th>\n",
              "      <th>two_year_ago_avg</th>\n",
              "      <th>two_year_ago_weighted</th>\n",
              "      <th>three_year_ago_avg</th>\n",
              "      <th>three_year_ago_weighted</th>\n",
              "      <th>confederation</th>\n",
              "      <th>rank_date</th>\n",
              "    </tr>\n",
              "  </thead>\n",
              "  <tbody>\n",
              "    <tr>\n",
              "      <th>0</th>\n",
              "      <td>1</td>\n",
              "      <td>Germany</td>\n",
              "      <td>GER</td>\n",
              "      <td>0.0</td>\n",
              "      <td>57</td>\n",
              "      <td>0</td>\n",
              "      <td>0.0</td>\n",
              "      <td>0.0</td>\n",
              "      <td>0.0</td>\n",
              "      <td>0.0</td>\n",
              "      <td>0.0</td>\n",
              "      <td>0.0</td>\n",
              "      <td>0.0</td>\n",
              "      <td>0.0</td>\n",
              "      <td>UEFA</td>\n",
              "      <td>1993-08-08</td>\n",
              "    </tr>\n",
              "    <tr>\n",
              "      <th>1</th>\n",
              "      <td>2</td>\n",
              "      <td>Italy</td>\n",
              "      <td>ITA</td>\n",
              "      <td>0.0</td>\n",
              "      <td>57</td>\n",
              "      <td>0</td>\n",
              "      <td>0.0</td>\n",
              "      <td>0.0</td>\n",
              "      <td>0.0</td>\n",
              "      <td>0.0</td>\n",
              "      <td>0.0</td>\n",
              "      <td>0.0</td>\n",
              "      <td>0.0</td>\n",
              "      <td>0.0</td>\n",
              "      <td>UEFA</td>\n",
              "      <td>1993-08-08</td>\n",
              "    </tr>\n",
              "    <tr>\n",
              "      <th>2</th>\n",
              "      <td>3</td>\n",
              "      <td>Switzerland</td>\n",
              "      <td>SUI</td>\n",
              "      <td>0.0</td>\n",
              "      <td>50</td>\n",
              "      <td>9</td>\n",
              "      <td>0.0</td>\n",
              "      <td>0.0</td>\n",
              "      <td>0.0</td>\n",
              "      <td>0.0</td>\n",
              "      <td>0.0</td>\n",
              "      <td>0.0</td>\n",
              "      <td>0.0</td>\n",
              "      <td>0.0</td>\n",
              "      <td>UEFA</td>\n",
              "      <td>1993-08-08</td>\n",
              "    </tr>\n",
              "    <tr>\n",
              "      <th>3</th>\n",
              "      <td>4</td>\n",
              "      <td>Sweden</td>\n",
              "      <td>SWE</td>\n",
              "      <td>0.0</td>\n",
              "      <td>55</td>\n",
              "      <td>0</td>\n",
              "      <td>0.0</td>\n",
              "      <td>0.0</td>\n",
              "      <td>0.0</td>\n",
              "      <td>0.0</td>\n",
              "      <td>0.0</td>\n",
              "      <td>0.0</td>\n",
              "      <td>0.0</td>\n",
              "      <td>0.0</td>\n",
              "      <td>UEFA</td>\n",
              "      <td>1993-08-08</td>\n",
              "    </tr>\n",
              "    <tr>\n",
              "      <th>4</th>\n",
              "      <td>5</td>\n",
              "      <td>Argentina</td>\n",
              "      <td>ARG</td>\n",
              "      <td>0.0</td>\n",
              "      <td>51</td>\n",
              "      <td>5</td>\n",
              "      <td>0.0</td>\n",
              "      <td>0.0</td>\n",
              "      <td>0.0</td>\n",
              "      <td>0.0</td>\n",
              "      <td>0.0</td>\n",
              "      <td>0.0</td>\n",
              "      <td>0.0</td>\n",
              "      <td>0.0</td>\n",
              "      <td>CONMEBOL</td>\n",
              "      <td>1993-08-08</td>\n",
              "    </tr>\n",
              "  </tbody>\n",
              "</table>\n",
              "</div>"
            ],
            "text/plain": [
              "   rank country_full  ... confederation   rank_date\n",
              "0     1      Germany  ...          UEFA  1993-08-08\n",
              "1     2        Italy  ...          UEFA  1993-08-08\n",
              "2     3  Switzerland  ...          UEFA  1993-08-08\n",
              "3     4       Sweden  ...          UEFA  1993-08-08\n",
              "4     5    Argentina  ...      CONMEBOL  1993-08-08\n",
              "\n",
              "[5 rows x 16 columns]"
            ]
          },
          "metadata": {
            "tags": []
          },
          "execution_count": 438
        }
      ]
    },
    {
      "cell_type": "code",
      "metadata": {
        "id": "pMSdZSq-t5fH",
        "colab_type": "code",
        "colab": {
          "base_uri": "https://localhost:8080/",
          "height": 197
        },
        "outputId": "8a00a3fa-28d9-4635-8fd2-fc9aba2f116d"
      },
      "source": [
        "# Read the results dataset\n",
        "df_results= pd.read_csv(\"/content/results.csv\",encoding='latin-1',error_bad_lines=False)\n",
        "df_results.head()"
      ],
      "execution_count": 439,
      "outputs": [
        {
          "output_type": "execute_result",
          "data": {
            "text/html": [
              "<div>\n",
              "<style scoped>\n",
              "    .dataframe tbody tr th:only-of-type {\n",
              "        vertical-align: middle;\n",
              "    }\n",
              "\n",
              "    .dataframe tbody tr th {\n",
              "        vertical-align: top;\n",
              "    }\n",
              "\n",
              "    .dataframe thead th {\n",
              "        text-align: right;\n",
              "    }\n",
              "</style>\n",
              "<table border=\"1\" class=\"dataframe\">\n",
              "  <thead>\n",
              "    <tr style=\"text-align: right;\">\n",
              "      <th></th>\n",
              "      <th>date</th>\n",
              "      <th>home_team</th>\n",
              "      <th>away_team</th>\n",
              "      <th>home_score</th>\n",
              "      <th>away_score</th>\n",
              "      <th>tournament</th>\n",
              "      <th>city</th>\n",
              "      <th>country</th>\n",
              "      <th>neutral</th>\n",
              "    </tr>\n",
              "  </thead>\n",
              "  <tbody>\n",
              "    <tr>\n",
              "      <th>0</th>\n",
              "      <td>1872-11-30</td>\n",
              "      <td>Scotland</td>\n",
              "      <td>England</td>\n",
              "      <td>0</td>\n",
              "      <td>0</td>\n",
              "      <td>Friendly</td>\n",
              "      <td>Glasgow</td>\n",
              "      <td>Scotland</td>\n",
              "      <td>False</td>\n",
              "    </tr>\n",
              "    <tr>\n",
              "      <th>1</th>\n",
              "      <td>1873-03-08</td>\n",
              "      <td>England</td>\n",
              "      <td>Scotland</td>\n",
              "      <td>4</td>\n",
              "      <td>2</td>\n",
              "      <td>Friendly</td>\n",
              "      <td>London</td>\n",
              "      <td>England</td>\n",
              "      <td>False</td>\n",
              "    </tr>\n",
              "    <tr>\n",
              "      <th>2</th>\n",
              "      <td>1874-03-07</td>\n",
              "      <td>Scotland</td>\n",
              "      <td>England</td>\n",
              "      <td>2</td>\n",
              "      <td>1</td>\n",
              "      <td>Friendly</td>\n",
              "      <td>Glasgow</td>\n",
              "      <td>Scotland</td>\n",
              "      <td>False</td>\n",
              "    </tr>\n",
              "    <tr>\n",
              "      <th>3</th>\n",
              "      <td>1875-03-06</td>\n",
              "      <td>England</td>\n",
              "      <td>Scotland</td>\n",
              "      <td>2</td>\n",
              "      <td>2</td>\n",
              "      <td>Friendly</td>\n",
              "      <td>London</td>\n",
              "      <td>England</td>\n",
              "      <td>False</td>\n",
              "    </tr>\n",
              "    <tr>\n",
              "      <th>4</th>\n",
              "      <td>1876-03-04</td>\n",
              "      <td>Scotland</td>\n",
              "      <td>England</td>\n",
              "      <td>3</td>\n",
              "      <td>0</td>\n",
              "      <td>Friendly</td>\n",
              "      <td>Glasgow</td>\n",
              "      <td>Scotland</td>\n",
              "      <td>False</td>\n",
              "    </tr>\n",
              "  </tbody>\n",
              "</table>\n",
              "</div>"
            ],
            "text/plain": [
              "         date home_team away_team  ...     city   country neutral\n",
              "0  1872-11-30  Scotland   England  ...  Glasgow  Scotland   False\n",
              "1  1873-03-08   England  Scotland  ...   London   England   False\n",
              "2  1874-03-07  Scotland   England  ...  Glasgow  Scotland   False\n",
              "3  1875-03-06   England  Scotland  ...   London   England   False\n",
              "4  1876-03-04  Scotland   England  ...  Glasgow  Scotland   False\n",
              "\n",
              "[5 rows x 9 columns]"
            ]
          },
          "metadata": {
            "tags": []
          },
          "execution_count": 439
        }
      ]
    },
    {
      "cell_type": "markdown",
      "metadata": {
        "id": "8gimhr4vuS52",
        "colab_type": "text"
      },
      "source": [
        "**Checking the shape of the datasets**"
      ]
    },
    {
      "cell_type": "code",
      "metadata": {
        "id": "UdbUcN10umZn",
        "colab_type": "code",
        "colab": {
          "base_uri": "https://localhost:8080/",
          "height": 34
        },
        "outputId": "c3d3d65d-32b9-4e44-b5ac-e2b705342b66"
      },
      "source": [
        "# shape of ranks\n",
        "df_rankings.shape"
      ],
      "execution_count": 440,
      "outputs": [
        {
          "output_type": "execute_result",
          "data": {
            "text/plain": [
              "(57793, 16)"
            ]
          },
          "metadata": {
            "tags": []
          },
          "execution_count": 440
        }
      ]
    },
    {
      "cell_type": "code",
      "metadata": {
        "id": "QxWYkzH8u0jY",
        "colab_type": "code",
        "colab": {
          "base_uri": "https://localhost:8080/",
          "height": 34
        },
        "outputId": "189aaa03-7801-4619-dbc2-b84aaeb01f47"
      },
      "source": [
        "# shape of results\n",
        "df_results.shape"
      ],
      "execution_count": 441,
      "outputs": [
        {
          "output_type": "execute_result",
          "data": {
            "text/plain": [
              "(40839, 9)"
            ]
          },
          "metadata": {
            "tags": []
          },
          "execution_count": 441
        }
      ]
    },
    {
      "cell_type": "code",
      "metadata": {
        "id": "F0S5Kpel-rC2",
        "colab_type": "code",
        "colab": {
          "base_uri": "https://localhost:8080/",
          "height": 194
        },
        "outputId": "f30246c9-9a2f-42eb-c2ae-b6506418d4a3"
      },
      "source": [
        "# missing values\n",
        "df_results.isnull().sum()"
      ],
      "execution_count": 442,
      "outputs": [
        {
          "output_type": "execute_result",
          "data": {
            "text/plain": [
              "date          0\n",
              "home_team     0\n",
              "away_team     0\n",
              "home_score    0\n",
              "away_score    0\n",
              "tournament    0\n",
              "city          0\n",
              "country       0\n",
              "neutral       0\n",
              "dtype: int64"
            ]
          },
          "metadata": {
            "tags": []
          },
          "execution_count": 442
        }
      ]
    },
    {
      "cell_type": "markdown",
      "metadata": {
        "id": "VajFKFr3vBfO",
        "colab_type": "text"
      },
      "source": [
        "**merging our datasets**"
      ]
    },
    {
      "cell_type": "code",
      "metadata": {
        "id": "MwYAK83HuZZ-",
        "colab_type": "code",
        "colab": {
          "base_uri": "https://localhost:8080/",
          "height": 34
        },
        "outputId": "be83dca4-de0e-4355-feca-bbc6f678a14d"
      },
      "source": [
        "# Checking for duplicates\n",
        "df_rankings.duplicated().sum()"
      ],
      "execution_count": 443,
      "outputs": [
        {
          "output_type": "execute_result",
          "data": {
            "text/plain": [
              "37"
            ]
          },
          "metadata": {
            "tags": []
          },
          "execution_count": 443
        }
      ]
    },
    {
      "cell_type": "markdown",
      "metadata": {
        "id": "64B7DVxbuseH",
        "colab_type": "text"
      },
      "source": [
        "We will first drop our duplicates to enable our merge"
      ]
    },
    {
      "cell_type": "code",
      "metadata": {
        "colab_type": "code",
        "id": "Pwn_cwTzuaGK",
        "colab": {}
      },
      "source": [
        "# Dropping the duplicates\n",
        "df_rankings.drop_duplicates(inplace=True)"
      ],
      "execution_count": 444,
      "outputs": []
    },
    {
      "cell_type": "code",
      "metadata": {
        "id": "AiSt0vpzo1pV",
        "colab_type": "code",
        "colab": {
          "base_uri": "https://localhost:8080/",
          "height": 197
        },
        "outputId": "0c0fc161-adc4-4199-947c-fd32fdec2389"
      },
      "source": [
        "# Picking the rank date column and the rank column from our rankings dataset\n",
        "#df_ranking=df_rankings.loc[: ['rank','country_full','rank_date']].head()\n",
        "df_ranking= df_rankings[['country_full','rank_date','rank']]\n",
        "df_ranking.head()"
      ],
      "execution_count": 445,
      "outputs": [
        {
          "output_type": "execute_result",
          "data": {
            "text/html": [
              "<div>\n",
              "<style scoped>\n",
              "    .dataframe tbody tr th:only-of-type {\n",
              "        vertical-align: middle;\n",
              "    }\n",
              "\n",
              "    .dataframe tbody tr th {\n",
              "        vertical-align: top;\n",
              "    }\n",
              "\n",
              "    .dataframe thead th {\n",
              "        text-align: right;\n",
              "    }\n",
              "</style>\n",
              "<table border=\"1\" class=\"dataframe\">\n",
              "  <thead>\n",
              "    <tr style=\"text-align: right;\">\n",
              "      <th></th>\n",
              "      <th>country_full</th>\n",
              "      <th>rank_date</th>\n",
              "      <th>rank</th>\n",
              "    </tr>\n",
              "  </thead>\n",
              "  <tbody>\n",
              "    <tr>\n",
              "      <th>0</th>\n",
              "      <td>Germany</td>\n",
              "      <td>1993-08-08</td>\n",
              "      <td>1</td>\n",
              "    </tr>\n",
              "    <tr>\n",
              "      <th>1</th>\n",
              "      <td>Italy</td>\n",
              "      <td>1993-08-08</td>\n",
              "      <td>2</td>\n",
              "    </tr>\n",
              "    <tr>\n",
              "      <th>2</th>\n",
              "      <td>Switzerland</td>\n",
              "      <td>1993-08-08</td>\n",
              "      <td>3</td>\n",
              "    </tr>\n",
              "    <tr>\n",
              "      <th>3</th>\n",
              "      <td>Sweden</td>\n",
              "      <td>1993-08-08</td>\n",
              "      <td>4</td>\n",
              "    </tr>\n",
              "    <tr>\n",
              "      <th>4</th>\n",
              "      <td>Argentina</td>\n",
              "      <td>1993-08-08</td>\n",
              "      <td>5</td>\n",
              "    </tr>\n",
              "  </tbody>\n",
              "</table>\n",
              "</div>"
            ],
            "text/plain": [
              "  country_full   rank_date  rank\n",
              "0      Germany  1993-08-08     1\n",
              "1        Italy  1993-08-08     2\n",
              "2  Switzerland  1993-08-08     3\n",
              "3       Sweden  1993-08-08     4\n",
              "4    Argentina  1993-08-08     5"
            ]
          },
          "metadata": {
            "tags": []
          },
          "execution_count": 445
        }
      ]
    },
    {
      "cell_type": "code",
      "metadata": {
        "id": "uEMieIMSAGLA",
        "colab_type": "code",
        "colab": {}
      },
      "source": [
        "# Rename the column country full to enable us to merge\n",
        "df_ranking.rename(columns={'country_full':'home_team'},inplace=True)"
      ],
      "execution_count": 446,
      "outputs": []
    },
    {
      "cell_type": "code",
      "metadata": {
        "id": "XvJctbk4qp0P",
        "colab_type": "code",
        "colab": {}
      },
      "source": [
        "# We then get the year and the month from the ranking dataset\n",
        "df_ranking['year'] = pd.DatetimeIndex(df_ranking['rank_date']).year\n",
        "df_ranking['month'] = pd.DatetimeIndex(df_ranking['rank_date']).month"
      ],
      "execution_count": 447,
      "outputs": []
    },
    {
      "cell_type": "code",
      "metadata": {
        "id": "ba_UFtP2r9N6",
        "colab_type": "code",
        "colab": {}
      },
      "source": [
        "# We create a year and month of match date column from the results dataset\n",
        "df_results['year'] = pd.DatetimeIndex(df_results['date']).year\n",
        "df_results['month'] = pd.DatetimeIndex(df_results['date']).month"
      ],
      "execution_count": 448,
      "outputs": []
    },
    {
      "cell_type": "markdown",
      "metadata": {
        "id": "vdhpnHBDs4N0",
        "colab_type": "text"
      },
      "source": [
        "Our datasets now have the year and month column to enable us to merge them at the exact dates with correct ranks represented"
      ]
    },
    {
      "cell_type": "code",
      "metadata": {
        "colab_type": "code",
        "id": "c4ys7RVOeGsJ",
        "colab": {
          "base_uri": "https://localhost:8080/",
          "height": 187
        },
        "outputId": "0c131633-a6ea-495d-d7c1-f2ff2edd6eb3"
      },
      "source": [
        "# Merging our two datasets\n",
        "df= pd.merge(df_results, df_ranking, on=['month','year','home_team'])\n",
        "df.head(3)"
      ],
      "execution_count": 449,
      "outputs": [
        {
          "output_type": "execute_result",
          "data": {
            "text/html": [
              "<div>\n",
              "<style scoped>\n",
              "    .dataframe tbody tr th:only-of-type {\n",
              "        vertical-align: middle;\n",
              "    }\n",
              "\n",
              "    .dataframe tbody tr th {\n",
              "        vertical-align: top;\n",
              "    }\n",
              "\n",
              "    .dataframe thead th {\n",
              "        text-align: right;\n",
              "    }\n",
              "</style>\n",
              "<table border=\"1\" class=\"dataframe\">\n",
              "  <thead>\n",
              "    <tr style=\"text-align: right;\">\n",
              "      <th></th>\n",
              "      <th>date</th>\n",
              "      <th>home_team</th>\n",
              "      <th>away_team</th>\n",
              "      <th>home_score</th>\n",
              "      <th>away_score</th>\n",
              "      <th>tournament</th>\n",
              "      <th>city</th>\n",
              "      <th>country</th>\n",
              "      <th>neutral</th>\n",
              "      <th>year</th>\n",
              "      <th>month</th>\n",
              "      <th>rank_date</th>\n",
              "      <th>rank</th>\n",
              "    </tr>\n",
              "  </thead>\n",
              "  <tbody>\n",
              "    <tr>\n",
              "      <th>0</th>\n",
              "      <td>1993-08-01</td>\n",
              "      <td>Colombia</td>\n",
              "      <td>Paraguay</td>\n",
              "      <td>0</td>\n",
              "      <td>0</td>\n",
              "      <td>FIFA World Cup qualification</td>\n",
              "      <td>Barranquilla</td>\n",
              "      <td>Colombia</td>\n",
              "      <td>False</td>\n",
              "      <td>1993</td>\n",
              "      <td>8</td>\n",
              "      <td>1993-08-08</td>\n",
              "      <td>19</td>\n",
              "    </tr>\n",
              "    <tr>\n",
              "      <th>1</th>\n",
              "      <td>1993-08-15</td>\n",
              "      <td>Colombia</td>\n",
              "      <td>Argentina</td>\n",
              "      <td>2</td>\n",
              "      <td>1</td>\n",
              "      <td>FIFA World Cup qualification</td>\n",
              "      <td>Barranquilla</td>\n",
              "      <td>Colombia</td>\n",
              "      <td>False</td>\n",
              "      <td>1993</td>\n",
              "      <td>8</td>\n",
              "      <td>1993-08-08</td>\n",
              "      <td>19</td>\n",
              "    </tr>\n",
              "    <tr>\n",
              "      <th>2</th>\n",
              "      <td>1993-08-29</td>\n",
              "      <td>Colombia</td>\n",
              "      <td>Peru</td>\n",
              "      <td>4</td>\n",
              "      <td>0</td>\n",
              "      <td>FIFA World Cup qualification</td>\n",
              "      <td>Barranquilla</td>\n",
              "      <td>Colombia</td>\n",
              "      <td>False</td>\n",
              "      <td>1993</td>\n",
              "      <td>8</td>\n",
              "      <td>1993-08-08</td>\n",
              "      <td>19</td>\n",
              "    </tr>\n",
              "  </tbody>\n",
              "</table>\n",
              "</div>"
            ],
            "text/plain": [
              "         date home_team  away_team  home_score  ...  year month   rank_date rank\n",
              "0  1993-08-01  Colombia   Paraguay           0  ...  1993     8  1993-08-08   19\n",
              "1  1993-08-15  Colombia  Argentina           2  ...  1993     8  1993-08-08   19\n",
              "2  1993-08-29  Colombia       Peru           4  ...  1993     8  1993-08-08   19\n",
              "\n",
              "[3 rows x 13 columns]"
            ]
          },
          "metadata": {
            "tags": []
          },
          "execution_count": 449
        }
      ]
    },
    {
      "cell_type": "code",
      "metadata": {
        "id": "x7Gp9HdV98gt",
        "colab_type": "code",
        "colab": {}
      },
      "source": [
        "# Lets rename the rank to home rank\n",
        "df.rename(columns={'rank':'home_rank'},inplace=True)"
      ],
      "execution_count": 450,
      "outputs": []
    },
    {
      "cell_type": "markdown",
      "metadata": {
        "id": "uBzPdTz89KZl",
        "colab_type": "text"
      },
      "source": [
        "As you can see from our dataset, away rank is not included.\n"
      ]
    },
    {
      "cell_type": "code",
      "metadata": {
        "id": "Pzxg6KJN60GZ",
        "colab_type": "code",
        "colab": {
          "base_uri": "https://localhost:8080/",
          "height": 107
        },
        "outputId": "f9526502-1641-424f-c385-8961de1a2bdb"
      },
      "source": [
        "# The rank we have is home rank so we will have to include away rank and away team in our ranking dataset\n",
        "# First rename ranking home_team to away_ team\n",
        "df_ranking.rename(columns={'home_team':'away_team','rank':'away_rank'},inplace=True)\n",
        "df_ranking.head(2)"
      ],
      "execution_count": 451,
      "outputs": [
        {
          "output_type": "execute_result",
          "data": {
            "text/html": [
              "<div>\n",
              "<style scoped>\n",
              "    .dataframe tbody tr th:only-of-type {\n",
              "        vertical-align: middle;\n",
              "    }\n",
              "\n",
              "    .dataframe tbody tr th {\n",
              "        vertical-align: top;\n",
              "    }\n",
              "\n",
              "    .dataframe thead th {\n",
              "        text-align: right;\n",
              "    }\n",
              "</style>\n",
              "<table border=\"1\" class=\"dataframe\">\n",
              "  <thead>\n",
              "    <tr style=\"text-align: right;\">\n",
              "      <th></th>\n",
              "      <th>away_team</th>\n",
              "      <th>rank_date</th>\n",
              "      <th>away_rank</th>\n",
              "      <th>year</th>\n",
              "      <th>month</th>\n",
              "    </tr>\n",
              "  </thead>\n",
              "  <tbody>\n",
              "    <tr>\n",
              "      <th>0</th>\n",
              "      <td>Germany</td>\n",
              "      <td>1993-08-08</td>\n",
              "      <td>1</td>\n",
              "      <td>1993</td>\n",
              "      <td>8</td>\n",
              "    </tr>\n",
              "    <tr>\n",
              "      <th>1</th>\n",
              "      <td>Italy</td>\n",
              "      <td>1993-08-08</td>\n",
              "      <td>2</td>\n",
              "      <td>1993</td>\n",
              "      <td>8</td>\n",
              "    </tr>\n",
              "  </tbody>\n",
              "</table>\n",
              "</div>"
            ],
            "text/plain": [
              "  away_team   rank_date  away_rank  year  month\n",
              "0   Germany  1993-08-08          1  1993      8\n",
              "1     Italy  1993-08-08          2  1993      8"
            ]
          },
          "metadata": {
            "tags": []
          },
          "execution_count": 451
        }
      ]
    },
    {
      "cell_type": "markdown",
      "metadata": {
        "id": "V_YioBrW7v5X",
        "colab_type": "text"
      },
      "source": [
        "As Shown above, the home team has changed to away team and away rank, to be able to properly merge, we can drop the rank date column."
      ]
    },
    {
      "cell_type": "code",
      "metadata": {
        "id": "5Z0KNuXy8I9r",
        "colab_type": "code",
        "colab": {}
      },
      "source": [
        "df_ranking.drop(['rank_date'],axis=1,inplace=True)"
      ],
      "execution_count": 452,
      "outputs": []
    },
    {
      "cell_type": "code",
      "metadata": {
        "id": "r7RbqkAn7vI9",
        "colab_type": "code",
        "colab": {
          "base_uri": "https://localhost:8080/",
          "height": 364
        },
        "outputId": "3395c019-d04b-4510-ecd0-849ca5e072fc"
      },
      "source": [
        "# We can now merge our complete dataset\n",
        "df1= pd.merge(df, df_ranking, on=['month','year','away_team'])\n",
        "df1.head()"
      ],
      "execution_count": 453,
      "outputs": [
        {
          "output_type": "execute_result",
          "data": {
            "text/html": [
              "<div>\n",
              "<style scoped>\n",
              "    .dataframe tbody tr th:only-of-type {\n",
              "        vertical-align: middle;\n",
              "    }\n",
              "\n",
              "    .dataframe tbody tr th {\n",
              "        vertical-align: top;\n",
              "    }\n",
              "\n",
              "    .dataframe thead th {\n",
              "        text-align: right;\n",
              "    }\n",
              "</style>\n",
              "<table border=\"1\" class=\"dataframe\">\n",
              "  <thead>\n",
              "    <tr style=\"text-align: right;\">\n",
              "      <th></th>\n",
              "      <th>date</th>\n",
              "      <th>home_team</th>\n",
              "      <th>away_team</th>\n",
              "      <th>home_score</th>\n",
              "      <th>away_score</th>\n",
              "      <th>tournament</th>\n",
              "      <th>city</th>\n",
              "      <th>country</th>\n",
              "      <th>neutral</th>\n",
              "      <th>year</th>\n",
              "      <th>month</th>\n",
              "      <th>rank_date</th>\n",
              "      <th>home_rank</th>\n",
              "      <th>away_rank</th>\n",
              "    </tr>\n",
              "  </thead>\n",
              "  <tbody>\n",
              "    <tr>\n",
              "      <th>0</th>\n",
              "      <td>1993-08-01</td>\n",
              "      <td>Colombia</td>\n",
              "      <td>Paraguay</td>\n",
              "      <td>0</td>\n",
              "      <td>0</td>\n",
              "      <td>FIFA World Cup qualification</td>\n",
              "      <td>Barranquilla</td>\n",
              "      <td>Colombia</td>\n",
              "      <td>False</td>\n",
              "      <td>1993</td>\n",
              "      <td>8</td>\n",
              "      <td>1993-08-08</td>\n",
              "      <td>19</td>\n",
              "      <td>67</td>\n",
              "    </tr>\n",
              "    <tr>\n",
              "      <th>1</th>\n",
              "      <td>1993-08-29</td>\n",
              "      <td>Argentina</td>\n",
              "      <td>Paraguay</td>\n",
              "      <td>0</td>\n",
              "      <td>0</td>\n",
              "      <td>FIFA World Cup qualification</td>\n",
              "      <td>Buenos Aires</td>\n",
              "      <td>Argentina</td>\n",
              "      <td>False</td>\n",
              "      <td>1993</td>\n",
              "      <td>8</td>\n",
              "      <td>1993-08-08</td>\n",
              "      <td>5</td>\n",
              "      <td>67</td>\n",
              "    </tr>\n",
              "    <tr>\n",
              "      <th>2</th>\n",
              "      <td>1993-08-15</td>\n",
              "      <td>Colombia</td>\n",
              "      <td>Argentina</td>\n",
              "      <td>2</td>\n",
              "      <td>1</td>\n",
              "      <td>FIFA World Cup qualification</td>\n",
              "      <td>Barranquilla</td>\n",
              "      <td>Colombia</td>\n",
              "      <td>False</td>\n",
              "      <td>1993</td>\n",
              "      <td>8</td>\n",
              "      <td>1993-08-08</td>\n",
              "      <td>19</td>\n",
              "      <td>5</td>\n",
              "    </tr>\n",
              "    <tr>\n",
              "      <th>3</th>\n",
              "      <td>1993-08-01</td>\n",
              "      <td>Peru</td>\n",
              "      <td>Argentina</td>\n",
              "      <td>0</td>\n",
              "      <td>1</td>\n",
              "      <td>FIFA World Cup qualification</td>\n",
              "      <td>Lima</td>\n",
              "      <td>Peru</td>\n",
              "      <td>False</td>\n",
              "      <td>1993</td>\n",
              "      <td>8</td>\n",
              "      <td>1993-08-08</td>\n",
              "      <td>70</td>\n",
              "      <td>5</td>\n",
              "    </tr>\n",
              "    <tr>\n",
              "      <th>4</th>\n",
              "      <td>1993-08-08</td>\n",
              "      <td>Paraguay</td>\n",
              "      <td>Argentina</td>\n",
              "      <td>1</td>\n",
              "      <td>3</td>\n",
              "      <td>FIFA World Cup qualification</td>\n",
              "      <td>AsunciÃ³n</td>\n",
              "      <td>Paraguay</td>\n",
              "      <td>False</td>\n",
              "      <td>1993</td>\n",
              "      <td>8</td>\n",
              "      <td>1993-08-08</td>\n",
              "      <td>67</td>\n",
              "      <td>5</td>\n",
              "    </tr>\n",
              "  </tbody>\n",
              "</table>\n",
              "</div>"
            ],
            "text/plain": [
              "         date  home_team  away_team  ...   rank_date  home_rank away_rank\n",
              "0  1993-08-01   Colombia   Paraguay  ...  1993-08-08         19        67\n",
              "1  1993-08-29  Argentina   Paraguay  ...  1993-08-08          5        67\n",
              "2  1993-08-15   Colombia  Argentina  ...  1993-08-08         19         5\n",
              "3  1993-08-01       Peru  Argentina  ...  1993-08-08         70         5\n",
              "4  1993-08-08   Paraguay  Argentina  ...  1993-08-08         67         5\n",
              "\n",
              "[5 rows x 14 columns]"
            ]
          },
          "metadata": {
            "tags": []
          },
          "execution_count": 453
        }
      ]
    },
    {
      "cell_type": "markdown",
      "metadata": {
        "id": "9D9jppAoz35t",
        "colab_type": "text"
      },
      "source": [
        "Our dataset is complete as requested"
      ]
    },
    {
      "cell_type": "markdown",
      "metadata": {
        "id": "Z1i_Ef6sbamF",
        "colab_type": "text"
      },
      "source": [
        "## *3.* Check the data\n"
      ]
    },
    {
      "cell_type": "code",
      "metadata": {
        "id": "58AHDTe3dp92",
        "colab_type": "code",
        "colab": {
          "base_uri": "https://localhost:8080/",
          "height": 34
        },
        "outputId": "1457b701-7798-41f5-f723-e513df3be26c"
      },
      "source": [
        "# Determining the no. of records in our dataset\n",
        "#\n",
        "df1.shape"
      ],
      "execution_count": 454,
      "outputs": [
        {
          "output_type": "execute_result",
          "data": {
            "text/plain": [
              "(16918, 14)"
            ]
          },
          "metadata": {
            "tags": []
          },
          "execution_count": 454
        }
      ]
    },
    {
      "cell_type": "code",
      "metadata": {
        "id": "djl2yPLNHoPi",
        "colab_type": "code",
        "colab": {
          "base_uri": "https://localhost:8080/",
          "height": 87
        },
        "outputId": "c506617a-8eca-40a9-d113-74dbdaa05e36"
      },
      "source": [
        "# A Preview of dataset columns\n",
        "df1.columns"
      ],
      "execution_count": 455,
      "outputs": [
        {
          "output_type": "execute_result",
          "data": {
            "text/plain": [
              "Index(['date', 'home_team', 'away_team', 'home_score', 'away_score',\n",
              "       'tournament', 'city', 'country', 'neutral', 'year', 'month',\n",
              "       'rank_date', 'home_rank', 'away_rank'],\n",
              "      dtype='object')"
            ]
          },
          "metadata": {
            "tags": []
          },
          "execution_count": 455
        }
      ]
    },
    {
      "cell_type": "code",
      "metadata": {
        "id": "6Mx9xgKNd2BQ",
        "colab_type": "code",
        "colab": {
          "base_uri": "https://localhost:8080/",
          "height": 237
        },
        "outputId": "f72efc4d-4b38-4a23-872d-ee29c57c8918"
      },
      "source": [
        "# Previewing the top of our dataset\n",
        "#\n",
        "df1.head(3)"
      ],
      "execution_count": 456,
      "outputs": [
        {
          "output_type": "execute_result",
          "data": {
            "text/html": [
              "<div>\n",
              "<style scoped>\n",
              "    .dataframe tbody tr th:only-of-type {\n",
              "        vertical-align: middle;\n",
              "    }\n",
              "\n",
              "    .dataframe tbody tr th {\n",
              "        vertical-align: top;\n",
              "    }\n",
              "\n",
              "    .dataframe thead th {\n",
              "        text-align: right;\n",
              "    }\n",
              "</style>\n",
              "<table border=\"1\" class=\"dataframe\">\n",
              "  <thead>\n",
              "    <tr style=\"text-align: right;\">\n",
              "      <th></th>\n",
              "      <th>date</th>\n",
              "      <th>home_team</th>\n",
              "      <th>away_team</th>\n",
              "      <th>home_score</th>\n",
              "      <th>away_score</th>\n",
              "      <th>tournament</th>\n",
              "      <th>city</th>\n",
              "      <th>country</th>\n",
              "      <th>neutral</th>\n",
              "      <th>year</th>\n",
              "      <th>month</th>\n",
              "      <th>rank_date</th>\n",
              "      <th>home_rank</th>\n",
              "      <th>away_rank</th>\n",
              "    </tr>\n",
              "  </thead>\n",
              "  <tbody>\n",
              "    <tr>\n",
              "      <th>0</th>\n",
              "      <td>1993-08-01</td>\n",
              "      <td>Colombia</td>\n",
              "      <td>Paraguay</td>\n",
              "      <td>0</td>\n",
              "      <td>0</td>\n",
              "      <td>FIFA World Cup qualification</td>\n",
              "      <td>Barranquilla</td>\n",
              "      <td>Colombia</td>\n",
              "      <td>False</td>\n",
              "      <td>1993</td>\n",
              "      <td>8</td>\n",
              "      <td>1993-08-08</td>\n",
              "      <td>19</td>\n",
              "      <td>67</td>\n",
              "    </tr>\n",
              "    <tr>\n",
              "      <th>1</th>\n",
              "      <td>1993-08-29</td>\n",
              "      <td>Argentina</td>\n",
              "      <td>Paraguay</td>\n",
              "      <td>0</td>\n",
              "      <td>0</td>\n",
              "      <td>FIFA World Cup qualification</td>\n",
              "      <td>Buenos Aires</td>\n",
              "      <td>Argentina</td>\n",
              "      <td>False</td>\n",
              "      <td>1993</td>\n",
              "      <td>8</td>\n",
              "      <td>1993-08-08</td>\n",
              "      <td>5</td>\n",
              "      <td>67</td>\n",
              "    </tr>\n",
              "    <tr>\n",
              "      <th>2</th>\n",
              "      <td>1993-08-15</td>\n",
              "      <td>Colombia</td>\n",
              "      <td>Argentina</td>\n",
              "      <td>2</td>\n",
              "      <td>1</td>\n",
              "      <td>FIFA World Cup qualification</td>\n",
              "      <td>Barranquilla</td>\n",
              "      <td>Colombia</td>\n",
              "      <td>False</td>\n",
              "      <td>1993</td>\n",
              "      <td>8</td>\n",
              "      <td>1993-08-08</td>\n",
              "      <td>19</td>\n",
              "      <td>5</td>\n",
              "    </tr>\n",
              "  </tbody>\n",
              "</table>\n",
              "</div>"
            ],
            "text/plain": [
              "         date  home_team  away_team  ...   rank_date  home_rank away_rank\n",
              "0  1993-08-01   Colombia   Paraguay  ...  1993-08-08         19        67\n",
              "1  1993-08-29  Argentina   Paraguay  ...  1993-08-08          5        67\n",
              "2  1993-08-15   Colombia  Argentina  ...  1993-08-08         19         5\n",
              "\n",
              "[3 rows x 14 columns]"
            ]
          },
          "metadata": {
            "tags": []
          },
          "execution_count": 456
        }
      ]
    },
    {
      "cell_type": "code",
      "metadata": {
        "id": "ifjVbCpreC0Q",
        "colab_type": "code",
        "colab": {
          "base_uri": "https://localhost:8080/",
          "height": 207
        },
        "outputId": "c03c896d-e72a-46a4-c59a-78cddf8d0bc0"
      },
      "source": [
        "# Previewing the bottom of our dataset\n",
        "#\n",
        "df1.tail(3)"
      ],
      "execution_count": 457,
      "outputs": [
        {
          "output_type": "execute_result",
          "data": {
            "text/html": [
              "<div>\n",
              "<style scoped>\n",
              "    .dataframe tbody tr th:only-of-type {\n",
              "        vertical-align: middle;\n",
              "    }\n",
              "\n",
              "    .dataframe tbody tr th {\n",
              "        vertical-align: top;\n",
              "    }\n",
              "\n",
              "    .dataframe thead th {\n",
              "        text-align: right;\n",
              "    }\n",
              "</style>\n",
              "<table border=\"1\" class=\"dataframe\">\n",
              "  <thead>\n",
              "    <tr style=\"text-align: right;\">\n",
              "      <th></th>\n",
              "      <th>date</th>\n",
              "      <th>home_team</th>\n",
              "      <th>away_team</th>\n",
              "      <th>home_score</th>\n",
              "      <th>away_score</th>\n",
              "      <th>tournament</th>\n",
              "      <th>city</th>\n",
              "      <th>country</th>\n",
              "      <th>neutral</th>\n",
              "      <th>year</th>\n",
              "      <th>month</th>\n",
              "      <th>rank_date</th>\n",
              "      <th>home_rank</th>\n",
              "      <th>away_rank</th>\n",
              "    </tr>\n",
              "  </thead>\n",
              "  <tbody>\n",
              "    <tr>\n",
              "      <th>16915</th>\n",
              "      <td>2018-06-28</td>\n",
              "      <td>Japan</td>\n",
              "      <td>Poland</td>\n",
              "      <td>0</td>\n",
              "      <td>1</td>\n",
              "      <td>FIFA World Cup</td>\n",
              "      <td>Volgograd</td>\n",
              "      <td>Russia</td>\n",
              "      <td>True</td>\n",
              "      <td>2018</td>\n",
              "      <td>6</td>\n",
              "      <td>2018-06-07</td>\n",
              "      <td>61</td>\n",
              "      <td>8</td>\n",
              "    </tr>\n",
              "    <tr>\n",
              "      <th>16916</th>\n",
              "      <td>2018-06-16</td>\n",
              "      <td>Argentina</td>\n",
              "      <td>Iceland</td>\n",
              "      <td>1</td>\n",
              "      <td>1</td>\n",
              "      <td>FIFA World Cup</td>\n",
              "      <td>Moscow</td>\n",
              "      <td>Russia</td>\n",
              "      <td>True</td>\n",
              "      <td>2018</td>\n",
              "      <td>6</td>\n",
              "      <td>2018-06-07</td>\n",
              "      <td>5</td>\n",
              "      <td>22</td>\n",
              "    </tr>\n",
              "    <tr>\n",
              "      <th>16917</th>\n",
              "      <td>2018-06-22</td>\n",
              "      <td>Nigeria</td>\n",
              "      <td>Iceland</td>\n",
              "      <td>2</td>\n",
              "      <td>0</td>\n",
              "      <td>FIFA World Cup</td>\n",
              "      <td>Volgograd</td>\n",
              "      <td>Russia</td>\n",
              "      <td>True</td>\n",
              "      <td>2018</td>\n",
              "      <td>6</td>\n",
              "      <td>2018-06-07</td>\n",
              "      <td>48</td>\n",
              "      <td>22</td>\n",
              "    </tr>\n",
              "  </tbody>\n",
              "</table>\n",
              "</div>"
            ],
            "text/plain": [
              "             date  home_team away_team  ...   rank_date  home_rank away_rank\n",
              "16915  2018-06-28      Japan    Poland  ...  2018-06-07         61         8\n",
              "16916  2018-06-16  Argentina   Iceland  ...  2018-06-07          5        22\n",
              "16917  2018-06-22    Nigeria   Iceland  ...  2018-06-07         48        22\n",
              "\n",
              "[3 rows x 14 columns]"
            ]
          },
          "metadata": {
            "tags": []
          },
          "execution_count": 457
        }
      ]
    },
    {
      "cell_type": "code",
      "metadata": {
        "id": "sVWlNb_RDvwr",
        "colab_type": "code",
        "colab": {
          "base_uri": "https://localhost:8080/",
          "height": 287
        },
        "outputId": "0b32611d-73d9-4c10-8cf4-3b64d2409c21"
      },
      "source": [
        "# Taking a look at our statistical summaries\n",
        "#\n",
        "df1.describe()"
      ],
      "execution_count": 458,
      "outputs": [
        {
          "output_type": "execute_result",
          "data": {
            "text/html": [
              "<div>\n",
              "<style scoped>\n",
              "    .dataframe tbody tr th:only-of-type {\n",
              "        vertical-align: middle;\n",
              "    }\n",
              "\n",
              "    .dataframe tbody tr th {\n",
              "        vertical-align: top;\n",
              "    }\n",
              "\n",
              "    .dataframe thead th {\n",
              "        text-align: right;\n",
              "    }\n",
              "</style>\n",
              "<table border=\"1\" class=\"dataframe\">\n",
              "  <thead>\n",
              "    <tr style=\"text-align: right;\">\n",
              "      <th></th>\n",
              "      <th>home_score</th>\n",
              "      <th>away_score</th>\n",
              "      <th>year</th>\n",
              "      <th>month</th>\n",
              "      <th>home_rank</th>\n",
              "      <th>away_rank</th>\n",
              "    </tr>\n",
              "  </thead>\n",
              "  <tbody>\n",
              "    <tr>\n",
              "      <th>count</th>\n",
              "      <td>16918.000000</td>\n",
              "      <td>16918.000000</td>\n",
              "      <td>16918.000000</td>\n",
              "      <td>16918.000000</td>\n",
              "      <td>16918.000000</td>\n",
              "      <td>16918.000000</td>\n",
              "    </tr>\n",
              "    <tr>\n",
              "      <th>mean</th>\n",
              "      <td>1.603499</td>\n",
              "      <td>1.068448</td>\n",
              "      <td>2006.493675</td>\n",
              "      <td>6.874099</td>\n",
              "      <td>76.030855</td>\n",
              "      <td>78.885093</td>\n",
              "    </tr>\n",
              "    <tr>\n",
              "      <th>std</th>\n",
              "      <td>1.615346</td>\n",
              "      <td>1.244975</td>\n",
              "      <td>6.801394</td>\n",
              "      <td>3.274426</td>\n",
              "      <td>50.833921</td>\n",
              "      <td>52.039983</td>\n",
              "    </tr>\n",
              "    <tr>\n",
              "      <th>min</th>\n",
              "      <td>0.000000</td>\n",
              "      <td>0.000000</td>\n",
              "      <td>1993.000000</td>\n",
              "      <td>1.000000</td>\n",
              "      <td>1.000000</td>\n",
              "      <td>1.000000</td>\n",
              "    </tr>\n",
              "    <tr>\n",
              "      <th>25%</th>\n",
              "      <td>0.000000</td>\n",
              "      <td>0.000000</td>\n",
              "      <td>2001.000000</td>\n",
              "      <td>4.000000</td>\n",
              "      <td>33.000000</td>\n",
              "      <td>35.000000</td>\n",
              "    </tr>\n",
              "    <tr>\n",
              "      <th>50%</th>\n",
              "      <td>1.000000</td>\n",
              "      <td>1.000000</td>\n",
              "      <td>2007.000000</td>\n",
              "      <td>7.000000</td>\n",
              "      <td>70.000000</td>\n",
              "      <td>72.000000</td>\n",
              "    </tr>\n",
              "    <tr>\n",
              "      <th>75%</th>\n",
              "      <td>2.000000</td>\n",
              "      <td>2.000000</td>\n",
              "      <td>2012.000000</td>\n",
              "      <td>10.000000</td>\n",
              "      <td>112.000000</td>\n",
              "      <td>115.000000</td>\n",
              "    </tr>\n",
              "    <tr>\n",
              "      <th>max</th>\n",
              "      <td>31.000000</td>\n",
              "      <td>15.000000</td>\n",
              "      <td>2018.000000</td>\n",
              "      <td>12.000000</td>\n",
              "      <td>209.000000</td>\n",
              "      <td>209.000000</td>\n",
              "    </tr>\n",
              "  </tbody>\n",
              "</table>\n",
              "</div>"
            ],
            "text/plain": [
              "         home_score    away_score  ...     home_rank     away_rank\n",
              "count  16918.000000  16918.000000  ...  16918.000000  16918.000000\n",
              "mean       1.603499      1.068448  ...     76.030855     78.885093\n",
              "std        1.615346      1.244975  ...     50.833921     52.039983\n",
              "min        0.000000      0.000000  ...      1.000000      1.000000\n",
              "25%        0.000000      0.000000  ...     33.000000     35.000000\n",
              "50%        1.000000      1.000000  ...     70.000000     72.000000\n",
              "75%        2.000000      2.000000  ...    112.000000    115.000000\n",
              "max       31.000000     15.000000  ...    209.000000    209.000000\n",
              "\n",
              "[8 rows x 6 columns]"
            ]
          },
          "metadata": {
            "tags": []
          },
          "execution_count": 458
        }
      ]
    },
    {
      "cell_type": "markdown",
      "metadata": {
        "id": "2WH_GfCFbhrg",
        "colab_type": "text"
      },
      "source": [
        "## *4.* External Source Validation\n",
        "\n",
        ">Our dataset is correct and I have confirmed that it contains the records of data by FIFA world cup mens records shown in the link; https://www.fifa.com/fifa-world-ranking/ranking-table/men/\n"
      ]
    },
    {
      "cell_type": "markdown",
      "metadata": {
        "id": "h7BBPWvgb4_X",
        "colab_type": "text"
      },
      "source": [
        "## *5.* Tidying the Dataset\n"
      ]
    },
    {
      "cell_type": "markdown",
      "metadata": {
        "id": "u5LowEDRXzXk",
        "colab_type": "text"
      },
      "source": [
        "Tidying column names"
      ]
    },
    {
      "cell_type": "code",
      "metadata": {
        "id": "mnFRQOWTEbSt",
        "colab_type": "code",
        "colab": {
          "base_uri": "https://localhost:8080/",
          "height": 174
        },
        "outputId": "9f59d6c7-5ea3-4224-c51f-55c4d330f68c"
      },
      "source": [
        "# Data cleaning procedures, fixing column names to lower case\n",
        "#\n",
        "df1.columns= df1.columns.str.strip().str.lower().str.replace(' ','_')\n",
        "df1.head(2)"
      ],
      "execution_count": 459,
      "outputs": [
        {
          "output_type": "execute_result",
          "data": {
            "text/html": [
              "<div>\n",
              "<style scoped>\n",
              "    .dataframe tbody tr th:only-of-type {\n",
              "        vertical-align: middle;\n",
              "    }\n",
              "\n",
              "    .dataframe tbody tr th {\n",
              "        vertical-align: top;\n",
              "    }\n",
              "\n",
              "    .dataframe thead th {\n",
              "        text-align: right;\n",
              "    }\n",
              "</style>\n",
              "<table border=\"1\" class=\"dataframe\">\n",
              "  <thead>\n",
              "    <tr style=\"text-align: right;\">\n",
              "      <th></th>\n",
              "      <th>date</th>\n",
              "      <th>home_team</th>\n",
              "      <th>away_team</th>\n",
              "      <th>home_score</th>\n",
              "      <th>away_score</th>\n",
              "      <th>tournament</th>\n",
              "      <th>city</th>\n",
              "      <th>country</th>\n",
              "      <th>neutral</th>\n",
              "      <th>year</th>\n",
              "      <th>month</th>\n",
              "      <th>rank_date</th>\n",
              "      <th>home_rank</th>\n",
              "      <th>away_rank</th>\n",
              "    </tr>\n",
              "  </thead>\n",
              "  <tbody>\n",
              "    <tr>\n",
              "      <th>0</th>\n",
              "      <td>1993-08-01</td>\n",
              "      <td>Colombia</td>\n",
              "      <td>Paraguay</td>\n",
              "      <td>0</td>\n",
              "      <td>0</td>\n",
              "      <td>FIFA World Cup qualification</td>\n",
              "      <td>Barranquilla</td>\n",
              "      <td>Colombia</td>\n",
              "      <td>False</td>\n",
              "      <td>1993</td>\n",
              "      <td>8</td>\n",
              "      <td>1993-08-08</td>\n",
              "      <td>19</td>\n",
              "      <td>67</td>\n",
              "    </tr>\n",
              "    <tr>\n",
              "      <th>1</th>\n",
              "      <td>1993-08-29</td>\n",
              "      <td>Argentina</td>\n",
              "      <td>Paraguay</td>\n",
              "      <td>0</td>\n",
              "      <td>0</td>\n",
              "      <td>FIFA World Cup qualification</td>\n",
              "      <td>Buenos Aires</td>\n",
              "      <td>Argentina</td>\n",
              "      <td>False</td>\n",
              "      <td>1993</td>\n",
              "      <td>8</td>\n",
              "      <td>1993-08-08</td>\n",
              "      <td>5</td>\n",
              "      <td>67</td>\n",
              "    </tr>\n",
              "  </tbody>\n",
              "</table>\n",
              "</div>"
            ],
            "text/plain": [
              "         date  home_team away_team  ...   rank_date  home_rank away_rank\n",
              "0  1993-08-01   Colombia  Paraguay  ...  1993-08-08         19        67\n",
              "1  1993-08-29  Argentina  Paraguay  ...  1993-08-08          5        67\n",
              "\n",
              "[2 rows x 14 columns]"
            ]
          },
          "metadata": {
            "tags": []
          },
          "execution_count": 459
        }
      ]
    },
    {
      "cell_type": "code",
      "metadata": {
        "id": "KRAwBO66WrDI",
        "colab_type": "code",
        "colab": {
          "base_uri": "https://localhost:8080/",
          "height": 87
        },
        "outputId": "4395a62b-0bca-40ec-f516-137430026673"
      },
      "source": [
        "# Review column names to ensure proper naming\n",
        "df1.columns"
      ],
      "execution_count": 460,
      "outputs": [
        {
          "output_type": "execute_result",
          "data": {
            "text/plain": [
              "Index(['date', 'home_team', 'away_team', 'home_score', 'away_score',\n",
              "       'tournament', 'city', 'country', 'neutral', 'year', 'month',\n",
              "       'rank_date', 'home_rank', 'away_rank'],\n",
              "      dtype='object')"
            ]
          },
          "metadata": {
            "tags": []
          },
          "execution_count": 460
        }
      ]
    },
    {
      "cell_type": "code",
      "metadata": {
        "id": "2QCr-Z1MYupa",
        "colab_type": "code",
        "colab": {
          "base_uri": "https://localhost:8080/",
          "height": 283
        },
        "outputId": "3dda63e8-cc60-4c13-e809-df8007a4107d"
      },
      "source": [
        "# checking column data types\n",
        "df1.dtypes"
      ],
      "execution_count": 461,
      "outputs": [
        {
          "output_type": "execute_result",
          "data": {
            "text/plain": [
              "date          object\n",
              "home_team     object\n",
              "away_team     object\n",
              "home_score     int64\n",
              "away_score     int64\n",
              "tournament    object\n",
              "city          object\n",
              "country       object\n",
              "neutral         bool\n",
              "year           int64\n",
              "month          int64\n",
              "rank_date     object\n",
              "home_rank      int64\n",
              "away_rank      int64\n",
              "dtype: object"
            ]
          },
          "metadata": {
            "tags": []
          },
          "execution_count": 461
        }
      ]
    },
    {
      "cell_type": "markdown",
      "metadata": {
        "colab_type": "text",
        "id": "9UYJSehGQXx0"
      },
      "source": [
        "We will have to change the data types of objects to categorical"
      ]
    },
    {
      "cell_type": "code",
      "metadata": {
        "colab_type": "code",
        "id": "Z-KOyksqQght",
        "colab": {
          "base_uri": "https://localhost:8080/",
          "height": 301
        },
        "outputId": "e199d3ee-581b-47be-84fc-b9c0dd171cbd"
      },
      "source": [
        "# Changing the column datatypes (object) of the data we'll be using into category\n",
        "df1['tounament'] = df1.tournament.astype('category')\n",
        "df1['home_team'] = df1.home_team.astype('category')\n",
        "df1['away_team'] = df1.away_team.astype('category')\n",
        "df1.dtypes"
      ],
      "execution_count": 462,
      "outputs": [
        {
          "output_type": "execute_result",
          "data": {
            "text/plain": [
              "date            object\n",
              "home_team     category\n",
              "away_team     category\n",
              "home_score       int64\n",
              "away_score       int64\n",
              "tournament      object\n",
              "city            object\n",
              "country         object\n",
              "neutral           bool\n",
              "year             int64\n",
              "month            int64\n",
              "rank_date       object\n",
              "home_rank        int64\n",
              "away_rank        int64\n",
              "tounament     category\n",
              "dtype: object"
            ]
          },
          "metadata": {
            "tags": []
          },
          "execution_count": 462
        }
      ]
    },
    {
      "cell_type": "markdown",
      "metadata": {
        "id": "IUyFHNbAeIsL",
        "colab_type": "text"
      },
      "source": [
        "Dealing with missing values"
      ]
    },
    {
      "cell_type": "code",
      "metadata": {
        "id": "nlxQLha4f9uI",
        "colab_type": "code",
        "colab": {
          "base_uri": "https://localhost:8080/",
          "height": 265
        },
        "outputId": "c0962282-1693-4e03-8555-67367900a67c"
      },
      "source": [
        "# Identifying the Missing Data\n",
        "df.isnull().sum()"
      ],
      "execution_count": 463,
      "outputs": [
        {
          "output_type": "execute_result",
          "data": {
            "text/plain": [
              "date          0\n",
              "home_team     0\n",
              "away_team     0\n",
              "home_score    0\n",
              "away_score    0\n",
              "tournament    0\n",
              "city          0\n",
              "country       0\n",
              "neutral       0\n",
              "year          0\n",
              "month         0\n",
              "rank_date     0\n",
              "home_rank     0\n",
              "dtype: int64"
            ]
          },
          "metadata": {
            "tags": []
          },
          "execution_count": 463
        }
      ]
    },
    {
      "cell_type": "markdown",
      "metadata": {
        "id": "8WWMfvliQrNN",
        "colab_type": "text"
      },
      "source": [
        "We have no missing values"
      ]
    },
    {
      "cell_type": "markdown",
      "metadata": {
        "id": "KrTyisJAeWEZ",
        "colab_type": "text"
      },
      "source": [
        "Checking for consistency and Uniformity"
      ]
    },
    {
      "cell_type": "code",
      "metadata": {
        "id": "4A5zObwaei7Z",
        "colab_type": "code",
        "colab": {
          "base_uri": "https://localhost:8080/",
          "height": 1000
        },
        "outputId": "91c86733-e321-44d2-ecca-c123634a4fed"
      },
      "source": [
        "# Checking for unique values per column. To check for any anomalies\n",
        "for column in df1.columns:\n",
        "  print('\\n')\n",
        "  print(df1[column].nunique())\n",
        "  print(df1[column].unique())"
      ],
      "execution_count": 464,
      "outputs": [
        {
          "output_type": "stream",
          "text": [
            "\n",
            "\n",
            "4469\n",
            "['1993-08-01' '1993-08-29' '1993-08-15' ... '2018-06-14' '2018-06-15'\n",
            " '2018-06-12']\n",
            "\n",
            "\n",
            "193\n",
            "[Colombia, Argentina, Peru, Paraguay, Uruguay, ..., Chinese Taipei, CuraÃ§ao, South Sudan, Gibraltar, Kosovo]\n",
            "Length: 193\n",
            "Categories (193, object): [Colombia, Argentina, Peru, Paraguay, ..., CuraÃ§ao, South Sudan, Gibraltar,\n",
            "                           Kosovo]\n",
            "\n",
            "\n",
            "193\n",
            "[Paraguay, Argentina, Peru, Colombia, Ecuador, ..., New Caledonia, CuraÃ§ao, South Sudan, Gibraltar, Kosovo]\n",
            "Length: 193\n",
            "Categories (193, object): [Paraguay, Argentina, Peru, Colombia, ..., CuraÃ§ao, South Sudan, Gibraltar,\n",
            "                           Kosovo]\n",
            "\n",
            "\n",
            "21\n",
            "[ 0  2  1  4  7  5  3  6  8 10  9 12 13 14 16 19 11 17 31 22 15]\n",
            "\n",
            "\n",
            "14\n",
            "[ 0  1  3  5  7  2  4  8  9  6 12 10 15 13]\n",
            "\n",
            "\n",
            "65\n",
            "['FIFA World Cup qualification' 'Friendly'\n",
            " 'African Cup of Nations qualification' 'AmÃ\\xadlcar Cabral Cup'\n",
            " 'United Arab Emirates Friendship Tournament'\n",
            " 'Malta International Tournament' 'CFU Caribbean Cup qualification'\n",
            " 'African Cup of Nations' 'CFU Caribbean Cup' 'UEFA Euro qualification'\n",
            " 'Kirin Cup' 'FIFA World Cup' 'Oceania Nations Cup qualification'\n",
            " 'Baltic Cup' 'Gulf Cup' 'Simba Tournament' 'CECAFA Cup' 'Dynasty Cup'\n",
            " \"King's Cup\" 'SAFF Cup' 'Copa Paz del Chaco' 'Korea Cup' 'USA Cup'\n",
            " 'Copa AmÃ©rica' 'Merdeka Tournament' 'South Pacific Games' 'UNCAF Cup'\n",
            " 'Oceania Nations Cup' 'Windward Islands Tournament'\n",
            " 'AFC Asian Cup qualification' 'Gold Cup' 'Lunar New Year Cup'\n",
            " 'AFF Championship' 'AFC Asian Cup' 'King Hassan II Tournament'\n",
            " 'Dunhill Cup' 'Cyprus International Tournament' 'Nehru Cup' 'COSAFA Cup'\n",
            " 'Tournoi de France' 'Confederations Cup' 'UAFA Cup'\n",
            " 'Gold Cup qualification' 'UNIFFAC Cup' 'Nordic Championship'\n",
            " 'WAFF Championship' 'UEFA Euro' 'Millennium Cup' \"Prime Minister's Cup\"\n",
            " 'SKN Football Festival' 'EAFF Championship' 'AFC Challenge Cup'\n",
            " 'Copa del PacÃ\\xadfico' 'UAFA Cup qualification'\n",
            " 'AFC Challenge Cup qualification' 'African Nations Championship'\n",
            " 'VFF Cup' 'Dragon Cup' 'Nile Basin Tournament' 'Nations Cup'\n",
            " 'Pacific Games' 'ABCS Tournament' 'OSN Cup' 'Copa AmÃ©rica qualification'\n",
            " 'Intercontinental Cup']\n",
            "\n",
            "\n",
            "1341\n",
            "['Barranquilla' 'Buenos Aires' 'Lima' ... 'Ã\\x89vian-les-Bains' 'Kematen'\n",
            " 'PloieÈ\\x99ti']\n",
            "\n",
            "\n",
            "210\n",
            "['Colombia' 'Argentina' 'Peru' 'Paraguay' 'Uruguay' 'Bolivia' 'Brazil'\n",
            " 'Venezuela' 'Ecuador' 'Ivory Coast' 'Guinea' 'Faroe Islands' 'Sweden'\n",
            " 'Australia' 'Congo' 'Austria' 'Denmark' 'Estonia' 'Albania' 'Bulgaria'\n",
            " 'England' 'Norway' 'United States' 'Finland' 'Hungary' 'Iceland'\n",
            " 'Republic of Ireland' 'Northern Ireland' 'Scotland' 'Spain' 'Morocco'\n",
            " 'Saudi Arabia' 'Zimbabwe' 'Zambia' 'Romania' 'Italy' 'Tunisia' 'Belgium'\n",
            " 'Cyprus' 'France' 'Qatar' 'Algeria' 'Cameroon' 'Luxembourg' 'Israel'\n",
            " 'Germany' 'Netherlands' 'Poland' 'Portugal' 'Wales' 'Gabon'\n",
            " 'Liechtenstein' 'United Arab Emirates' 'Turkey' 'Switzerland' 'Slovakia'\n",
            " 'Greece' 'Malta' 'Gambia' 'Sierra Leone' 'French Polynesia' 'Kenya'\n",
            " 'Mexico' 'Ghana' 'Oman' 'Malawi' 'Mali' 'Cayman Islands' 'Nigeria'\n",
            " 'Angola' 'Dominican Republic' 'Egypt' 'Trinidad and Tobago' 'Kuwait'\n",
            " 'Lithuania' 'South Africa' 'Slovenia' 'Chile' 'Japan' 'Fiji'\n",
            " 'Czech Republic' 'Ukraine' 'Russia' 'Canada' 'Latvia' 'Croatia'\n",
            " 'Botswana' 'Solomon Islands' 'Armenia' 'Georgia' 'Tanzania'\n",
            " 'Burkina Faso' 'Ethiopia' 'Guinea-Bissau' 'Liberia' 'Madagascar' 'Sudan'\n",
            " 'Malaysia' 'Senegal' 'Belarus' 'Moldova' 'Mauritania' 'Namibia' 'Uganda'\n",
            " 'Mozambique' 'Niger' 'Togo' 'Lesotho' 'Grenada' 'Hong Kong' 'Thailand'\n",
            " 'New Zealand' 'Guyana' 'Sri Lanka' 'San Marino' 'South Korea' 'Mauritius'\n",
            " 'Syria' 'Jamaica' 'Indonesia' 'China PR' 'Uzbekistan' 'Panama'\n",
            " 'Nicaragua' 'Burma' 'Dominica' 'El Salvador' 'Antigua and Barbuda'\n",
            " 'Lebanon' 'Suriname' 'Azerbaijan' 'Haiti' 'Barbados' 'Tajikistan'\n",
            " 'Guatemala' 'Turkmenistan' 'Singapore' 'Kazakhstan' 'Honduras'\n",
            " 'Costa Rica' 'Vietnam' 'Benin' 'Jordan' 'Rwanda' 'Seychelles'\n",
            " 'Papua New Guinea' 'Central African Republic' 'Bosnia and Herzegovina'\n",
            " 'Tonga' 'Andorra' 'Iraq' 'Monaco' 'India' 'Cambodia' 'Bahrain' 'Aruba'\n",
            " 'Yemen' 'Pakistan' 'Iran' 'Nepal' 'Libya' 'Philippines'\n",
            " 'Saint Kitts and Nevis' 'Burundi' 'Chad' 'Equatorial Guinea'\n",
            " 'Cook Islands' 'Vanuatu' 'Bermuda' 'Eritrea' 'British Virgin Islands'\n",
            " 'Guadeloupe' 'Netherlands Antilles' 'RÃ©union' 'Macau' 'Cuba' 'Anguilla'\n",
            " 'Puerto Rico' 'Bahamas' 'Belize' 'Maldives' 'Cape Verde' 'Eswatini'\n",
            " 'Djibouti' 'Saint Martin' 'Martinique' 'Bangladesh' 'Laos' 'Samoa'\n",
            " 'Bhutan' 'Afghanistan' 'Mongolia' 'Montserrat'\n",
            " 'Saint Vincent and the Grenadines' 'Chinese Taipei' 'Serbia'\n",
            " 'U.S. Virgin Islands' 'New Caledonia' 'Montenegro' 'Comoros' 'Kyrgyzstan'\n",
            " 'Palestine' 'Guam' 'Turks and Caicos Islands' 'CuraÃ§ao' 'Saint Lucia'\n",
            " 'South Sudan' 'Kosovo' 'Tahiti' 'Gibraltar']\n",
            "\n",
            "\n",
            "2\n",
            "[False  True]\n",
            "\n",
            "\n",
            "26\n",
            "[1993 1994 1995 1996 1997 1998 1999 2000 2001 2002 2003 2004 2005 2006\n",
            " 2007 2008 2009 2010 2011 2012 2013 2014 2015 2016 2017 2018]\n",
            "\n",
            "\n",
            "12\n",
            "[ 8  9 10 11 12  2  3  4  5  6  7  1]\n",
            "\n",
            "\n",
            "284\n",
            "['1993-08-08' '1993-09-23' '1993-10-22' '1993-11-19' '1993-12-23'\n",
            " '1994-02-15' '1994-03-15' '1994-04-19' '1994-05-17' '1994-06-14'\n",
            " '1994-07-21' '1994-09-13' '1994-10-25' '1994-11-22' '1994-12-20'\n",
            " '1995-02-20' '1995-04-19' '1995-05-16' '1995-06-13' '1995-07-25'\n",
            " '1995-08-22' '1995-09-19' '1995-10-17' '1995-11-21' '1995-12-19'\n",
            " '1996-01-24' '1996-02-21' '1996-04-24' '1996-05-22' '1996-07-03'\n",
            " '1996-08-28' '1996-09-25' '1996-10-23' '1996-11-20' '1996-12-18'\n",
            " '1997-02-27' '1997-04-09' '1997-05-14' '1997-06-18' '1997-07-16'\n",
            " '1997-08-20' '1997-09-17' '1997-10-17' '1997-11-19' '1997-12-23'\n",
            " '1998-02-18' '1998-03-18' '1998-04-22' '1998-05-20' '1998-07-15'\n",
            " '1998-08-19' '1998-09-16' '1998-10-21' '1998-11-18' '1998-12-23'\n",
            " '1999-01-27' '1999-02-24' '1999-03-24' '1999-04-21' '1999-05-19'\n",
            " '1999-06-16' '1999-07-21' '1999-08-18' '1999-09-15' '1999-10-13'\n",
            " '1999-11-17' '1999-12-22' '2000-01-19' '2000-02-16' '2000-03-15'\n",
            " '2000-04-12' '2000-05-10' '2000-06-07' '2000-07-05' '2000-08-09'\n",
            " '2000-09-06' '2000-10-11' '2000-11-15' '2000-12-20' '2001-01-17'\n",
            " '2001-02-14' '2001-03-14' '2001-04-11' '2001-05-16' '2001-06-20'\n",
            " '2001-07-18' '2001-08-22' '2001-09-19' '2001-10-17' '2001-11-21'\n",
            " '2001-12-19' '2002-01-16' '2002-02-13' '2002-03-20' '2002-04-17'\n",
            " '2002-05-15' '2002-07-03' '2002-08-14' '2002-09-18' '2002-10-23'\n",
            " '2002-11-20' '2002-12-18' '2003-01-15' '2003-02-19' '2003-03-26'\n",
            " '2003-04-23' '2003-05-21' '2003-06-25' '2003-07-30' '2003-08-27'\n",
            " '2003-09-24' '2003-10-22' '2003-11-19' '2003-12-15' '2004-01-14'\n",
            " '2004-02-18' '2004-03-17' '2004-04-14' '2004-05-12' '2004-06-09'\n",
            " '2004-07-07' '2004-08-04' '2004-09-01' '2004-10-06' '2004-11-10'\n",
            " '2004-12-20' '2005-01-19' '2005-02-16' '2005-03-23' '2005-04-20'\n",
            " '2005-05-18' '2005-06-15' '2005-07-20' '2005-08-17' '2005-09-12'\n",
            " '2005-10-17' '2005-11-21' '2005-12-16' '2006-01-18' '2006-02-15'\n",
            " '2006-03-15' '2006-04-19' '2006-05-17' '2006-07-12' '2006-08-16'\n",
            " '2006-09-13' '2006-10-18' '2006-11-22' '2006-12-18' '2007-01-17'\n",
            " '2007-02-14' '2007-03-14' '2007-04-18' '2007-05-16' '2007-06-13'\n",
            " '2007-07-18' '2007-08-22' '2007-09-19' '2007-10-24' '2007-11-23'\n",
            " '2007-12-17' '2008-01-16' '2008-02-13' '2008-03-12' '2008-04-09'\n",
            " '2008-05-07' '2008-06-04' '2008-07-02' '2008-08-06' '2008-09-03'\n",
            " '2008-10-08' '2008-11-12' '2008-12-17' '2009-01-14' '2009-02-11'\n",
            " '2009-03-11' '2009-04-08' '2009-05-06' '2009-06-03' '2009-07-01'\n",
            " '2009-08-05' '2009-09-02' '2009-10-16' '2009-11-20' '2009-12-16'\n",
            " '2010-02-03' '2010-03-03' '2010-03-31' '2010-04-28' '2010-05-26'\n",
            " '2010-07-14' '2010-08-11' '2010-09-15' '2010-10-20' '2010-11-17'\n",
            " '2010-12-15' '2011-01-12' '2011-02-02' '2011-03-09' '2011-04-13'\n",
            " '2011-05-18' '2011-06-29' '2011-07-27' '2011-08-24' '2011-09-21'\n",
            " '2011-10-19' '2011-11-23' '2011-12-21' '2012-01-18' '2012-02-15'\n",
            " '2012-03-07' '2012-04-11' '2012-05-09' '2012-06-06' '2012-07-04'\n",
            " '2012-08-08' '2012-09-05' '2012-10-03' '2012-11-07' '2012-12-19'\n",
            " '2013-01-17' '2013-02-14' '2013-03-14' '2013-04-11' '2013-05-09'\n",
            " '2013-06-06' '2013-07-04' '2013-08-08' '2013-09-12' '2013-10-17'\n",
            " '2013-11-28' '2013-12-19' '2014-01-16' '2014-02-13' '2014-03-13'\n",
            " '2014-04-10' '2014-05-08' '2014-06-05' '2014-07-17' '2014-08-14'\n",
            " '2014-09-18' '2014-10-23' '2014-11-27' '2014-12-18' '2015-01-08'\n",
            " '2015-02-12' '2015-03-12' '2015-05-07' '2015-06-04' '2015-07-09'\n",
            " '2015-08-06' '2015-09-03' '2015-10-01' '2015-11-05' '2015-12-03'\n",
            " '2016-01-07' '2016-02-04' '2016-03-03' '2016-05-05' '2016-06-02'\n",
            " '2016-07-14' '2016-08-11' '2016-09-15' '2016-10-20' '2016-11-24'\n",
            " '2016-12-22' '2017-01-12' '2017-02-09' '2017-03-09' '2017-04-06'\n",
            " '2017-05-04' '2017-06-01' '2017-07-06' '2017-08-10' '2017-09-14'\n",
            " '2017-10-16' '2017-11-23' '2017-12-21' '2018-01-18' '2018-02-15'\n",
            " '2018-03-15' '2018-04-12' '2018-05-17' '2018-06-07']\n",
            "\n",
            "\n",
            "209\n",
            "[ 19   5  70  67  22  59   8  94  35  58  65 111   4  52 107  38  10  12\n",
            "   1  41  15 117  73  91  37   3  16  50  48  49   9  40  28  14  32  44\n",
            "  47  27  20 118  34  30  24  75  18  46  64  31 106  66  11   6  23  98\n",
            " 157  55  61  17  56  36  60  51 146  85  42  26 120   7 153 132  63  84\n",
            "  62 138  74 125  76  80  83 134  68 140  69  25 124  54   2  13 116  78\n",
            "  53 139 110  43  95  87  57  92  39 113  93  29 148 155 168 159 158  89\n",
            " 150  90 112 119 126 103  72 128 100 154  45  79  71 129  21 141 121  81\n",
            " 137 101 135  97 109 151 122  33  86 127 108 145 104 102 147 144 115 136\n",
            " 161 149  88  82 105 156 114 123 133  96  77 170  99 167 169 163 142 162\n",
            " 165 178 160 183 179 130 143 181 152 176 177 187 164 186 172 171 182 173\n",
            " 189 193 184 131 180 166 196 191 195 192 185 188 201 190 174 202 194 197\n",
            " 203 175 200 204 198 199 206 207 208 209 205]\n",
            "\n",
            "\n",
            "209\n",
            "[ 67   5  70  19  35   8  94  25  22  14  59  86   9   3  12  46  65  47\n",
            "  84  15  53  21   2  55   4  11  20   7 110  87  10  52  41  38  57  60\n",
            "  23  71  13  54  66  95 120  44  16  43  36  34  42  17  29  24  45  75\n",
            "  50  63 119  89 106  85  56  31 109 130  49   6 144  62 153 132 107  98\n",
            " 131   1  26  32  74  28  58  33 134  30  76 113  61 147  73  90  80 125\n",
            "  48 117 136 139 160 103  69  51  39  96 102 146  88 142 158  79  72 126\n",
            "  83 161 168 111 108 118 101  27 114 135  40 151  78 156 150 115 116 105\n",
            "  64 121 141 133  18  93 169 175  97  92 128 100 137  37 127 149 123  77\n",
            "  81  82  99  68 124  91 145 177 167 154 170 129 112 157 173 165 163 162\n",
            " 180 166 143 104 182 178 183 164 152 188 122 171 186 184 181 176 179 172\n",
            " 140 148 190 159 155 189 193 174 138 185 194 196 187 191 200 202 201 192\n",
            " 195 199 203 197 204 198 207 205 206 208 209]\n",
            "\n",
            "\n",
            "65\n",
            "[FIFA World Cup qualification, Friendly, African Cup of Nations qualification, AmÃ­lcar Cabral Cup, United Arab Emirates Friendship Tournament, ..., Pacific Games, ABCS Tournament, OSN Cup, Copa AmÃ©rica qualification, Intercontinental Cup]\n",
            "Length: 65\n",
            "Categories (65, object): [FIFA World Cup qualification, Friendly, African Cup of Nations qualification,\n",
            "                          AmÃ­lcar Cabral Cup, ..., ABCS Tournament, OSN Cup, Copa AmÃ©rica qualification,\n",
            "                          Intercontinental Cup]\n"
          ],
          "name": "stdout"
        }
      ]
    },
    {
      "cell_type": "markdown",
      "metadata": {
        "id": "_TAMo8mFSIsj",
        "colab_type": "text"
      },
      "source": [
        "From my observation, the tournament column has 104 possibilities"
      ]
    },
    {
      "cell_type": "markdown",
      "metadata": {
        "id": "QfPcFMhTTF8W",
        "colab_type": "text"
      },
      "source": [
        "Creating a new column for wins, draws and losses."
      ]
    },
    {
      "cell_type": "code",
      "metadata": {
        "id": "BV3wXOJms7D2",
        "colab_type": "code",
        "colab": {}
      },
      "source": [
        "# First create a new column that takes our scores so that we are able to figure if it's a win(>=1) or a loss (<0), draw(0)\n",
        "df1['score']= df1['home_score']-df1['away_score']"
      ],
      "execution_count": 465,
      "outputs": []
    },
    {
      "cell_type": "code",
      "metadata": {
        "id": "rhnZzS4ftuTf",
        "colab_type": "code",
        "colab": {
          "base_uri": "https://localhost:8080/",
          "height": 257
        },
        "outputId": "e822334b-4bfe-4bc4-893a-288ebe55f692"
      },
      "source": [
        "# Create a for loop to feed into a new column called results\n",
        "outcome = [] \n",
        "# For each row in the column \n",
        "for score in df1['score']:        \n",
        "    if score >= 1:                   # if home score is greater than away score\n",
        "        outcome.append('win') \n",
        "    elif score < 0:                  # if away score is greater than home score\n",
        "        outcome.append(\"lose\") \n",
        "    else: \n",
        "        outcome.append(\"draw\") \n",
        "  \n",
        "# Create a column from the list \n",
        "df1['home_results'] = outcome \n",
        "df1.head(3)                             \t"
      ],
      "execution_count": 466,
      "outputs": [
        {
          "output_type": "execute_result",
          "data": {
            "text/html": [
              "<div>\n",
              "<style scoped>\n",
              "    .dataframe tbody tr th:only-of-type {\n",
              "        vertical-align: middle;\n",
              "    }\n",
              "\n",
              "    .dataframe tbody tr th {\n",
              "        vertical-align: top;\n",
              "    }\n",
              "\n",
              "    .dataframe thead th {\n",
              "        text-align: right;\n",
              "    }\n",
              "</style>\n",
              "<table border=\"1\" class=\"dataframe\">\n",
              "  <thead>\n",
              "    <tr style=\"text-align: right;\">\n",
              "      <th></th>\n",
              "      <th>date</th>\n",
              "      <th>home_team</th>\n",
              "      <th>away_team</th>\n",
              "      <th>home_score</th>\n",
              "      <th>away_score</th>\n",
              "      <th>tournament</th>\n",
              "      <th>city</th>\n",
              "      <th>country</th>\n",
              "      <th>neutral</th>\n",
              "      <th>year</th>\n",
              "      <th>month</th>\n",
              "      <th>rank_date</th>\n",
              "      <th>home_rank</th>\n",
              "      <th>away_rank</th>\n",
              "      <th>tounament</th>\n",
              "      <th>score</th>\n",
              "      <th>home_results</th>\n",
              "    </tr>\n",
              "  </thead>\n",
              "  <tbody>\n",
              "    <tr>\n",
              "      <th>0</th>\n",
              "      <td>1993-08-01</td>\n",
              "      <td>Colombia</td>\n",
              "      <td>Paraguay</td>\n",
              "      <td>0</td>\n",
              "      <td>0</td>\n",
              "      <td>FIFA World Cup qualification</td>\n",
              "      <td>Barranquilla</td>\n",
              "      <td>Colombia</td>\n",
              "      <td>False</td>\n",
              "      <td>1993</td>\n",
              "      <td>8</td>\n",
              "      <td>1993-08-08</td>\n",
              "      <td>19</td>\n",
              "      <td>67</td>\n",
              "      <td>FIFA World Cup qualification</td>\n",
              "      <td>0</td>\n",
              "      <td>draw</td>\n",
              "    </tr>\n",
              "    <tr>\n",
              "      <th>1</th>\n",
              "      <td>1993-08-29</td>\n",
              "      <td>Argentina</td>\n",
              "      <td>Paraguay</td>\n",
              "      <td>0</td>\n",
              "      <td>0</td>\n",
              "      <td>FIFA World Cup qualification</td>\n",
              "      <td>Buenos Aires</td>\n",
              "      <td>Argentina</td>\n",
              "      <td>False</td>\n",
              "      <td>1993</td>\n",
              "      <td>8</td>\n",
              "      <td>1993-08-08</td>\n",
              "      <td>5</td>\n",
              "      <td>67</td>\n",
              "      <td>FIFA World Cup qualification</td>\n",
              "      <td>0</td>\n",
              "      <td>draw</td>\n",
              "    </tr>\n",
              "    <tr>\n",
              "      <th>2</th>\n",
              "      <td>1993-08-15</td>\n",
              "      <td>Colombia</td>\n",
              "      <td>Argentina</td>\n",
              "      <td>2</td>\n",
              "      <td>1</td>\n",
              "      <td>FIFA World Cup qualification</td>\n",
              "      <td>Barranquilla</td>\n",
              "      <td>Colombia</td>\n",
              "      <td>False</td>\n",
              "      <td>1993</td>\n",
              "      <td>8</td>\n",
              "      <td>1993-08-08</td>\n",
              "      <td>19</td>\n",
              "      <td>5</td>\n",
              "      <td>FIFA World Cup qualification</td>\n",
              "      <td>1</td>\n",
              "      <td>win</td>\n",
              "    </tr>\n",
              "  </tbody>\n",
              "</table>\n",
              "</div>"
            ],
            "text/plain": [
              "         date  home_team  ... score  home_results\n",
              "0  1993-08-01   Colombia  ...     0          draw\n",
              "1  1993-08-29  Argentina  ...     0          draw\n",
              "2  1993-08-15   Colombia  ...     1           win\n",
              "\n",
              "[3 rows x 17 columns]"
            ]
          },
          "metadata": {
            "tags": []
          },
          "execution_count": 466
        }
      ]
    },
    {
      "cell_type": "markdown",
      "metadata": {
        "id": "Rp8hPp2YvxUn",
        "colab_type": "text"
      },
      "source": [
        "The new column called home results contains information on whether the home team won, lost or got a draw."
      ]
    },
    {
      "cell_type": "code",
      "metadata": {
        "id": "Lfk4UnNM_yEg",
        "colab_type": "code",
        "colab": {}
      },
      "source": [
        "# We can now drop the column score\n",
        "df1.drop(['score'],axis=1,inplace=True)"
      ],
      "execution_count": 467,
      "outputs": []
    },
    {
      "cell_type": "markdown",
      "metadata": {
        "id": "vYKFESYqgnDY",
        "colab_type": "text"
      },
      "source": [
        "Checking for outliers"
      ]
    },
    {
      "cell_type": "code",
      "metadata": {
        "id": "oenRsPBWRtlz",
        "colab_type": "code",
        "colab": {
          "base_uri": "https://localhost:8080/",
          "height": 898
        },
        "outputId": "b2b22bf1-e8a6-4cda-eb1b-9b35fa207afc"
      },
      "source": [
        "# Checking for outliers\n",
        "fig, ((ax1),(ax2), (ax3),(ax4)) = plt.subplots(4 ,figsize=(10, 13))\n",
        "fig.suptitle('Boxplots')\n",
        "print('\\n')\n",
        "sns.boxplot(df1['home_score'], ax=ax1, color='maroon')\n",
        "sns.boxplot(df1['away_score'], ax=ax2, color='maroon')\n",
        "sns.boxplot(df1['home_rank'], ax=ax3, color='maroon')\n",
        "sns.boxplot(df1['away_rank'], ax=ax4, color='maroon')\n",
        "\n",
        "\n",
        "plt.show()"
      ],
      "execution_count": 468,
      "outputs": [
        {
          "output_type": "stream",
          "text": [
            "\n",
            "\n"
          ],
          "name": "stdout"
        },
        {
          "output_type": "display_data",
          "data": {
            "image/png": "[encoded data removed]",
            "text/plain": [
              "<Figure size 720x936 with 4 Axes>"
            ]
          },
          "metadata": {
            "tags": [],
            "needs_background": "light"
          }
        }
      ]
    },
    {
      "cell_type": "markdown",
      "metadata": {
        "id": "sPYkS9NILy8E",
        "colab_type": "text"
      },
      "source": [
        "There are scores that are way beyond 20 for home score and 30 for away score, which appears not to be normal to get such high scores. I will therefore remove the outliers."
      ]
    },
    {
      "cell_type": "code",
      "metadata": {
        "id": "R403rD9C_DYz",
        "colab_type": "code",
        "colab": {
          "base_uri": "https://localhost:8080/",
          "height": 1000
        },
        "outputId": "b4d1eddf-f173-43ec-d7cd-0b790e59f262"
      },
      "source": [
        "#  Removing outliers using percentile based outlier removal giving a threshold of 20\n",
        "def percentile_based_outlier(df1, threshold=20):\n",
        "    diff = (100 - threshold) / 2\n",
        "    minval, maxval = np.percentile(df1, [diff, 100 - diff])\n",
        "    return (df1 < minval) | (df1 > maxval)\n",
        "\n",
        "col_names = ['home_score','away_score']\n",
        "\n",
        "fig, ax = plt.subplots(len(col_names), figsize=(8,40))\n",
        "\n",
        "for i, col_val in enumerate(col_names):\n",
        "    x = df [col_val][:1000]\n",
        "    sns.distplot(x, ax=ax[i], rug=True, hist=False)\n",
        "    outliers = x[percentile_based_outlier(x)]\n",
        "    ax[i].plot(outliers, np.zeros_like(outliers), 'ro', clip_on=False)\n",
        "\n",
        "    ax[i].set_title('Outlier detection - {}'.format(col_val), fontsize=10)\n",
        "    ax[i].set_xlabel(col_val, fontsize=8)\n",
        "\n",
        "plt.show()\n",
        "# The values marked with a dot below in the x-axis of the graph have been removed from the column based on the set threshold percentile."
      ],
      "execution_count": 469,
      "outputs": [
        {
          "output_type": "display_data",
          "data": {
            "image/png": "[encoded data removed]",
            "text/plain": [
              "<Figure size 576x2880 with 2 Axes>"
            ]
          },
          "metadata": {
            "tags": [],
            "needs_background": "light"
          }
        }
      ]
    },
    {
      "cell_type": "markdown",
      "metadata": {
        "id": "rLi2pKu-PTe9",
        "colab_type": "text"
      },
      "source": [
        "We have successfully removed our outliers"
      ]
    },
    {
      "cell_type": "markdown",
      "metadata": {
        "id": "ZsCpzhGQb9eS",
        "colab_type": "text"
      },
      "source": [
        "## *6.* Exploratory Analysis\n",
        "\n",
        "\n"
      ]
    },
    {
      "cell_type": "markdown",
      "metadata": {
        "id": "yj4Cvp9VDEVb",
        "colab_type": "text"
      },
      "source": [
        "### Univariate analysis"
      ]
    },
    {
      "cell_type": "markdown",
      "metadata": {
        "id": "P-40tm1fCH3I",
        "colab_type": "text"
      },
      "source": [
        "**Measures of central tendancy**"
      ]
    },
    {
      "cell_type": "code",
      "metadata": {
        "id": "59Xn7ClQCc8H",
        "colab_type": "code",
        "colab": {}
      },
      "source": [
        "# Creating a list with my column names to make it easier to create a for loop\n",
        "all_columns= list(df1.columns)\n",
        "all_columns.remove('home_team')\n",
        "all_columns.remove('away_team')\n",
        "all_columns.remove('tournament')\n",
        "all_columns.remove('tounament')\n",
        "all_columns.remove('date')\n",
        "all_columns.remove('city')\n",
        "all_columns.remove('home_results')\n",
        "all_columns.remove('country')\n",
        "all_columns.remove('neutral')\n",
        "all_columns.remove('year')\n",
        "all_columns.remove('month')\n",
        "all_columns.remove('rank_date')\n",
        "\n",
        "\n",
        "\n",
        "#\n",
        "columns= list(df1.columns)\n",
        "columns.remove('home_score')\t\n",
        "columns.remove('away_score')\n",
        "columns.remove('home_rank') \n",
        "columns.remove('away_rank') \n"
      ],
      "execution_count": 470,
      "outputs": []
    },
    {
      "cell_type": "code",
      "metadata": {
        "id": "EKRAdXHCHRTv",
        "colab_type": "code",
        "colab": {
          "base_uri": "https://localhost:8080/",
          "height": 87
        },
        "outputId": "14ba8e90-b620-4a3f-fa71-ac67a9a650c0"
      },
      "source": [
        "df1.columns"
      ],
      "execution_count": 471,
      "outputs": [
        {
          "output_type": "execute_result",
          "data": {
            "text/plain": [
              "Index(['date', 'home_team', 'away_team', 'home_score', 'away_score',\n",
              "       'tournament', 'city', 'country', 'neutral', 'year', 'month',\n",
              "       'rank_date', 'home_rank', 'away_rank', 'tounament', 'home_results'],\n",
              "      dtype='object')"
            ]
          },
          "metadata": {
            "tags": []
          },
          "execution_count": 471
        }
      ]
    },
    {
      "cell_type": "markdown",
      "metadata": {
        "id": "yimKCvyxR3aj",
        "colab_type": "text"
      },
      "source": [
        "We have separated the numerical from the categorical columns to ease performing our Exploratory analysis."
      ]
    },
    {
      "cell_type": "code",
      "metadata": {
        "id": "Z_uYoDT6_tx_",
        "colab_type": "code",
        "colab": {
          "base_uri": "https://localhost:8080/",
          "height": 230
        },
        "outputId": "7dd07dcb-f19a-4864-c3da-5234dc200ab0"
      },
      "source": [
        "# Getting the mean\n",
        "for column in all_columns:\n",
        "  print('\\n')\n",
        "  print(column+ ':'+ str(df1[column].mean()))\n",
        "  "
      ],
      "execution_count": 472,
      "outputs": [
        {
          "output_type": "stream",
          "text": [
            "\n",
            "\n",
            "home_score:1.6034992315876582\n",
            "\n",
            "\n",
            "away_score:1.0684478070693935\n",
            "\n",
            "\n",
            "home_rank:76.03085471095874\n",
            "\n",
            "\n",
            "away_rank:78.88509280056745\n"
          ],
          "name": "stdout"
        }
      ]
    },
    {
      "cell_type": "markdown",
      "metadata": {
        "id": "YVH5LXxOSK97",
        "colab_type": "text"
      },
      "source": [
        "The averages(sum of total divide by number of entries) is 76.03 for home rank, 78.885 for away rank and 1.60 for home score and 1.06 for away score."
      ]
    },
    {
      "cell_type": "code",
      "metadata": {
        "id": "r-rB42FHJ6CN",
        "colab_type": "code",
        "colab": {
          "base_uri": "https://localhost:8080/",
          "height": 230
        },
        "outputId": "28486090-83e4-4ffd-fc5c-0c6eea5baf9b"
      },
      "source": [
        "#Getting the median\n",
        "for column in all_columns:\n",
        "  print('\\n')\n",
        "  print(column+ ':'+ str(df1[column].median()))"
      ],
      "execution_count": 473,
      "outputs": [
        {
          "output_type": "stream",
          "text": [
            "\n",
            "\n",
            "home_score:1.0\n",
            "\n",
            "\n",
            "away_score:1.0\n",
            "\n",
            "\n",
            "home_rank:70.0\n",
            "\n",
            "\n",
            "away_rank:72.0\n"
          ],
          "name": "stdout"
        }
      ]
    },
    {
      "cell_type": "markdown",
      "metadata": {
        "id": "EUETj1K0Skzd",
        "colab_type": "text"
      },
      "source": [
        "The center most character in home rank is 70, home_score is 1  away score is 1 and away rank is also 1."
      ]
    },
    {
      "cell_type": "code",
      "metadata": {
        "id": "3DYg5ut9L8l6",
        "colab_type": "code",
        "colab": {
          "base_uri": "https://localhost:8080/",
          "height": 301
        },
        "outputId": "6c4b3b3a-fd52-4815-a3d4-c863225bd320"
      },
      "source": [
        "# Getting the mode\n",
        "for column in all_columns:\n",
        "  print('\\n')\n",
        "  print(column+ ':'+ str(df1[column].mode()))"
      ],
      "execution_count": 474,
      "outputs": [
        {
          "output_type": "stream",
          "text": [
            "\n",
            "\n",
            "home_score:0    1\n",
            "dtype: int64\n",
            "\n",
            "\n",
            "away_score:0    0\n",
            "dtype: int64\n",
            "\n",
            "\n",
            "home_rank:0    5\n",
            "dtype: int64\n",
            "\n",
            "\n",
            "away_rank:0    1\n",
            "dtype: int64\n"
          ],
          "name": "stdout"
        }
      ]
    },
    {
      "cell_type": "markdown",
      "metadata": {
        "id": "CIVBSi2XS-1h",
        "colab_type": "text"
      },
      "source": [
        "* The most frequently occuring number in rank is rank number two. \n",
        "* While the most frequently occuring home score is 1 this could mean that most home players score a 1. \n",
        "* The most frequent away score is zero, meaning most visiting teams score a zero."
      ]
    },
    {
      "cell_type": "code",
      "metadata": {
        "id": "k5cndXOIMG0l",
        "colab_type": "code",
        "colab": {
          "base_uri": "https://localhost:8080/",
          "height": 230
        },
        "outputId": "2a2a94d7-065f-4fe3-d078-b3a58e5ac6c5"
      },
      "source": [
        "# Getting the standard deviation\n",
        "for column in all_columns:\n",
        "  print('\\n')\n",
        "  print(column+ ':'+ str(df1[column].std()))"
      ],
      "execution_count": 475,
      "outputs": [
        {
          "output_type": "stream",
          "text": [
            "\n",
            "\n",
            "home_score:1.615346409751321\n",
            "\n",
            "\n",
            "away_score:1.2449754175225636\n",
            "\n",
            "\n",
            "home_rank:50.83392056182147\n",
            "\n",
            "\n",
            "away_rank:52.03998343474385\n"
          ],
          "name": "stdout"
        }
      ]
    },
    {
      "cell_type": "markdown",
      "metadata": {
        "id": "Fvichx-ZTy7M",
        "colab_type": "text"
      },
      "source": [
        "Standard deviation means a variance from the mean. From our values;\n",
        "* The SD for home rank and away rank is 50.89, 52.03 respectrively which is a high SD. This means that there is a large difference in values from the mean value.\n",
        "* The SD for home_score is 1.73 which is not too large nor too small. This means that most values surround the mean value\n",
        "* The SD for away score is also not so high (1.38)"
      ]
    },
    {
      "cell_type": "code",
      "metadata": {
        "id": "WmmNKLHTNGkr",
        "colab_type": "code",
        "colab": {
          "base_uri": "https://localhost:8080/",
          "height": 230
        },
        "outputId": "a299e6bf-d977-40d1-c762-67e18a79e499"
      },
      "source": [
        "# Getting the range of each numerical column\n",
        "#\n",
        "def calculating_range(column):\n",
        "  maximum= df1[column].max()\n",
        "  minimum=df1[column].min()\n",
        "  column_range= maximum-minimum\n",
        "  return column_range\n",
        "\n",
        "for column in all_columns:\n",
        "  print('\\n')\n",
        "  print(column+ ':'+ str(calculating_range(column)))"
      ],
      "execution_count": 476,
      "outputs": [
        {
          "output_type": "stream",
          "text": [
            "\n",
            "\n",
            "home_score:31\n",
            "\n",
            "\n",
            "away_score:15\n",
            "\n",
            "\n",
            "home_rank:208\n",
            "\n",
            "\n",
            "away_rank:208\n"
          ],
          "name": "stdout"
        }
      ]
    },
    {
      "cell_type": "markdown",
      "metadata": {
        "id": "pl9RyHaWUr-M",
        "colab_type": "text"
      },
      "source": [
        "Range means distance between the highest and the lowest variable. For our variables;\n",
        "* home rank and away rank is 208, the data is largely distributed.\n",
        "* Home score is 31, the data is fairly distributed.\n",
        "* Away score is 21, the data is fairly distributed."
      ]
    },
    {
      "cell_type": "code",
      "metadata": {
        "id": "-Y0YBk1tOWGz",
        "colab_type": "code",
        "colab": {
          "base_uri": "https://localhost:8080/",
          "height": 443
        },
        "outputId": "6be540d2-0a5c-4e70-eb7f-8f9765abba88"
      },
      "source": [
        "# Interquartile range\n",
        "for column in all_columns:\n",
        "  print('\\n')\n",
        "  print(df1[column].quantile([0.25,0.5,0.75]))"
      ],
      "execution_count": 477,
      "outputs": [
        {
          "output_type": "stream",
          "text": [
            "\n",
            "\n",
            "0.25    0.0\n",
            "0.50    1.0\n",
            "0.75    2.0\n",
            "Name: home_score, dtype: float64\n",
            "\n",
            "\n",
            "0.25    0.0\n",
            "0.50    1.0\n",
            "0.75    2.0\n",
            "Name: away_score, dtype: float64\n",
            "\n",
            "\n",
            "0.25     33.0\n",
            "0.50     70.0\n",
            "0.75    112.0\n",
            "Name: home_rank, dtype: float64\n",
            "\n",
            "\n",
            "0.25     35.0\n",
            "0.50     72.0\n",
            "0.75    115.0\n",
            "Name: away_rank, dtype: float64\n"
          ],
          "name": "stdout"
        }
      ]
    },
    {
      "cell_type": "markdown",
      "metadata": {
        "id": "UXPt5onFVuYN",
        "colab_type": "text"
      },
      "source": [
        "* The first quartile(0.25); is the median of the lower half of the data set this means that about 25% of the numbers in the data set lie below (25-rank), (1-home score) and (0-away score)\n",
        "* Second quartile(0.50) ; the middle part of the dataset. \n",
        "* Third quartile (0.75);is the median of the upper half of the data set.\n",
        "ranges are listed above this means that aout 25% of the numbers lie above (112-home rank),(115-away rank) ,(2-home score) and (2-away score)"
      ]
    },
    {
      "cell_type": "code",
      "metadata": {
        "id": "P8d3rohuPCHS",
        "colab_type": "code",
        "colab": {
          "base_uri": "https://localhost:8080/",
          "height": 301
        },
        "outputId": "19e5cf99-594a-43fb-d153-05b551b000e3"
      },
      "source": [
        "# Getting the Skewness and Kurtosis\n",
        "for column in all_columns:\n",
        "  print('\\n')\n",
        "  print(column+ ', Skewness: '+str(df1[column].skew()))\n",
        "  print(column+ ', Kurtosis: '+str(df1[column].kurt()))"
      ],
      "execution_count": 478,
      "outputs": [
        {
          "output_type": "stream",
          "text": [
            "\n",
            "\n",
            "home_score, Skewness: 2.3244564775459584\n",
            "home_score, Kurtosis: 15.247160628124611\n",
            "\n",
            "\n",
            "away_score, Skewness: 1.9280549163452845\n",
            "away_score, Kurtosis: 7.164492375335959\n",
            "\n",
            "\n",
            "home_rank, Skewness: 0.4475146957161348\n",
            "home_rank, Kurtosis: -0.6875680175102317\n",
            "\n",
            "\n",
            "away_rank, Skewness: 0.4468430525812443\n",
            "away_rank, Kurtosis: -0.7090374322163808\n"
          ],
          "name": "stdout"
        }
      ]
    },
    {
      "cell_type": "markdown",
      "metadata": {
        "id": "PSka8HbaX1KS",
        "colab_type": "text"
      },
      "source": [
        "*Skewness is a measure of a dataset’s symmetry.A perfectly symmetrical data set will have a skewness of 0.* From our dataset, \n",
        "\n",
        "* ranks seems to almost have a symetrical as it is closest to zero (0.447) but both home score and away score are positively skewed, meaning most numbers lie to the right of the x axis.\n",
        "\n",
        "*“The kurtosis parameter is a measure of the combined weight of the tails relative to the rest of the distribution.”- Dr Wheeler*.  From our dataset;\n",
        "\n",
        "* Rank has a kurtosis closer to zero, meaning it's tail is fairly distributed to the rest of the dataset.\n",
        "Home score and away score both have  positive Kursosis meaning they have a larger tail compared to the rest of the dataset.\n",
        "\n",
        "We will visualize this using the histograms below.\n",
        "\n",
        "\n",
        "\n"
      ]
    },
    {
      "cell_type": "markdown",
      "metadata": {
        "id": "My-xibk3QXTo",
        "colab_type": "text"
      },
      "source": [
        "**Histograms**"
      ]
    },
    {
      "cell_type": "code",
      "metadata": {
        "id": "CvFLjZnwQcS7",
        "colab_type": "code",
        "colab": {
          "base_uri": "https://localhost:8080/",
          "height": 297
        },
        "outputId": "5cef785a-7f19-4cb6-cdc8-334e40668beb"
      },
      "source": [
        "# Plotting a histogram for away score\n",
        "sns.distplot(df1['home_score'], kde = False, color = 'maroon')"
      ],
      "execution_count": 479,
      "outputs": [
        {
          "output_type": "execute_result",
          "data": {
            "text/plain": [
              "<matplotlib.axes._subplots.AxesSubplot at 0x7f64a45ffd68>"
            ]
          },
          "metadata": {
            "tags": []
          },
          "execution_count": 479
        },
        {
          "output_type": "display_data",
          "data": {
            "image/png": "[encoded data removed]",
            "text/plain": [
              "<Figure size 432x288 with 1 Axes>"
            ]
          },
          "metadata": {
            "tags": [],
            "needs_background": "light"
          }
        }
      ]
    },
    {
      "cell_type": "markdown",
      "metadata": {
        "id": "pR9asjMgasyC",
        "colab_type": "text"
      },
      "source": [
        "As shown above, the histogram of home score shows that the values are more to the right of the x axis  and there are many numbers as well on the bottom part causing a peak."
      ]
    },
    {
      "cell_type": "code",
      "metadata": {
        "id": "_-922Kj8R5EG",
        "colab_type": "code",
        "colab": {
          "base_uri": "https://localhost:8080/",
          "height": 298
        },
        "outputId": "666f398f-d954-45da-8638-2e613c1ac512"
      },
      "source": [
        "# Plotting a histogram for away score\n",
        "sns.distplot(df1['away_score'], kde = False, color = 'maroon')\n",
        "# The histogram shows that our data is skewed to the right implying that most data falls to the right, or positive side, of the graph's peak. and highly peaked."
      ],
      "execution_count": 480,
      "outputs": [
        {
          "output_type": "execute_result",
          "data": {
            "text/plain": [
              "<matplotlib.axes._subplots.AxesSubplot at 0x7f64a355a9e8>"
            ]
          },
          "metadata": {
            "tags": []
          },
          "execution_count": 480
        },
        {
          "output_type": "display_data",
          "data": {
            "image/png": "[encoded data removed]",
            "text/plain": [
              "<Figure size 432x288 with 1 Axes>"
            ]
          },
          "metadata": {
            "tags": [],
            "needs_background": "light"
          }
        }
      ]
    },
    {
      "cell_type": "markdown",
      "metadata": {
        "id": "O_Gs8cqLbnS0",
        "colab_type": "text"
      },
      "source": [
        "As shown above, the histogram of away score shows that the values are more to the right of the x axis and there are many numbers as well on the bottom part causing a peak"
      ]
    },
    {
      "cell_type": "code",
      "metadata": {
        "id": "zRdABqr4bKq_",
        "colab_type": "code",
        "colab": {
          "base_uri": "https://localhost:8080/",
          "height": 297
        },
        "outputId": "59513a1e-2fbd-46e9-93f4-28142204c377"
      },
      "source": [
        "# Plotting a histogram for home rank\n",
        "sns.distplot(df1['home_rank'], kde = False, color = 'maroon')"
      ],
      "execution_count": 481,
      "outputs": [
        {
          "output_type": "execute_result",
          "data": {
            "text/plain": [
              "<matplotlib.axes._subplots.AxesSubplot at 0x7f64a3509b38>"
            ]
          },
          "metadata": {
            "tags": []
          },
          "execution_count": 481
        },
        {
          "output_type": "display_data",
          "data": {
            "image/png": "[encoded data removed]",
            "text/plain": [
              "<Figure size 432x288 with 1 Axes>"
            ]
          },
          "metadata": {
            "tags": [],
            "needs_background": "light"
          }
        }
      ]
    },
    {
      "cell_type": "markdown",
      "metadata": {
        "id": "6TVcdNMzbs9-",
        "colab_type": "text"
      },
      "source": [
        "The histogram above shows that our home rank data is fairly distributed and it seams thet the highly ranked (top ten)teams participated more than the lowly ranked(200's)"
      ]
    },
    {
      "cell_type": "code",
      "metadata": {
        "id": "wUiExQVgLUN8",
        "colab_type": "code",
        "colab": {
          "base_uri": "https://localhost:8080/",
          "height": 301
        },
        "outputId": "8434b409-48b8-44d7-e892-7ff1c4775e18"
      },
      "source": [
        "# Plotting a histogram for away rank\n",
        "sns.distplot(df1['away_rank'], kde = False, color = 'maroon')"
      ],
      "execution_count": 482,
      "outputs": [
        {
          "output_type": "execute_result",
          "data": {
            "text/plain": [
              "<matplotlib.axes._subplots.AxesSubplot at 0x7f64a33bca58>"
            ]
          },
          "metadata": {
            "tags": []
          },
          "execution_count": 482
        },
        {
          "output_type": "display_data",
          "data": {
            "image/png": "[encoded data removed]",
            "text/plain": [
              "<Figure size 432x288 with 1 Axes>"
            ]
          },
          "metadata": {
            "tags": [],
            "needs_background": "light"
          }
        }
      ]
    },
    {
      "cell_type": "markdown",
      "metadata": {
        "id": "_uPMK6y9LbYW",
        "colab_type": "text"
      },
      "source": [
        "The distribution is quite similar to that of home rank"
      ]
    },
    {
      "cell_type": "markdown",
      "metadata": {
        "id": "ziCEqwFkbqo_",
        "colab_type": "text"
      },
      "source": [
        "**Distribution plot**"
      ]
    },
    {
      "cell_type": "code",
      "metadata": {
        "id": "1n66NuURbxax",
        "colab_type": "code",
        "colab": {
          "base_uri": "https://localhost:8080/",
          "height": 297
        },
        "outputId": "5e573477-a180-4168-96e2-50381cbc31df"
      },
      "source": [
        "# A plot showing both a line and histogram graph for home score\n",
        "sns.distplot(df1['home_score'],color='maroon', bins=10)"
      ],
      "execution_count": 483,
      "outputs": [
        {
          "output_type": "execute_result",
          "data": {
            "text/plain": [
              "<matplotlib.axes._subplots.AxesSubplot at 0x7f64a32da9b0>"
            ]
          },
          "metadata": {
            "tags": []
          },
          "execution_count": 483
        },
        {
          "output_type": "display_data",
          "data": {
            "image/png": "[encoded data removed]",
            "text/plain": [
              "<Figure size 432x288 with 1 Axes>"
            ]
          },
          "metadata": {
            "tags": [],
            "needs_background": "light"
          }
        }
      ]
    },
    {
      "cell_type": "markdown",
      "metadata": {
        "id": "51awXl09cr28",
        "colab_type": "text"
      },
      "source": [
        "The distribution between scores is very low."
      ]
    },
    {
      "cell_type": "code",
      "metadata": {
        "id": "GiuZ5nxOb9yV",
        "colab_type": "code",
        "colab": {
          "base_uri": "https://localhost:8080/",
          "height": 296
        },
        "outputId": "f7d154a6-11f4-4102-fdae-1e563ab7be54"
      },
      "source": [
        "# A plot showing both a line and histogram graph for away score\n",
        "sns.distplot(df1['away_score'],color='maroon',bins=10)"
      ],
      "execution_count": 484,
      "outputs": [
        {
          "output_type": "execute_result",
          "data": {
            "text/plain": [
              "<matplotlib.axes._subplots.AxesSubplot at 0x7f64a3334a20>"
            ]
          },
          "metadata": {
            "tags": []
          },
          "execution_count": 484
        },
        {
          "output_type": "display_data",
          "data": {
            "image/png": "[encoded data removed]",
            "text/plain": [
              "<Figure size 432x288 with 1 Axes>"
            ]
          },
          "metadata": {
            "tags": [],
            "needs_background": "light"
          }
        }
      ]
    },
    {
      "cell_type": "markdown",
      "metadata": {
        "id": "Kx65u7Jdc_9x",
        "colab_type": "text"
      },
      "source": [
        "The distribution between scores is very low."
      ]
    },
    {
      "cell_type": "code",
      "metadata": {
        "id": "rF1WEm8wdIIH",
        "colab_type": "code",
        "colab": {
          "base_uri": "https://localhost:8080/",
          "height": 297
        },
        "outputId": "18185076-13c3-4cb0-e126-439388ca8718"
      },
      "source": [
        "# A plot showing both a line and histogram graph for home rank\n",
        "sns.distplot(df1['home_rank'],color='maroon',bins=10)"
      ],
      "execution_count": 485,
      "outputs": [
        {
          "output_type": "execute_result",
          "data": {
            "text/plain": [
              "<matplotlib.axes._subplots.AxesSubplot at 0x7f64a319c3c8>"
            ]
          },
          "metadata": {
            "tags": []
          },
          "execution_count": 485
        },
        {
          "output_type": "display_data",
          "data": {
            "image/png": "[encoded data removed]",
            "text/plain": [
              "<Figure size 432x288 with 1 Axes>"
            ]
          },
          "metadata": {
            "tags": [],
            "needs_background": "light"
          }
        }
      ]
    },
    {
      "cell_type": "markdown",
      "metadata": {
        "id": "GkRsBA1TSjZv",
        "colab_type": "text"
      },
      "source": [
        "**Bar graphs**"
      ]
    },
    {
      "cell_type": "code",
      "metadata": {
        "id": "z_i9Vzh4TLCM",
        "colab_type": "code",
        "colab": {
          "base_uri": "https://localhost:8080/",
          "height": 404
        },
        "outputId": "6d11611e-bb44-4092-dbe1-37a82b4016c4"
      },
      "source": [
        "# Getting the frequency of the bluecars both in the weekend and weekday\n",
        "import matplotlib.colors as mcolors\n",
        "plt.figure(figsize=(10,6))\n",
        "sns.countplot(df1['home_results'], palette='PuRd' )\n",
        "plt.title('Number of times home team wins, draws or looses')\n",
        "plt.show()\n"
      ],
      "execution_count": 486,
      "outputs": [
        {
          "output_type": "display_data",
          "data": {
            "image/png": "[encoded data removed]",
            "text/plain": [
              "<Figure size 720x432 with 1 Axes>"
            ]
          },
          "metadata": {
            "tags": [],
            "needs_background": "light"
          }
        }
      ]
    },
    {
      "cell_type": "markdown",
      "metadata": {
        "id": "wHdASAQohiF2",
        "colab_type": "text"
      },
      "source": [
        "Wins have the highest count followed by losses then draws. This could mean that If a home team plays it wins more times than it loses or draws."
      ]
    },
    {
      "cell_type": "code",
      "metadata": {
        "id": "Xk4D5dAKMoto",
        "colab_type": "code",
        "colab": {}
      },
      "source": [
        "# To show top ten active countries in football records\n",
        "country_count=df1['country'].value_counts()[:10]"
      ],
      "execution_count": 487,
      "outputs": []
    },
    {
      "cell_type": "code",
      "metadata": {
        "id": "gmiX8jOoOH6X",
        "colab_type": "code",
        "colab": {
          "base_uri": "https://localhost:8080/",
          "height": 621
        },
        "outputId": "55628d40-3726-43ea-b05d-dc03c0808c1c"
      },
      "source": [
        "plt.figure(figsize=(15,10))\n",
        "sns.barplot(country_count.index, country_count.values, palette='binary_r',alpha=0.8)\n",
        "plt.title('Football in top 10 countries in the World')\n",
        "plt.ylabel('Number of Occurrences', fontsize=12)\n",
        "plt.xlabel('country', fontsize=10)\n",
        "plt.show()"
      ],
      "execution_count": 488,
      "outputs": [
        {
          "output_type": "display_data",
          "data": {
            "image/png": "[encoded data removed]",
            "text/plain": [
              "<Figure size 1080x720 with 1 Axes>"
            ]
          },
          "metadata": {
            "tags": [],
            "needs_background": "light"
          }
        }
      ]
    },
    {
      "cell_type": "markdown",
      "metadata": {
        "id": "CVKaM2Q0PpYH",
        "colab_type": "text"
      },
      "source": [
        "The most active country that hosts football matches is USA and France"
      ]
    },
    {
      "cell_type": "code",
      "metadata": {
        "id": "60lnSggvQk4l",
        "colab_type": "code",
        "colab": {
          "base_uri": "https://localhost:8080/",
          "height": 123
        },
        "outputId": "e048eb88-e0a7-4e89-db4b-493a18eea6f3"
      },
      "source": [
        "# To show top ten active cities in hosting football matches records\n",
        "city_count=df1['city'].value_counts()[:5]\n",
        "city_count"
      ],
      "execution_count": 489,
      "outputs": [
        {
          "output_type": "execute_result",
          "data": {
            "text/plain": [
              "Doha           254\n",
              "Muscat         176\n",
              "Bangkok        160\n",
              "Kuwait City    148\n",
              "London         142\n",
              "Name: city, dtype: int64"
            ]
          },
          "metadata": {
            "tags": []
          },
          "execution_count": 489
        }
      ]
    },
    {
      "cell_type": "code",
      "metadata": {
        "id": "DqCGEP0PP6kU",
        "colab_type": "code",
        "colab": {
          "base_uri": "https://localhost:8080/",
          "height": 483
        },
        "outputId": "5b71c845-3952-416b-949e-c0790592cd31"
      },
      "source": [
        "# To show top 5 tounaments in football\n",
        "plt.figure(figsize=(20,8))\n",
        "sns.barplot(city_count.index, city_count.values, palette='Wistia')\n",
        "plt.title('Top 5 cities in the world to host matches over the years')\n",
        "plt.ylabel('Number of Occurrences', fontsize=12)\n",
        "plt.xlabel('city', fontsize=12, )\n",
        "plt.show()"
      ],
      "execution_count": 490,
      "outputs": [
        {
          "output_type": "display_data",
          "data": {
            "image/png": "[encoded data removed]",
            "text/plain": [
              "<Figure size 1440x576 with 1 Axes>"
            ]
          },
          "metadata": {
            "tags": [],
            "needs_background": "light"
          }
        }
      ]
    },
    {
      "cell_type": "markdown",
      "metadata": {
        "id": "dHB9fp_dSn4I",
        "colab_type": "text"
      },
      "source": [
        "The most frequent city to host matches in the world is Doha"
      ]
    },
    {
      "cell_type": "code",
      "metadata": {
        "id": "nj9F-aIASwj3",
        "colab_type": "code",
        "colab": {
          "base_uri": "https://localhost:8080/",
          "height": 483
        },
        "outputId": "fa5f4ef5-f8f9-4764-d8a5-2f4fdb8025ea"
      },
      "source": [
        "# To show top 5 most active year in football\n",
        "year_count=df1['year'].value_counts()[:5]\n",
        "plt.figure(figsize=(20,8))\n",
        "sns.barplot(year_count.index, year_count.values, palette='bone')\n",
        "plt.title('Top 5 most active years in football')\n",
        "plt.ylabel('Number of Occurrences', fontsize=12)\n",
        "plt.xlabel('year', fontsize=12, )\n",
        "plt.show()"
      ],
      "execution_count": 491,
      "outputs": [
        {
          "output_type": "display_data",
          "data": {
            "image/png": "[encoded data removed]",
            "text/plain": [
              "<Figure size 1440x576 with 1 Axes>"
            ]
          },
          "metadata": {
            "tags": [],
            "needs_background": "light"
          }
        }
      ]
    },
    {
      "cell_type": "markdown",
      "metadata": {
        "id": "SaSa7mNHUyUK",
        "colab_type": "text"
      },
      "source": [
        "The most active years in football is 2004,2006 and 2011"
      ]
    },
    {
      "cell_type": "code",
      "metadata": {
        "id": "GVCdbmzzVZbi",
        "colab_type": "code",
        "colab": {
          "base_uri": "https://localhost:8080/",
          "height": 123
        },
        "outputId": "a8a1a039-be93-452a-c3fd-9fef5182a341"
      },
      "source": [
        "# To show top 5 most active month in football\n",
        "month_count=df1['month'].value_counts()[:5]\n",
        "month_count"
      ],
      "execution_count": 492,
      "outputs": [
        {
          "output_type": "execute_result",
          "data": {
            "text/plain": [
              "6     2424\n",
              "10    2113\n",
              "9     2044\n",
              "11    1827\n",
              "3     1791\n",
              "Name: month, dtype: int64"
            ]
          },
          "metadata": {
            "tags": []
          },
          "execution_count": 492
        }
      ]
    },
    {
      "cell_type": "code",
      "metadata": {
        "id": "njN5ph0yVAeA",
        "colab_type": "code",
        "colab": {
          "base_uri": "https://localhost:8080/",
          "height": 481
        },
        "outputId": "884f9de4-a418-4583-f761-81db4c90fa14"
      },
      "source": [
        "# To show top 5 most active month in football\n",
        "#\n",
        "plt.figure(figsize=(20,8))\n",
        "sns.barplot(month_count.index, month_count.values, palette='hsv')\n",
        "plt.title('Top 5 most active months in football')\n",
        "plt.ylabel('Number of Occurrences', fontsize=12)\n",
        "plt.xlabel('month', fontsize=12, )\n",
        "plt.show()"
      ],
      "execution_count": 493,
      "outputs": [
        {
          "output_type": "display_data",
          "data": {
            "image/png": "[encoded data removed]",
            "text/plain": [
              "<Figure size 1440x576 with 1 Axes>"
            ]
          },
          "metadata": {
            "tags": [],
            "needs_background": "light"
          }
        }
      ]
    },
    {
      "cell_type": "markdown",
      "metadata": {
        "id": "63OTJVKNV-IZ",
        "colab_type": "text"
      },
      "source": [
        "The most active month in football is June"
      ]
    },
    {
      "cell_type": "markdown",
      "metadata": {
        "id": "nDN0BhVtHipp",
        "colab_type": "text"
      },
      "source": [
        "### Bivariate analysis"
      ]
    },
    {
      "cell_type": "code",
      "metadata": {
        "id": "QGt9uS5pYT1y",
        "colab_type": "code",
        "colab": {
          "base_uri": "https://localhost:8080/",
          "height": 257
        },
        "outputId": "a2d9b26a-3f7d-45c9-f628-42af9301aba7"
      },
      "source": [
        "# Showing correlation using a correlation table\n",
        "df1.corr()"
      ],
      "execution_count": 494,
      "outputs": [
        {
          "output_type": "execute_result",
          "data": {
            "text/html": [
              "<div>\n",
              "<style scoped>\n",
              "    .dataframe tbody tr th:only-of-type {\n",
              "        vertical-align: middle;\n",
              "    }\n",
              "\n",
              "    .dataframe tbody tr th {\n",
              "        vertical-align: top;\n",
              "    }\n",
              "\n",
              "    .dataframe thead th {\n",
              "        text-align: right;\n",
              "    }\n",
              "</style>\n",
              "<table border=\"1\" class=\"dataframe\">\n",
              "  <thead>\n",
              "    <tr style=\"text-align: right;\">\n",
              "      <th></th>\n",
              "      <th>home_score</th>\n",
              "      <th>away_score</th>\n",
              "      <th>neutral</th>\n",
              "      <th>year</th>\n",
              "      <th>month</th>\n",
              "      <th>home_rank</th>\n",
              "      <th>away_rank</th>\n",
              "    </tr>\n",
              "  </thead>\n",
              "  <tbody>\n",
              "    <tr>\n",
              "      <th>home_score</th>\n",
              "      <td>1.000000</td>\n",
              "      <td>-0.163511</td>\n",
              "      <td>-0.041964</td>\n",
              "      <td>-0.038876</td>\n",
              "      <td>0.018926</td>\n",
              "      <td>-0.134957</td>\n",
              "      <td>0.318973</td>\n",
              "    </tr>\n",
              "    <tr>\n",
              "      <th>away_score</th>\n",
              "      <td>-0.163511</td>\n",
              "      <td>1.000000</td>\n",
              "      <td>0.100566</td>\n",
              "      <td>-0.007844</td>\n",
              "      <td>0.017847</td>\n",
              "      <td>0.221346</td>\n",
              "      <td>-0.180216</td>\n",
              "    </tr>\n",
              "    <tr>\n",
              "      <th>neutral</th>\n",
              "      <td>-0.041964</td>\n",
              "      <td>0.100566</td>\n",
              "      <td>1.000000</td>\n",
              "      <td>0.043249</td>\n",
              "      <td>-0.104834</td>\n",
              "      <td>0.036853</td>\n",
              "      <td>0.047078</td>\n",
              "    </tr>\n",
              "    <tr>\n",
              "      <th>year</th>\n",
              "      <td>-0.038876</td>\n",
              "      <td>-0.007844</td>\n",
              "      <td>0.043249</td>\n",
              "      <td>1.000000</td>\n",
              "      <td>-0.002130</td>\n",
              "      <td>0.104121</td>\n",
              "      <td>0.105293</td>\n",
              "    </tr>\n",
              "    <tr>\n",
              "      <th>month</th>\n",
              "      <td>0.018926</td>\n",
              "      <td>0.017847</td>\n",
              "      <td>-0.104834</td>\n",
              "      <td>-0.002130</td>\n",
              "      <td>1.000000</td>\n",
              "      <td>0.029029</td>\n",
              "      <td>0.030256</td>\n",
              "    </tr>\n",
              "    <tr>\n",
              "      <th>home_rank</th>\n",
              "      <td>-0.134957</td>\n",
              "      <td>0.221346</td>\n",
              "      <td>0.036853</td>\n",
              "      <td>0.104121</td>\n",
              "      <td>0.029029</td>\n",
              "      <td>1.000000</td>\n",
              "      <td>0.469861</td>\n",
              "    </tr>\n",
              "    <tr>\n",
              "      <th>away_rank</th>\n",
              "      <td>0.318973</td>\n",
              "      <td>-0.180216</td>\n",
              "      <td>0.047078</td>\n",
              "      <td>0.105293</td>\n",
              "      <td>0.030256</td>\n",
              "      <td>0.469861</td>\n",
              "      <td>1.000000</td>\n",
              "    </tr>\n",
              "  </tbody>\n",
              "</table>\n",
              "</div>"
            ],
            "text/plain": [
              "            home_score  away_score   neutral  ...     month  home_rank  away_rank\n",
              "home_score    1.000000   -0.163511 -0.041964  ...  0.018926  -0.134957   0.318973\n",
              "away_score   -0.163511    1.000000  0.100566  ...  0.017847   0.221346  -0.180216\n",
              "neutral      -0.041964    0.100566  1.000000  ... -0.104834   0.036853   0.047078\n",
              "year         -0.038876   -0.007844  0.043249  ... -0.002130   0.104121   0.105293\n",
              "month         0.018926    0.017847 -0.104834  ...  1.000000   0.029029   0.030256\n",
              "home_rank    -0.134957    0.221346  0.036853  ...  0.029029   1.000000   0.469861\n",
              "away_rank     0.318973   -0.180216  0.047078  ...  0.030256   0.469861   1.000000\n",
              "\n",
              "[7 rows x 7 columns]"
            ]
          },
          "metadata": {
            "tags": []
          },
          "execution_count": 494
        }
      ]
    },
    {
      "cell_type": "code",
      "metadata": {
        "id": "71Bn0mgwYvCb",
        "colab_type": "code",
        "colab": {
          "base_uri": "https://localhost:8080/",
          "height": 487
        },
        "outputId": "65d7a514-bd28-4751-dea8-cbf900715eae"
      },
      "source": [
        "# Showing correlation using a heatmap\n",
        "plt.figure(figsize=(20,8))\n",
        "sns.heatmap(df1.corr(),annot=True)\n",
        "plt.show()"
      ],
      "execution_count": 495,
      "outputs": [
        {
          "output_type": "display_data",
          "data": {
            "image/png": "[encoded data removed]",
            "text/plain": [
              "<Figure size 1440x576 with 2 Axes>"
            ]
          },
          "metadata": {
            "tags": [],
            "needs_background": "light"
          }
        }
      ]
    },
    {
      "cell_type": "markdown",
      "metadata": {
        "id": "YBu8rCihcgNk",
        "colab_type": "text"
      },
      "source": [
        "* There is a low positive relationship between home rank and away rank.\n",
        "* There is a low negative relation between away rank and away score."
      ]
    },
    {
      "cell_type": "code",
      "metadata": {
        "id": "JM2LAKMMYtU8",
        "colab_type": "code",
        "colab": {
          "base_uri": "https://localhost:8080/",
          "height": 492
        },
        "outputId": "ed80561a-bef3-4ffb-9c50-742788ab0e38"
      },
      "source": [
        "# Show how home scores have been performing over the years\n",
        "g=sns.relplot(x='year',y='home_score',data=df1, kind='line', sort= True,ci=False)\n",
        "g.fig.set_figwidth(8.27)\n",
        "g.fig.set_figheight(7)"
      ],
      "execution_count": 496,
      "outputs": [
        {
          "output_type": "display_data",
          "data": {
            "image/png": "[encoded data removed]",
            "text/plain": [
              "<Figure size 595.44x504 with 1 Axes>"
            ]
          },
          "metadata": {
            "tags": [],
            "needs_background": "light"
          }
        }
      ]
    },
    {
      "cell_type": "markdown",
      "metadata": {
        "id": "3gOcFtgcZ0I7",
        "colab_type": "text"
      },
      "source": [
        "The home score values have been dropping since 2015"
      ]
    },
    {
      "cell_type": "code",
      "metadata": {
        "id": "Yk0sl9SxZaYt",
        "colab_type": "code",
        "colab": {
          "base_uri": "https://localhost:8080/",
          "height": 492
        },
        "outputId": "21714405-97b2-4a78-c509-ba16cd2dd187"
      },
      "source": [
        "# Show how away scores have been performing over the years\n",
        "h=sns.relplot(x='year',y='away_score',data=df1, kind='line', sort= True,ci=False)\n",
        "h.fig.set_figwidth(8.27)\n",
        "h.fig.set_figheight(7)"
      ],
      "execution_count": 497,
      "outputs": [
        {
          "output_type": "display_data",
          "data": {
            "image/png": "[encoded data removed]",
            "text/plain": [
              "<Figure size 595.44x504 with 1 Axes>"
            ]
          },
          "metadata": {
            "tags": [],
            "needs_background": "light"
          }
        }
      ]
    },
    {
      "cell_type": "markdown",
      "metadata": {
        "id": "y1ct27g_a_aJ",
        "colab_type": "text"
      },
      "source": [
        "Away scores experienced a substancial drop between 2005 and 2010"
      ]
    },
    {
      "cell_type": "markdown",
      "metadata": {
        "id": "YzhZTEwwudHB",
        "colab_type": "text"
      },
      "source": [
        "## **Machine Learning**\n",
        "\n"
      ]
    },
    {
      "cell_type": "code",
      "metadata": {
        "id": "p01618insDof",
        "colab_type": "code",
        "colab": {
          "base_uri": "https://localhost:8080/",
          "height": 107
        },
        "outputId": "b89a9225-4651-49ad-fb7b-bdf50e73c434"
      },
      "source": [
        "# Get columns we will be using\n",
        "df2= df1[['home_team','away_team','home_rank','away_rank','home_score','away_score','tournament','home_results','year']]\n",
        "df2.head(2)"
      ],
      "execution_count": 498,
      "outputs": [
        {
          "output_type": "execute_result",
          "data": {
            "text/html": [
              "<div>\n",
              "<style scoped>\n",
              "    .dataframe tbody tr th:only-of-type {\n",
              "        vertical-align: middle;\n",
              "    }\n",
              "\n",
              "    .dataframe tbody tr th {\n",
              "        vertical-align: top;\n",
              "    }\n",
              "\n",
              "    .dataframe thead th {\n",
              "        text-align: right;\n",
              "    }\n",
              "</style>\n",
              "<table border=\"1\" class=\"dataframe\">\n",
              "  <thead>\n",
              "    <tr style=\"text-align: right;\">\n",
              "      <th></th>\n",
              "      <th>home_team</th>\n",
              "      <th>away_team</th>\n",
              "      <th>home_rank</th>\n",
              "      <th>away_rank</th>\n",
              "      <th>home_score</th>\n",
              "      <th>away_score</th>\n",
              "      <th>tournament</th>\n",
              "      <th>home_results</th>\n",
              "      <th>year</th>\n",
              "    </tr>\n",
              "  </thead>\n",
              "  <tbody>\n",
              "    <tr>\n",
              "      <th>0</th>\n",
              "      <td>Colombia</td>\n",
              "      <td>Paraguay</td>\n",
              "      <td>19</td>\n",
              "      <td>67</td>\n",
              "      <td>0</td>\n",
              "      <td>0</td>\n",
              "      <td>FIFA World Cup qualification</td>\n",
              "      <td>draw</td>\n",
              "      <td>1993</td>\n",
              "    </tr>\n",
              "    <tr>\n",
              "      <th>1</th>\n",
              "      <td>Argentina</td>\n",
              "      <td>Paraguay</td>\n",
              "      <td>5</td>\n",
              "      <td>67</td>\n",
              "      <td>0</td>\n",
              "      <td>0</td>\n",
              "      <td>FIFA World Cup qualification</td>\n",
              "      <td>draw</td>\n",
              "      <td>1993</td>\n",
              "    </tr>\n",
              "  </tbody>\n",
              "</table>\n",
              "</div>"
            ],
            "text/plain": [
              "   home_team away_team  ...  home_results  year\n",
              "0   Colombia  Paraguay  ...          draw  1993\n",
              "1  Argentina  Paraguay  ...          draw  1993\n",
              "\n",
              "[2 rows x 9 columns]"
            ]
          },
          "metadata": {
            "tags": []
          },
          "execution_count": 498
        }
      ]
    },
    {
      "cell_type": "code",
      "metadata": {
        "id": "9djE6rdOzj9o",
        "colab_type": "code",
        "colab": {
          "base_uri": "https://localhost:8080/",
          "height": 197
        },
        "outputId": "0914fc30-ede7-4b41-a233-2539bbc91ef9"
      },
      "source": [
        "# Testing for multicollinearity\n",
        "# First test the correlations\n",
        "correlations = df2.corr()\n",
        "correlations"
      ],
      "execution_count": 499,
      "outputs": [
        {
          "output_type": "execute_result",
          "data": {
            "text/html": [
              "<div>\n",
              "<style scoped>\n",
              "    .dataframe tbody tr th:only-of-type {\n",
              "        vertical-align: middle;\n",
              "    }\n",
              "\n",
              "    .dataframe tbody tr th {\n",
              "        vertical-align: top;\n",
              "    }\n",
              "\n",
              "    .dataframe thead th {\n",
              "        text-align: right;\n",
              "    }\n",
              "</style>\n",
              "<table border=\"1\" class=\"dataframe\">\n",
              "  <thead>\n",
              "    <tr style=\"text-align: right;\">\n",
              "      <th></th>\n",
              "      <th>home_rank</th>\n",
              "      <th>away_rank</th>\n",
              "      <th>home_score</th>\n",
              "      <th>away_score</th>\n",
              "      <th>year</th>\n",
              "    </tr>\n",
              "  </thead>\n",
              "  <tbody>\n",
              "    <tr>\n",
              "      <th>home_rank</th>\n",
              "      <td>1.000000</td>\n",
              "      <td>0.469861</td>\n",
              "      <td>-0.134957</td>\n",
              "      <td>0.221346</td>\n",
              "      <td>0.104121</td>\n",
              "    </tr>\n",
              "    <tr>\n",
              "      <th>away_rank</th>\n",
              "      <td>0.469861</td>\n",
              "      <td>1.000000</td>\n",
              "      <td>0.318973</td>\n",
              "      <td>-0.180216</td>\n",
              "      <td>0.105293</td>\n",
              "    </tr>\n",
              "    <tr>\n",
              "      <th>home_score</th>\n",
              "      <td>-0.134957</td>\n",
              "      <td>0.318973</td>\n",
              "      <td>1.000000</td>\n",
              "      <td>-0.163511</td>\n",
              "      <td>-0.038876</td>\n",
              "    </tr>\n",
              "    <tr>\n",
              "      <th>away_score</th>\n",
              "      <td>0.221346</td>\n",
              "      <td>-0.180216</td>\n",
              "      <td>-0.163511</td>\n",
              "      <td>1.000000</td>\n",
              "      <td>-0.007844</td>\n",
              "    </tr>\n",
              "    <tr>\n",
              "      <th>year</th>\n",
              "      <td>0.104121</td>\n",
              "      <td>0.105293</td>\n",
              "      <td>-0.038876</td>\n",
              "      <td>-0.007844</td>\n",
              "      <td>1.000000</td>\n",
              "    </tr>\n",
              "  </tbody>\n",
              "</table>\n",
              "</div>"
            ],
            "text/plain": [
              "            home_rank  away_rank  home_score  away_score      year\n",
              "home_rank    1.000000   0.469861   -0.134957    0.221346  0.104121\n",
              "away_rank    0.469861   1.000000    0.318973   -0.180216  0.105293\n",
              "home_score  -0.134957   0.318973    1.000000   -0.163511 -0.038876\n",
              "away_score   0.221346  -0.180216   -0.163511    1.000000 -0.007844\n",
              "year         0.104121   0.105293   -0.038876   -0.007844  1.000000"
            ]
          },
          "metadata": {
            "tags": []
          },
          "execution_count": 499
        }
      ]
    },
    {
      "cell_type": "code",
      "metadata": {
        "id": "bCET77jlz3KW",
        "colab_type": "code",
        "colab": {
          "base_uri": "https://localhost:8080/",
          "height": 197
        },
        "outputId": "93035197-2cc0-453b-8889-ae6eafab9a20"
      },
      "source": [
        "# Check the VIF score of each variable diagonally\n",
        "pd.DataFrame(np.linalg.inv(correlations.values), index = correlations.index, columns=correlations.columns)\n"
      ],
      "execution_count": 500,
      "outputs": [
        {
          "output_type": "execute_result",
          "data": {
            "text/html": [
              "<div>\n",
              "<style scoped>\n",
              "    .dataframe tbody tr th:only-of-type {\n",
              "        vertical-align: middle;\n",
              "    }\n",
              "\n",
              "    .dataframe tbody tr th {\n",
              "        vertical-align: top;\n",
              "    }\n",
              "\n",
              "    .dataframe thead th {\n",
              "        text-align: right;\n",
              "    }\n",
              "</style>\n",
              "<table border=\"1\" class=\"dataframe\">\n",
              "  <thead>\n",
              "    <tr style=\"text-align: right;\">\n",
              "      <th></th>\n",
              "      <th>home_rank</th>\n",
              "      <th>away_rank</th>\n",
              "      <th>home_score</th>\n",
              "      <th>away_score</th>\n",
              "      <th>year</th>\n",
              "    </tr>\n",
              "  </thead>\n",
              "  <tbody>\n",
              "    <tr>\n",
              "      <th>home_rank</th>\n",
              "      <td>1.638699</td>\n",
              "      <td>-0.995566</td>\n",
              "      <td>0.460302</td>\n",
              "      <td>-0.467277</td>\n",
              "      <td>-0.051568</td>\n",
              "    </tr>\n",
              "    <tr>\n",
              "      <th>away_rank</th>\n",
              "      <td>-0.995566</td>\n",
              "      <td>1.756958</td>\n",
              "      <td>-0.627872</td>\n",
              "      <td>0.433531</td>\n",
              "      <td>-0.102344</td>\n",
              "    </tr>\n",
              "    <tr>\n",
              "      <th>home_score</th>\n",
              "      <td>0.460302</td>\n",
              "      <td>-0.627872</td>\n",
              "      <td>1.263721</td>\n",
              "      <td>-0.007879</td>\n",
              "      <td>0.067249</td>\n",
              "    </tr>\n",
              "    <tr>\n",
              "      <th>away_score</th>\n",
              "      <td>-0.467277</td>\n",
              "      <td>0.433531</td>\n",
              "      <td>-0.007879</td>\n",
              "      <td>1.180365</td>\n",
              "      <td>0.011959</td>\n",
              "    </tr>\n",
              "    <tr>\n",
              "      <th>year</th>\n",
              "      <td>-0.051568</td>\n",
              "      <td>-0.102344</td>\n",
              "      <td>0.067249</td>\n",
              "      <td>0.011959</td>\n",
              "      <td>1.018854</td>\n",
              "    </tr>\n",
              "  </tbody>\n",
              "</table>\n",
              "</div>"
            ],
            "text/plain": [
              "            home_rank  away_rank  home_score  away_score      year\n",
              "home_rank    1.638699  -0.995566    0.460302   -0.467277 -0.051568\n",
              "away_rank   -0.995566   1.756958   -0.627872    0.433531 -0.102344\n",
              "home_score   0.460302  -0.627872    1.263721   -0.007879  0.067249\n",
              "away_score  -0.467277   0.433531   -0.007879    1.180365  0.011959\n",
              "year        -0.051568  -0.102344    0.067249    0.011959  1.018854"
            ]
          },
          "metadata": {
            "tags": []
          },
          "execution_count": 500
        }
      ]
    },
    {
      "cell_type": "markdown",
      "metadata": {
        "id": "Z2hDZz9E0Krb",
        "colab_type": "text"
      },
      "source": [
        "There is no multicollinearity because the highest VIF is 1.7466 whuch is waay below the indicator of multicollinearity which is VIF=5"
      ]
    },
    {
      "cell_type": "markdown",
      "metadata": {
        "id": "SapzRNQH46xs",
        "colab_type": "text"
      },
      "source": [
        "### Polynomial regression\n",
        "Predict how many goals the home team scores"
      ]
    },
    {
      "cell_type": "code",
      "metadata": {
        "id": "kvR0LP175Efk",
        "colab_type": "code",
        "colab": {
          "base_uri": "https://localhost:8080/",
          "height": 197
        },
        "outputId": "519aa9d5-3e93-4dcb-cad0-376fdeb71a8d"
      },
      "source": [
        "df3= df2[['home_rank', 'away_rank','home_score']]\n",
        "df3.head()"
      ],
      "execution_count": 501,
      "outputs": [
        {
          "output_type": "execute_result",
          "data": {
            "text/html": [
              "<div>\n",
              "<style scoped>\n",
              "    .dataframe tbody tr th:only-of-type {\n",
              "        vertical-align: middle;\n",
              "    }\n",
              "\n",
              "    .dataframe tbody tr th {\n",
              "        vertical-align: top;\n",
              "    }\n",
              "\n",
              "    .dataframe thead th {\n",
              "        text-align: right;\n",
              "    }\n",
              "</style>\n",
              "<table border=\"1\" class=\"dataframe\">\n",
              "  <thead>\n",
              "    <tr style=\"text-align: right;\">\n",
              "      <th></th>\n",
              "      <th>home_rank</th>\n",
              "      <th>away_rank</th>\n",
              "      <th>home_score</th>\n",
              "    </tr>\n",
              "  </thead>\n",
              "  <tbody>\n",
              "    <tr>\n",
              "      <th>0</th>\n",
              "      <td>19</td>\n",
              "      <td>67</td>\n",
              "      <td>0</td>\n",
              "    </tr>\n",
              "    <tr>\n",
              "      <th>1</th>\n",
              "      <td>5</td>\n",
              "      <td>67</td>\n",
              "      <td>0</td>\n",
              "    </tr>\n",
              "    <tr>\n",
              "      <th>2</th>\n",
              "      <td>19</td>\n",
              "      <td>5</td>\n",
              "      <td>2</td>\n",
              "    </tr>\n",
              "    <tr>\n",
              "      <th>3</th>\n",
              "      <td>70</td>\n",
              "      <td>5</td>\n",
              "      <td>0</td>\n",
              "    </tr>\n",
              "    <tr>\n",
              "      <th>4</th>\n",
              "      <td>67</td>\n",
              "      <td>5</td>\n",
              "      <td>1</td>\n",
              "    </tr>\n",
              "  </tbody>\n",
              "</table>\n",
              "</div>"
            ],
            "text/plain": [
              "   home_rank  away_rank  home_score\n",
              "0         19         67           0\n",
              "1          5         67           0\n",
              "2         19          5           2\n",
              "3         70          5           0\n",
              "4         67          5           1"
            ]
          },
          "metadata": {
            "tags": []
          },
          "execution_count": 501
        }
      ]
    },
    {
      "cell_type": "code",
      "metadata": {
        "id": "WBg5KywJ22G-",
        "colab_type": "code",
        "colab": {}
      },
      "source": [
        "# selecting x and y\n",
        "x=df3.iloc[:,:-1].values\n",
        "y=df3.iloc[:,2].values"
      ],
      "execution_count": 502,
      "outputs": []
    },
    {
      "cell_type": "code",
      "metadata": {
        "id": "iZrmKDhRVlgT",
        "colab_type": "code",
        "colab": {}
      },
      "source": [
        "# Import train test split\n",
        "from sklearn.model_selection import train_test_split\n",
        "x_train, x_test, y_train, y_test = train_test_split(x, y, test_size=0.2)\n"
      ],
      "execution_count": 503,
      "outputs": []
    },
    {
      "cell_type": "code",
      "metadata": {
        "id": "I-JK5VZT-SeY",
        "colab_type": "code",
        "colab": {
          "base_uri": "https://localhost:8080/",
          "height": 34
        },
        "outputId": "25974b1f-963b-499f-f23d-9b694423b703"
      },
      "source": [
        "# Fitting Linear Regression to the dataset \n",
        "from sklearn.linear_model import LinearRegression \n",
        "lin = LinearRegression() \n",
        "  \n",
        "lin.fit(x, y)"
      ],
      "execution_count": 504,
      "outputs": [
        {
          "output_type": "execute_result",
          "data": {
            "text/plain": [
              "LinearRegression(copy_X=True, fit_intercept=True, n_jobs=None, normalize=False)"
            ]
          },
          "metadata": {
            "tags": []
          },
          "execution_count": 504
        }
      ]
    },
    {
      "cell_type": "code",
      "metadata": {
        "id": "19bqbd4i-WU7",
        "colab_type": "code",
        "colab": {
          "base_uri": "https://localhost:8080/",
          "height": 34
        },
        "outputId": "16fa08cf-5629-45f5-9589-c90159200695"
      },
      "source": [
        "# Fitting Polynomial Regression to the dataset \n",
        "from sklearn.preprocessing import PolynomialFeatures \n",
        "  \n",
        "poly = PolynomialFeatures(degree = 4) \n",
        "x_polynomial = poly.fit_transform(x) \n",
        "  \n",
        "poly.fit(x_polynomial, y) \n",
        "lin2 = LinearRegression() \n",
        "lin2.fit(x_polynomial, y) "
      ],
      "execution_count": 505,
      "outputs": [
        {
          "output_type": "execute_result",
          "data": {
            "text/plain": [
              "LinearRegression(copy_X=True, fit_intercept=True, n_jobs=None, normalize=False)"
            ]
          },
          "metadata": {
            "tags": []
          },
          "execution_count": 505
        }
      ]
    },
    {
      "cell_type": "code",
      "metadata": {
        "id": "iEkQ2hwb_cH9",
        "colab_type": "code",
        "colab": {
          "base_uri": "https://localhost:8080/",
          "height": 52
        },
        "outputId": "d087c933-061f-4bf7-be96-a33104ef452f"
      },
      "source": [
        "# Predict using linear regression\n",
        "lin_pred = lin.predict(x_test)\n",
        "\n",
        "# Predict using Polynomial Regression\n",
        "lin2_pred=lin2.predict(x_polynomial)\n",
        "lin2_pred"
      ],
      "execution_count": 506,
      "outputs": [
        {
          "output_type": "execute_result",
          "data": {
            "text/plain": [
              "array([2.09531397, 2.47508331, 1.09266287, ..., 0.80917288, 1.67089603,\n",
              "       1.08733735])"
            ]
          },
          "metadata": {
            "tags": []
          },
          "execution_count": 506
        }
      ]
    },
    {
      "cell_type": "code",
      "metadata": {
        "id": "aTxKBVRzI22f",
        "colab_type": "code",
        "colab": {}
      },
      "source": [
        "# \n",
        "from sklearn import metrics\n",
        "print('Mean Absolute Error:', metrics.mean_absolute_error(y_test, lin2_pred))\n",
        "print('Mean Squared Error:', metrics.mean_squared_error(y_test, lin2_pred))\n",
        "print('Root Mean Squared Error:', np.sqrt(metrics.mean_squared_error(y_test, lin2_pred)))"
      ],
      "execution_count": null,
      "outputs": []
    },
    {
      "cell_type": "markdown",
      "metadata": {
        "id": "kBrethjCE62E",
        "colab_type": "text"
      },
      "source": [
        "### Logistic regression\n",
        "Predict whether the game is a win, lose or draw"
      ]
    },
    {
      "cell_type": "code",
      "metadata": {
        "colab_type": "code",
        "id": "78ExBMn5FgIo",
        "colab": {
          "base_uri": "https://localhost:8080/",
          "height": 197
        },
        "outputId": "f05adc9d-f93c-41eb-dcb6-d1fb0195d612"
      },
      "source": [
        "df4= df2[['home_team', 'away_team','home_score','away_score','year','home_results']]\n",
        "df4.head()"
      ],
      "execution_count": 350,
      "outputs": [
        {
          "output_type": "execute_result",
          "data": {
            "text/html": [
              "<div>\n",
              "<style scoped>\n",
              "    .dataframe tbody tr th:only-of-type {\n",
              "        vertical-align: middle;\n",
              "    }\n",
              "\n",
              "    .dataframe tbody tr th {\n",
              "        vertical-align: top;\n",
              "    }\n",
              "\n",
              "    .dataframe thead th {\n",
              "        text-align: right;\n",
              "    }\n",
              "</style>\n",
              "<table border=\"1\" class=\"dataframe\">\n",
              "  <thead>\n",
              "    <tr style=\"text-align: right;\">\n",
              "      <th></th>\n",
              "      <th>home_team</th>\n",
              "      <th>away_team</th>\n",
              "      <th>home_score</th>\n",
              "      <th>away_score</th>\n",
              "      <th>year</th>\n",
              "      <th>home_results</th>\n",
              "    </tr>\n",
              "  </thead>\n",
              "  <tbody>\n",
              "    <tr>\n",
              "      <th>0</th>\n",
              "      <td>Colombia</td>\n",
              "      <td>Paraguay</td>\n",
              "      <td>0</td>\n",
              "      <td>0</td>\n",
              "      <td>1993</td>\n",
              "      <td>draw</td>\n",
              "    </tr>\n",
              "    <tr>\n",
              "      <th>1</th>\n",
              "      <td>Argentina</td>\n",
              "      <td>Paraguay</td>\n",
              "      <td>0</td>\n",
              "      <td>0</td>\n",
              "      <td>1993</td>\n",
              "      <td>draw</td>\n",
              "    </tr>\n",
              "    <tr>\n",
              "      <th>2</th>\n",
              "      <td>Colombia</td>\n",
              "      <td>Argentina</td>\n",
              "      <td>2</td>\n",
              "      <td>1</td>\n",
              "      <td>1993</td>\n",
              "      <td>win</td>\n",
              "    </tr>\n",
              "    <tr>\n",
              "      <th>3</th>\n",
              "      <td>Peru</td>\n",
              "      <td>Argentina</td>\n",
              "      <td>0</td>\n",
              "      <td>1</td>\n",
              "      <td>1993</td>\n",
              "      <td>lose</td>\n",
              "    </tr>\n",
              "    <tr>\n",
              "      <th>4</th>\n",
              "      <td>Paraguay</td>\n",
              "      <td>Argentina</td>\n",
              "      <td>1</td>\n",
              "      <td>3</td>\n",
              "      <td>1993</td>\n",
              "      <td>lose</td>\n",
              "    </tr>\n",
              "  </tbody>\n",
              "</table>\n",
              "</div>"
            ],
            "text/plain": [
              "   home_team  away_team  home_score  away_score  year home_results\n",
              "0   Colombia   Paraguay           0           0  1993         draw\n",
              "1  Argentina   Paraguay           0           0  1993         draw\n",
              "2   Colombia  Argentina           2           1  1993          win\n",
              "3       Peru  Argentina           0           1  1993         lose\n",
              "4   Paraguay  Argentina           1           3  1993         lose"
            ]
          },
          "metadata": {
            "tags": []
          },
          "execution_count": 350
        }
      ]
    },
    {
      "cell_type": "code",
      "metadata": {
        "id": "I8rh_vN2Gbvp",
        "colab_type": "code",
        "colab": {}
      },
      "source": [
        "# selecting x and y\n",
        "X=df4.iloc[:,:-1].values\n",
        "Y=df4.iloc[:,5].values"
      ],
      "execution_count": 428,
      "outputs": []
    },
    {
      "cell_type": "code",
      "metadata": {
        "colab_type": "code",
        "id": "VIiC6rWiHWxq",
        "colab": {}
      },
      "source": [
        "# Import train test split\n",
        "from sklearn.model_selection import train_test_split\n",
        "X_train, X_test, Y_train, Y_test = train_test_split(X, Y, test_size=0.2)\n"
      ],
      "execution_count": 508,
      "outputs": []
    },
    {
      "cell_type": "code",
      "metadata": {
        "id": "7AAqrNKzFCah",
        "colab_type": "code",
        "colab": {
          "base_uri": "https://localhost:8080/",
          "height": 352
        },
        "outputId": "342ffdb2-9e6b-4dcd-8547-1ed63ddcdce5"
      },
      "source": [
        "from sklearn.linear_model import LogisticRegression\n",
        "\n",
        "LogReg = LogisticRegression()\n",
        "LogReg.fit(X_train, Y_train)"
      ],
      "execution_count": 509,
      "outputs": [
        {
          "output_type": "error",
          "ename": "ValueError",
          "evalue": "ignored",
          "traceback": [
            "\u001b[0;31m---------------------------------------------------------------------------\u001b[0m",
            "\u001b[0;31mValueError\u001b[0m                                Traceback (most recent call last)",
            "\u001b[0;32m<ipython-input-509-7bcff079fd2f>\u001b[0m in \u001b[0;36m<module>\u001b[0;34m()\u001b[0m\n\u001b[1;32m      2\u001b[0m \u001b[0;34m\u001b[0m\u001b[0m\n\u001b[1;32m      3\u001b[0m \u001b[0mLogReg\u001b[0m \u001b[0;34m=\u001b[0m \u001b[0mLogisticRegression\u001b[0m\u001b[0;34m(\u001b[0m\u001b[0;34m)\u001b[0m\u001b[0;34m\u001b[0m\u001b[0;34m\u001b[0m\u001b[0m\n\u001b[0;32m----> 4\u001b[0;31m \u001b[0mLogReg\u001b[0m\u001b[0;34m.\u001b[0m\u001b[0mfit\u001b[0m\u001b[0;34m(\u001b[0m\u001b[0mX_train\u001b[0m\u001b[0;34m,\u001b[0m \u001b[0mY_train\u001b[0m\u001b[0;34m)\u001b[0m\u001b[0;34m\u001b[0m\u001b[0;34m\u001b[0m\u001b[0m\n\u001b[0m",
            "\u001b[0;32m/usr/local/lib/python3.6/dist-packages/sklearn/linear_model/_logistic.py\u001b[0m in \u001b[0;36mfit\u001b[0;34m(self, X, y, sample_weight)\u001b[0m\n\u001b[1;32m   1525\u001b[0m \u001b[0;34m\u001b[0m\u001b[0m\n\u001b[1;32m   1526\u001b[0m         X, y = check_X_y(X, y, accept_sparse='csr', dtype=_dtype, order=\"C\",\n\u001b[0;32m-> 1527\u001b[0;31m                          accept_large_sparse=solver != 'liblinear')\n\u001b[0m\u001b[1;32m   1528\u001b[0m         \u001b[0mcheck_classification_targets\u001b[0m\u001b[0;34m(\u001b[0m\u001b[0my\u001b[0m\u001b[0;34m)\u001b[0m\u001b[0;34m\u001b[0m\u001b[0;34m\u001b[0m\u001b[0m\n\u001b[1;32m   1529\u001b[0m         \u001b[0mself\u001b[0m\u001b[0;34m.\u001b[0m\u001b[0mclasses_\u001b[0m \u001b[0;34m=\u001b[0m \u001b[0mnp\u001b[0m\u001b[0;34m.\u001b[0m\u001b[0munique\u001b[0m\u001b[0;34m(\u001b[0m\u001b[0my\u001b[0m\u001b[0;34m)\u001b[0m\u001b[0;34m\u001b[0m\u001b[0;34m\u001b[0m\u001b[0m\n",
            "\u001b[0;32m/usr/local/lib/python3.6/dist-packages/sklearn/utils/validation.py\u001b[0m in \u001b[0;36mcheck_X_y\u001b[0;34m(X, y, accept_sparse, accept_large_sparse, dtype, order, copy, force_all_finite, ensure_2d, allow_nd, multi_output, ensure_min_samples, ensure_min_features, y_numeric, warn_on_dtype, estimator)\u001b[0m\n\u001b[1;32m    753\u001b[0m                     \u001b[0mensure_min_features\u001b[0m\u001b[0;34m=\u001b[0m\u001b[0mensure_min_features\u001b[0m\u001b[0;34m,\u001b[0m\u001b[0;34m\u001b[0m\u001b[0;34m\u001b[0m\u001b[0m\n\u001b[1;32m    754\u001b[0m                     \u001b[0mwarn_on_dtype\u001b[0m\u001b[0;34m=\u001b[0m\u001b[0mwarn_on_dtype\u001b[0m\u001b[0;34m,\u001b[0m\u001b[0;34m\u001b[0m\u001b[0;34m\u001b[0m\u001b[0m\n\u001b[0;32m--> 755\u001b[0;31m                     estimator=estimator)\n\u001b[0m\u001b[1;32m    756\u001b[0m     \u001b[0;32mif\u001b[0m \u001b[0mmulti_output\u001b[0m\u001b[0;34m:\u001b[0m\u001b[0;34m\u001b[0m\u001b[0;34m\u001b[0m\u001b[0m\n\u001b[1;32m    757\u001b[0m         y = check_array(y, 'csr', force_all_finite=True, ensure_2d=False,\n",
            "\u001b[0;32m/usr/local/lib/python3.6/dist-packages/sklearn/utils/validation.py\u001b[0m in \u001b[0;36mcheck_array\u001b[0;34m(array, accept_sparse, accept_large_sparse, dtype, order, copy, force_all_finite, ensure_2d, allow_nd, ensure_min_samples, ensure_min_features, warn_on_dtype, estimator)\u001b[0m\n\u001b[1;32m    529\u001b[0m                     \u001b[0marray\u001b[0m \u001b[0;34m=\u001b[0m \u001b[0marray\u001b[0m\u001b[0;34m.\u001b[0m\u001b[0mastype\u001b[0m\u001b[0;34m(\u001b[0m\u001b[0mdtype\u001b[0m\u001b[0;34m,\u001b[0m \u001b[0mcasting\u001b[0m\u001b[0;34m=\u001b[0m\u001b[0;34m\"unsafe\"\u001b[0m\u001b[0;34m,\u001b[0m \u001b[0mcopy\u001b[0m\u001b[0;34m=\u001b[0m\u001b[0;32mFalse\u001b[0m\u001b[0;34m)\u001b[0m\u001b[0;34m\u001b[0m\u001b[0;34m\u001b[0m\u001b[0m\n\u001b[1;32m    530\u001b[0m                 \u001b[0;32melse\u001b[0m\u001b[0;34m:\u001b[0m\u001b[0;34m\u001b[0m\u001b[0;34m\u001b[0m\u001b[0m\n\u001b[0;32m--> 531\u001b[0;31m                     \u001b[0marray\u001b[0m \u001b[0;34m=\u001b[0m \u001b[0mnp\u001b[0m\u001b[0;34m.\u001b[0m\u001b[0masarray\u001b[0m\u001b[0;34m(\u001b[0m\u001b[0marray\u001b[0m\u001b[0;34m,\u001b[0m \u001b[0morder\u001b[0m\u001b[0;34m=\u001b[0m\u001b[0morder\u001b[0m\u001b[0;34m,\u001b[0m \u001b[0mdtype\u001b[0m\u001b[0;34m=\u001b[0m\u001b[0mdtype\u001b[0m\u001b[0;34m)\u001b[0m\u001b[0;34m\u001b[0m\u001b[0;34m\u001b[0m\u001b[0m\n\u001b[0m\u001b[1;32m    532\u001b[0m             \u001b[0;32mexcept\u001b[0m \u001b[0mComplexWarning\u001b[0m\u001b[0;34m:\u001b[0m\u001b[0;34m\u001b[0m\u001b[0;34m\u001b[0m\u001b[0m\n\u001b[1;32m    533\u001b[0m                 raise ValueError(\"Complex data not supported\\n\"\n",
            "\u001b[0;32m/usr/local/lib/python3.6/dist-packages/numpy/core/_asarray.py\u001b[0m in \u001b[0;36masarray\u001b[0;34m(a, dtype, order)\u001b[0m\n\u001b[1;32m     83\u001b[0m \u001b[0;34m\u001b[0m\u001b[0m\n\u001b[1;32m     84\u001b[0m     \"\"\"\n\u001b[0;32m---> 85\u001b[0;31m     \u001b[0;32mreturn\u001b[0m \u001b[0marray\u001b[0m\u001b[0;34m(\u001b[0m\u001b[0ma\u001b[0m\u001b[0;34m,\u001b[0m \u001b[0mdtype\u001b[0m\u001b[0;34m,\u001b[0m \u001b[0mcopy\u001b[0m\u001b[0;34m=\u001b[0m\u001b[0;32mFalse\u001b[0m\u001b[0;34m,\u001b[0m \u001b[0morder\u001b[0m\u001b[0;34m=\u001b[0m\u001b[0morder\u001b[0m\u001b[0;34m)\u001b[0m\u001b[0;34m\u001b[0m\u001b[0;34m\u001b[0m\u001b[0m\n\u001b[0m\u001b[1;32m     86\u001b[0m \u001b[0;34m\u001b[0m\u001b[0m\n\u001b[1;32m     87\u001b[0m \u001b[0;34m\u001b[0m\u001b[0m\n",
            "\u001b[0;31mValueError\u001b[0m: could not convert string to float: 'American Samoa'"
          ]
        }
      ]
    },
    {
      "cell_type": "code",
      "metadata": {
        "id": "dQrmjfvTE51k",
        "colab_type": "code",
        "colab": {}
      },
      "source": [
        ""
      ],
      "execution_count": null,
      "outputs": []
    },
    {
      "cell_type": "markdown",
      "metadata": {
        "id": "plTLUpUbWNmf",
        "colab_type": "text"
      },
      "source": [
        "**Conclusion**\n",
        "\n",
        "* We will reject the null hypothesis and favour of the alternative hypothesis.\n",
        "* The difference between the number of blue cars taken on\n",
        "weekdays from area code 75011 and area 75015 is statistically significant with a p-value of 0.05 and below my alpha of 0.025.\n",
        "* Therefore, we conclude that our study supports the alternative hypothesis that there is a difference \n",
        "between the number of blue cars taken on weekdays from area code 75011 and area 75015."
      ]
    },
    {
      "cell_type": "markdown",
      "metadata": {
        "id": "T9yrGvhOwBrl",
        "colab_type": "text"
      },
      "source": [
        "## *9.*Follow up Questions"
      ]
    },
    {
      "cell_type": "markdown",
      "metadata": {
        "id": "O5KkiyLJZF8F",
        "colab_type": "text"
      },
      "source": [
        "### a). Did we have the right data?\n",
        "\n",
        "> Our data was right and complete we had the variables needed to explain the hypothesis for the year 2018\n",
        "\n"
      ]
    },
    {
      "cell_type": "markdown",
      "metadata": {
        "id": "lxwXt5G0jOFQ",
        "colab_type": "text"
      },
      "source": [
        "### b). Do we need other data to answer our question?\n",
        "\n",
        "> Extra data would have been useful especially data on other years before 2018 because other external factors could have influenced our hypothesis result such as economic state of the people of Paris."
      ]
    },
    {
      "cell_type": "markdown",
      "metadata": {
        "id": "-Uuff6Y7jcBx",
        "colab_type": "text"
      },
      "source": [
        "###c). Did we have the right question?\n",
        "\n",
        "> The research question is right and answerable statistically"
      ]
    },
    {
      "cell_type": "code",
      "metadata": {
        "id": "CkoRlM_azICg",
        "colab_type": "code",
        "colab": {}
      },
      "source": [
        ""
      ],
      "execution_count": null,
      "outputs": []
    },
    {
      "cell_type": "code",
      "metadata": {
        "id": "R3MKdH-3B-QW",
        "colab_type": "code",
        "colab": {}
      },
      "source": [
        "df_results['tournament']=np.where(df_results['tournament']==1,'friendly','championship')"
      ],
      "execution_count": null,
      "outputs": []
    },
    {
      "cell_type": "code",
      "metadata": {
        "id": "mw2OrGrQ1AKd",
        "colab_type": "code",
        "colab": {}
      },
      "source": [
        ""
      ],
      "execution_count": null,
      "outputs": []
    },
    {
      "cell_type": "code",
      "metadata": {
        "id": "qauZPB1JCoVX",
        "colab_type": "code",
        "colab": {
          "base_uri": "https://localhost:8080/",
          "height": 584
        },
        "outputId": "62cfd257-9035-449f-edd4-faa721ea6daf"
      },
      "source": [
        "sns.pairplot(df_results, hue='tournament')"
      ],
      "execution_count": null,
      "outputs": [
        {
          "output_type": "execute_result",
          "data": {
            "text/plain": [
              "<seaborn.axisgrid.PairGrid at 0x7f1867fdfe48>"
            ]
          },
          "metadata": {
            "tags": []
          },
          "execution_count": 40
        },
        {
          "output_type": "display_data",
          "data": {
            "image/png": "[encoded data removed]",
            "text/plain": [
              "<Figure size 645.875x540 with 12 Axes>"
            ]
          },
          "metadata": {
            "tags": [],
            "needs_background": "light"
          }
        }
      ]
    }
  ]
}