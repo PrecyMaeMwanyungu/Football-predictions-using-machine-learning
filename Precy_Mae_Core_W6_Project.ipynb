{
  "nbformat": 4,
  "nbformat_minor": 0,
  "metadata": {
    "colab": {
      "name": " Precy_Mae_Core_W6_Project",
      "provenance": [],
      "collapsed_sections": [],
      "authorship_tag": "ABX9TyNOUPCRSxfUpjwrjTKSogBs",
      "include_colab_link": true
    },
    "kernelspec": {
      "name": "python3",
      "display_name": "Python 3"
    }
  },
  "cells": [
    {
      "cell_type": "markdown",
      "metadata": {
        "id": "view-in-github",
        "colab_type": "text"
      },
      "source": [
        "<a href=\"https://colab.research.google.com/github/PrecyMaeMwanyungu/World_football_results_predicions_using_machine_learning/blob/master/Precy_Mae_Core_W6_Project.ipynb\" target=\"_parent\"><img src=\"https://colab.research.google.com/assets/colab-badge.svg\" alt=\"Open In Colab\"/></a>"
      ]
    },
    {
      "cell_type": "markdown",
      "metadata": {
        "id": "LpeybcyyX8Hv",
        "colab_type": "text"
      },
      "source": [
        "# **Data Science Core W6 Independent Project**\n",
        "\n",
        "\n",
        "---\n",
        "\n"
      ]
    },
    {
      "cell_type": "markdown",
      "metadata": {
        "id": "kiJf70iDaOhI",
        "colab_type": "text"
      },
      "source": [
        "## *1.* Defining the Question"
      ]
    },
    {
      "cell_type": "markdown",
      "metadata": {
        "id": "8rK72DsgWjyK",
        "colab_type": "text"
      },
      "source": [
        "**Overview**\n",
        "\n",
        "You have been recruited as a football analyst in a company - Mchezopesa Ltd and tasked to accomplish the task below.\n",
        "\n",
        "A prediction result of a game between team 1 and team 2, based on who's home and who's away, and on whether or not the game is friendly (include rank in your training).\n",
        "\n",
        "You have two possible approaches as showngiven the datasets that will be provided.\n",
        "\n",
        "\n",
        "To work on this project, we will perform the following analysis with Python; \n",
        "\n",
        "1. Define the question, the metric for success, the context, experimental design taken and the appropriateness of the available data to answer the given question\n",
        "2. Expected flow for the assessment:\n",
        "* Perform your EDA\n",
        "* Perform any necessary feature engineering \n",
        "* Check of multicollinearity\n",
        "* Start building the model\n",
        "* Cross-validate the model\n",
        "* Compute RMSE\n",
        "* Create residual plots for your models, and assess their heteroscedasticity using Bartlett’s test\n",
        "2. Perform appropriate regressions on the data including your justification\n",
        "3. Challenge your solution by providing insights on how you can make improvements.\n",
        "\n",
        "**Dataset** \n",
        "\n",
        "* Variable Definitions: /content/fifa_ranking.csv\n",
        "* Dataset: /content/results.csv"
      ]
    },
    {
      "cell_type": "markdown",
      "metadata": {
        "id": "PbD3sLeDY4J8",
        "colab_type": "text"
      },
      "source": [
        "### a) Specifying the Question\n",
        "\n",
        ">  Give a prediction result of a game between team 1 and team 2, based on who's home and who's away, and on whether or not the game is friendly (include rank in your training)."
      ]
    },
    {
      "cell_type": "markdown",
      "metadata": {
        "id": "jcCsJRhcZ25c",
        "colab_type": "text"
      },
      "source": [
        "\n",
        "\n",
        "\n",
        "### b) Defining the Metric for Success\n",
        " \n",
        "\n",
        "> Getting an accurate solution to our hypothesis\n",
        "\n",
        "\n",
        "\n"
      ]
    },
    {
      "cell_type": "markdown",
      "metadata": {
        "id": "eM639MAMZ_Px",
        "colab_type": "text"
      },
      "source": [
        "### c) Understanding the context\n",
        "> "
      ]
    },
    {
      "cell_type": "markdown",
      "metadata": {
        "id": "zsunpEWgan8U",
        "colab_type": "text"
      },
      "source": [
        "### d) Recording the Experimental Design\n",
        "\n",
        "We took the following steps to get our hypothesis solution\n",
        "\n",
        ">**1) Business Understanding**: This enabled us to understand the details as well as the context of our claim. In this case, the car sharing company wants to decifer some claims concerning the bluecar.\n",
        "\n",
        "\n",
        ">**2) Reading the data:** This enables us to undrestand the data provided.\n",
        "\n",
        "\n",
        ">**3) Checking our data:** This gives us information about our dataset including the shape, data types, columns, statistical summaries and other details about the dataset.\n",
        "\n",
        "\n",
        ">**4) Data cleaning:** I enables us to come up with clean data that is easier to analyse. This involves reanming columns, checking and dealing with missing values and others .\n",
        "\n",
        "\n",
        ">**5) EDA:** visualizing and understanding data.\n",
        "\n",
        "\n",
        ">**6) Implementing the solution:** using hypothesis testing\n",
        "\n",
        "\n",
        ">**7) Challenging the solution:**\n",
        "\n",
        "\n",
        ">**8)Conclusion**\n",
        "\n",
        "\n",
        "\n",
        "\n",
        "\n",
        "\n",
        "\n",
        "\n",
        "\n",
        "\n",
        "\n",
        "\n",
        "\n"
      ]
    },
    {
      "cell_type": "markdown",
      "metadata": {
        "id": "JUfjoz9VavTl",
        "colab_type": "text"
      },
      "source": [
        "### e) Data Relevance\n",
        "> The data is relevant as it contains operations of the autolib program by Bolloré Group enterprise for the year 2018.\n"
      ]
    },
    {
      "cell_type": "markdown",
      "metadata": {
        "id": "aFsb7J7QbRfg",
        "colab_type": "text"
      },
      "source": [
        "## *2.* Reading the Data\n"
      ]
    },
    {
      "cell_type": "code",
      "metadata": {
        "id": "SVBZs10CcjEW",
        "colab_type": "code",
        "colab": {
          "base_uri": "https://localhost:8080/",
          "height": 72
        },
        "outputId": "bb1336a2-76dc-4b29-a479-449f6291b344"
      },
      "source": [
        "import pandas as pd\n",
        "import numpy as np\n",
        "import seaborn as sns\n",
        "import matplotlib\n",
        "import matplotlib.pyplot as plt\n",
        "from sklearn.preprocessing import PolynomialFeatures\n",
        "from sklearn.model_selection import train_test_split\n",
        "from sklearn.linear_model import LinearRegression\n",
        "import warnings\n",
        "warnings.filterwarnings('ignore')"
      ],
      "execution_count": 3,
      "outputs": [
        {
          "output_type": "stream",
          "text": [
            "/usr/local/lib/python3.6/dist-packages/statsmodels/tools/_testing.py:19: FutureWarning: pandas.util.testing is deprecated. Use the functions in the public API at pandas.testing instead.\n",
            "  import pandas.util.testing as tm\n"
          ],
          "name": "stderr"
        }
      ]
    },
    {
      "cell_type": "code",
      "metadata": {
        "id": "_qOHyr5Pctaw",
        "colab_type": "code",
        "colab": {
          "base_uri": "https://localhost:8080/",
          "height": 207
        },
        "outputId": "ae84074b-0638-4e48-c14b-f8a9aebaba97"
      },
      "source": [
        "# Read rankings dataset\n",
        "df_rankings= pd.read_csv(\"/content/fifa_ranking.csv\",encoding='latin-1',error_bad_lines=False)\n",
        "df_rankings.head(3)"
      ],
      "execution_count": 4,
      "outputs": [
        {
          "output_type": "execute_result",
          "data": {
            "text/html": [
              "<div>\n",
              "<style scoped>\n",
              "    .dataframe tbody tr th:only-of-type {\n",
              "        vertical-align: middle;\n",
              "    }\n",
              "\n",
              "    .dataframe tbody tr th {\n",
              "        vertical-align: top;\n",
              "    }\n",
              "\n",
              "    .dataframe thead th {\n",
              "        text-align: right;\n",
              "    }\n",
              "</style>\n",
              "<table border=\"1\" class=\"dataframe\">\n",
              "  <thead>\n",
              "    <tr style=\"text-align: right;\">\n",
              "      <th></th>\n",
              "      <th>rank</th>\n",
              "      <th>country_full</th>\n",
              "      <th>country_abrv</th>\n",
              "      <th>total_points</th>\n",
              "      <th>previous_points</th>\n",
              "      <th>rank_change</th>\n",
              "      <th>cur_year_avg</th>\n",
              "      <th>cur_year_avg_weighted</th>\n",
              "      <th>last_year_avg</th>\n",
              "      <th>last_year_avg_weighted</th>\n",
              "      <th>two_year_ago_avg</th>\n",
              "      <th>two_year_ago_weighted</th>\n",
              "      <th>three_year_ago_avg</th>\n",
              "      <th>three_year_ago_weighted</th>\n",
              "      <th>confederation</th>\n",
              "      <th>rank_date</th>\n",
              "    </tr>\n",
              "  </thead>\n",
              "  <tbody>\n",
              "    <tr>\n",
              "      <th>0</th>\n",
              "      <td>1</td>\n",
              "      <td>Germany</td>\n",
              "      <td>GER</td>\n",
              "      <td>0.0</td>\n",
              "      <td>57</td>\n",
              "      <td>0</td>\n",
              "      <td>0.0</td>\n",
              "      <td>0.0</td>\n",
              "      <td>0.0</td>\n",
              "      <td>0.0</td>\n",
              "      <td>0.0</td>\n",
              "      <td>0.0</td>\n",
              "      <td>0.0</td>\n",
              "      <td>0.0</td>\n",
              "      <td>UEFA</td>\n",
              "      <td>1993-08-08</td>\n",
              "    </tr>\n",
              "    <tr>\n",
              "      <th>1</th>\n",
              "      <td>2</td>\n",
              "      <td>Italy</td>\n",
              "      <td>ITA</td>\n",
              "      <td>0.0</td>\n",
              "      <td>57</td>\n",
              "      <td>0</td>\n",
              "      <td>0.0</td>\n",
              "      <td>0.0</td>\n",
              "      <td>0.0</td>\n",
              "      <td>0.0</td>\n",
              "      <td>0.0</td>\n",
              "      <td>0.0</td>\n",
              "      <td>0.0</td>\n",
              "      <td>0.0</td>\n",
              "      <td>UEFA</td>\n",
              "      <td>1993-08-08</td>\n",
              "    </tr>\n",
              "    <tr>\n",
              "      <th>2</th>\n",
              "      <td>3</td>\n",
              "      <td>Switzerland</td>\n",
              "      <td>SUI</td>\n",
              "      <td>0.0</td>\n",
              "      <td>50</td>\n",
              "      <td>9</td>\n",
              "      <td>0.0</td>\n",
              "      <td>0.0</td>\n",
              "      <td>0.0</td>\n",
              "      <td>0.0</td>\n",
              "      <td>0.0</td>\n",
              "      <td>0.0</td>\n",
              "      <td>0.0</td>\n",
              "      <td>0.0</td>\n",
              "      <td>UEFA</td>\n",
              "      <td>1993-08-08</td>\n",
              "    </tr>\n",
              "  </tbody>\n",
              "</table>\n",
              "</div>"
            ],
            "text/plain": [
              "   rank country_full  ... confederation   rank_date\n",
              "0     1      Germany  ...          UEFA  1993-08-08\n",
              "1     2        Italy  ...          UEFA  1993-08-08\n",
              "2     3  Switzerland  ...          UEFA  1993-08-08\n",
              "\n",
              "[3 rows x 16 columns]"
            ]
          },
          "metadata": {
            "tags": []
          },
          "execution_count": 4
        }
      ]
    },
    {
      "cell_type": "code",
      "metadata": {
        "id": "pMSdZSq-t5fH",
        "colab_type": "code",
        "colab": {
          "base_uri": "https://localhost:8080/",
          "height": 197
        },
        "outputId": "7943dbd5-6348-40a5-879b-fa133ee9e01c"
      },
      "source": [
        "# Read the results dataset\n",
        "df_results= pd.read_csv(\"/content/results.csv\",encoding='latin-1',error_bad_lines=False)\n",
        "df_results.head()"
      ],
      "execution_count": 44,
      "outputs": [
        {
          "output_type": "execute_result",
          "data": {
            "text/html": [
              "<div>\n",
              "<style scoped>\n",
              "    .dataframe tbody tr th:only-of-type {\n",
              "        vertical-align: middle;\n",
              "    }\n",
              "\n",
              "    .dataframe tbody tr th {\n",
              "        vertical-align: top;\n",
              "    }\n",
              "\n",
              "    .dataframe thead th {\n",
              "        text-align: right;\n",
              "    }\n",
              "</style>\n",
              "<table border=\"1\" class=\"dataframe\">\n",
              "  <thead>\n",
              "    <tr style=\"text-align: right;\">\n",
              "      <th></th>\n",
              "      <th>date</th>\n",
              "      <th>home_team</th>\n",
              "      <th>away_team</th>\n",
              "      <th>home_score</th>\n",
              "      <th>away_score</th>\n",
              "      <th>tournament</th>\n",
              "      <th>city</th>\n",
              "      <th>country</th>\n",
              "      <th>neutral</th>\n",
              "    </tr>\n",
              "  </thead>\n",
              "  <tbody>\n",
              "    <tr>\n",
              "      <th>0</th>\n",
              "      <td>1872-11-30</td>\n",
              "      <td>Scotland</td>\n",
              "      <td>England</td>\n",
              "      <td>0</td>\n",
              "      <td>0</td>\n",
              "      <td>Friendly</td>\n",
              "      <td>Glasgow</td>\n",
              "      <td>Scotland</td>\n",
              "      <td>False</td>\n",
              "    </tr>\n",
              "    <tr>\n",
              "      <th>1</th>\n",
              "      <td>1873-03-08</td>\n",
              "      <td>England</td>\n",
              "      <td>Scotland</td>\n",
              "      <td>4</td>\n",
              "      <td>2</td>\n",
              "      <td>Friendly</td>\n",
              "      <td>London</td>\n",
              "      <td>England</td>\n",
              "      <td>False</td>\n",
              "    </tr>\n",
              "    <tr>\n",
              "      <th>2</th>\n",
              "      <td>1874-03-07</td>\n",
              "      <td>Scotland</td>\n",
              "      <td>England</td>\n",
              "      <td>2</td>\n",
              "      <td>1</td>\n",
              "      <td>Friendly</td>\n",
              "      <td>Glasgow</td>\n",
              "      <td>Scotland</td>\n",
              "      <td>False</td>\n",
              "    </tr>\n",
              "    <tr>\n",
              "      <th>3</th>\n",
              "      <td>1875-03-06</td>\n",
              "      <td>England</td>\n",
              "      <td>Scotland</td>\n",
              "      <td>2</td>\n",
              "      <td>2</td>\n",
              "      <td>Friendly</td>\n",
              "      <td>London</td>\n",
              "      <td>England</td>\n",
              "      <td>False</td>\n",
              "    </tr>\n",
              "    <tr>\n",
              "      <th>4</th>\n",
              "      <td>1876-03-04</td>\n",
              "      <td>Scotland</td>\n",
              "      <td>England</td>\n",
              "      <td>3</td>\n",
              "      <td>0</td>\n",
              "      <td>Friendly</td>\n",
              "      <td>Glasgow</td>\n",
              "      <td>Scotland</td>\n",
              "      <td>False</td>\n",
              "    </tr>\n",
              "  </tbody>\n",
              "</table>\n",
              "</div>"
            ],
            "text/plain": [
              "         date home_team away_team  ...     city   country neutral\n",
              "0  1872-11-30  Scotland   England  ...  Glasgow  Scotland   False\n",
              "1  1873-03-08   England  Scotland  ...   London   England   False\n",
              "2  1874-03-07  Scotland   England  ...  Glasgow  Scotland   False\n",
              "3  1875-03-06   England  Scotland  ...   London   England   False\n",
              "4  1876-03-04  Scotland   England  ...  Glasgow  Scotland   False\n",
              "\n",
              "[5 rows x 9 columns]"
            ]
          },
          "metadata": {
            "tags": []
          },
          "execution_count": 44
        }
      ]
    },
    {
      "cell_type": "markdown",
      "metadata": {
        "id": "8gimhr4vuS52",
        "colab_type": "text"
      },
      "source": [
        "**Checking the shape of the datasets**"
      ]
    },
    {
      "cell_type": "code",
      "metadata": {
        "id": "UdbUcN10umZn",
        "colab_type": "code",
        "colab": {
          "base_uri": "https://localhost:8080/",
          "height": 34
        },
        "outputId": "1199d728-9d7b-45c5-ef76-3a8fd552ec78"
      },
      "source": [
        "# shape of ranks\n",
        "df_rankings.shape"
      ],
      "execution_count": 6,
      "outputs": [
        {
          "output_type": "execute_result",
          "data": {
            "text/plain": [
              "(57793, 16)"
            ]
          },
          "metadata": {
            "tags": []
          },
          "execution_count": 6
        }
      ]
    },
    {
      "cell_type": "code",
      "metadata": {
        "id": "QxWYkzH8u0jY",
        "colab_type": "code",
        "colab": {
          "base_uri": "https://localhost:8080/",
          "height": 34
        },
        "outputId": "e9c4df04-c75b-44fb-ecd4-660f6c27bfa3"
      },
      "source": [
        "# shape of results\n",
        "df_results.shape"
      ],
      "execution_count": 7,
      "outputs": [
        {
          "output_type": "execute_result",
          "data": {
            "text/plain": [
              "(40839, 9)"
            ]
          },
          "metadata": {
            "tags": []
          },
          "execution_count": 7
        }
      ]
    },
    {
      "cell_type": "code",
      "metadata": {
        "id": "F0S5Kpel-rC2",
        "colab_type": "code",
        "colab": {
          "base_uri": "https://localhost:8080/",
          "height": 194
        },
        "outputId": "afe052f9-3e7c-447c-db4a-9ec634e519d2"
      },
      "source": [
        "# missing values\n",
        "df_results.isnull().sum()"
      ],
      "execution_count": 8,
      "outputs": [
        {
          "output_type": "execute_result",
          "data": {
            "text/plain": [
              "date          0\n",
              "home_team     0\n",
              "away_team     0\n",
              "home_score    0\n",
              "away_score    0\n",
              "tournament    0\n",
              "city          0\n",
              "country       0\n",
              "neutral       0\n",
              "dtype: int64"
            ]
          },
          "metadata": {
            "tags": []
          },
          "execution_count": 8
        }
      ]
    },
    {
      "cell_type": "markdown",
      "metadata": {
        "id": "fVoz_qk4vIv7",
        "colab_type": "text"
      },
      "source": [
        "Our datasets are of different shapes, so we need to correct that before merging"
      ]
    },
    {
      "cell_type": "markdown",
      "metadata": {
        "id": "VajFKFr3vBfO",
        "colab_type": "text"
      },
      "source": [
        "**merging our datasets**"
      ]
    },
    {
      "cell_type": "code",
      "metadata": {
        "id": "uEMieIMSAGLA",
        "colab_type": "code",
        "colab": {}
      },
      "source": [
        "# Rename the column country full to enable us to merge\n",
        "df_rankings.rename(columns={'country_full':'country'},inplace=True)"
      ],
      "execution_count": 9,
      "outputs": []
    },
    {
      "cell_type": "code",
      "metadata": {
        "id": "0NiRXWMBzQNu",
        "colab_type": "code",
        "colab": {
          "base_uri": "https://localhost:8080/",
          "height": 34
        },
        "outputId": "43098bcb-00c2-464f-a297-8b1a55900342"
      },
      "source": [
        "# displaying duplicated data on our results dataset\n",
        "df_results.duplicated().sum()\n"
      ],
      "execution_count": 10,
      "outputs": [
        {
          "output_type": "execute_result",
          "data": {
            "text/plain": [
              "0"
            ]
          },
          "metadata": {
            "tags": []
          },
          "execution_count": 10
        }
      ]
    },
    {
      "cell_type": "markdown",
      "metadata": {
        "id": "9D9jppAoz35t",
        "colab_type": "text"
      },
      "source": [
        "Our results dataset has no duplicates"
      ]
    },
    {
      "cell_type": "code",
      "metadata": {
        "id": "ob1mjcsBAGGj",
        "colab_type": "code",
        "colab": {
          "base_uri": "https://localhost:8080/",
          "height": 34
        },
        "outputId": "c63557e2-8637-476e-cc77-2608e9387a1c"
      },
      "source": [
        "# displaying duplicated data on our rankings dataset\n",
        "df_rankings.duplicated().sum()"
      ],
      "execution_count": 11,
      "outputs": [
        {
          "output_type": "execute_result",
          "data": {
            "text/plain": [
              "37"
            ]
          },
          "metadata": {
            "tags": []
          },
          "execution_count": 11
        }
      ]
    },
    {
      "cell_type": "markdown",
      "metadata": {
        "id": "yTTIEzAi0Yk0",
        "colab_type": "text"
      },
      "source": [
        "Our rankings dataset has 37 duplicates which we need to drop because we do not expect something to be ranked twice."
      ]
    },
    {
      "cell_type": "code",
      "metadata": {
        "id": "1tJWhcFCxgWS",
        "colab_type": "code",
        "colab": {}
      },
      "source": [
        "# Dropping the duplicates\n",
        "df_rankings.drop_duplicates(inplace=True)"
      ],
      "execution_count": 12,
      "outputs": []
    },
    {
      "cell_type": "code",
      "metadata": {
        "id": "B5FD6LAB_ci3",
        "colab_type": "code",
        "colab": {
          "base_uri": "https://localhost:8080/",
          "height": 207
        },
        "outputId": "e7675aa0-8972-45e7-be1f-329225882117"
      },
      "source": [
        "# Merging our two datasets\n",
        "df= pd.merge(df_rankings, df_results, on='country')\n",
        "df.head(3)"
      ],
      "execution_count": 13,
      "outputs": [
        {
          "output_type": "execute_result",
          "data": {
            "text/html": [
              "<div>\n",
              "<style scoped>\n",
              "    .dataframe tbody tr th:only-of-type {\n",
              "        vertical-align: middle;\n",
              "    }\n",
              "\n",
              "    .dataframe tbody tr th {\n",
              "        vertical-align: top;\n",
              "    }\n",
              "\n",
              "    .dataframe thead th {\n",
              "        text-align: right;\n",
              "    }\n",
              "</style>\n",
              "<table border=\"1\" class=\"dataframe\">\n",
              "  <thead>\n",
              "    <tr style=\"text-align: right;\">\n",
              "      <th></th>\n",
              "      <th>rank</th>\n",
              "      <th>country</th>\n",
              "      <th>country_abrv</th>\n",
              "      <th>total_points</th>\n",
              "      <th>previous_points</th>\n",
              "      <th>rank_change</th>\n",
              "      <th>cur_year_avg</th>\n",
              "      <th>cur_year_avg_weighted</th>\n",
              "      <th>last_year_avg</th>\n",
              "      <th>last_year_avg_weighted</th>\n",
              "      <th>two_year_ago_avg</th>\n",
              "      <th>two_year_ago_weighted</th>\n",
              "      <th>three_year_ago_avg</th>\n",
              "      <th>three_year_ago_weighted</th>\n",
              "      <th>confederation</th>\n",
              "      <th>rank_date</th>\n",
              "      <th>date</th>\n",
              "      <th>home_team</th>\n",
              "      <th>away_team</th>\n",
              "      <th>home_score</th>\n",
              "      <th>away_score</th>\n",
              "      <th>tournament</th>\n",
              "      <th>city</th>\n",
              "      <th>neutral</th>\n",
              "    </tr>\n",
              "  </thead>\n",
              "  <tbody>\n",
              "    <tr>\n",
              "      <th>0</th>\n",
              "      <td>1</td>\n",
              "      <td>Germany</td>\n",
              "      <td>GER</td>\n",
              "      <td>0.0</td>\n",
              "      <td>57</td>\n",
              "      <td>0</td>\n",
              "      <td>0.0</td>\n",
              "      <td>0.0</td>\n",
              "      <td>0.0</td>\n",
              "      <td>0.0</td>\n",
              "      <td>0.0</td>\n",
              "      <td>0.0</td>\n",
              "      <td>0.0</td>\n",
              "      <td>0.0</td>\n",
              "      <td>UEFA</td>\n",
              "      <td>1993-08-08</td>\n",
              "      <td>1909-04-04</td>\n",
              "      <td>Germany</td>\n",
              "      <td>Switzerland</td>\n",
              "      <td>1</td>\n",
              "      <td>0</td>\n",
              "      <td>Friendly</td>\n",
              "      <td>Karlsruhe</td>\n",
              "      <td>False</td>\n",
              "    </tr>\n",
              "    <tr>\n",
              "      <th>1</th>\n",
              "      <td>1</td>\n",
              "      <td>Germany</td>\n",
              "      <td>GER</td>\n",
              "      <td>0.0</td>\n",
              "      <td>57</td>\n",
              "      <td>0</td>\n",
              "      <td>0.0</td>\n",
              "      <td>0.0</td>\n",
              "      <td>0.0</td>\n",
              "      <td>0.0</td>\n",
              "      <td>0.0</td>\n",
              "      <td>0.0</td>\n",
              "      <td>0.0</td>\n",
              "      <td>0.0</td>\n",
              "      <td>UEFA</td>\n",
              "      <td>1993-08-08</td>\n",
              "      <td>1910-05-16</td>\n",
              "      <td>Germany</td>\n",
              "      <td>Belgium</td>\n",
              "      <td>0</td>\n",
              "      <td>3</td>\n",
              "      <td>Friendly</td>\n",
              "      <td>Duisburg</td>\n",
              "      <td>False</td>\n",
              "    </tr>\n",
              "    <tr>\n",
              "      <th>2</th>\n",
              "      <td>1</td>\n",
              "      <td>Germany</td>\n",
              "      <td>GER</td>\n",
              "      <td>0.0</td>\n",
              "      <td>57</td>\n",
              "      <td>0</td>\n",
              "      <td>0.0</td>\n",
              "      <td>0.0</td>\n",
              "      <td>0.0</td>\n",
              "      <td>0.0</td>\n",
              "      <td>0.0</td>\n",
              "      <td>0.0</td>\n",
              "      <td>0.0</td>\n",
              "      <td>0.0</td>\n",
              "      <td>UEFA</td>\n",
              "      <td>1993-08-08</td>\n",
              "      <td>1910-10-16</td>\n",
              "      <td>Germany</td>\n",
              "      <td>Netherlands</td>\n",
              "      <td>1</td>\n",
              "      <td>2</td>\n",
              "      <td>Friendly</td>\n",
              "      <td>Kleve</td>\n",
              "      <td>False</td>\n",
              "    </tr>\n",
              "  </tbody>\n",
              "</table>\n",
              "</div>"
            ],
            "text/plain": [
              "   rank  country country_abrv  ...  tournament       city  neutral\n",
              "0     1  Germany          GER  ...    Friendly  Karlsruhe    False\n",
              "1     1  Germany          GER  ...    Friendly   Duisburg    False\n",
              "2     1  Germany          GER  ...    Friendly      Kleve    False\n",
              "\n",
              "[3 rows x 24 columns]"
            ]
          },
          "metadata": {
            "tags": []
          },
          "execution_count": 13
        }
      ]
    },
    {
      "cell_type": "markdown",
      "metadata": {
        "id": "Z1i_Ef6sbamF",
        "colab_type": "text"
      },
      "source": [
        "## *3.* Check the data\n"
      ]
    },
    {
      "cell_type": "code",
      "metadata": {
        "id": "58AHDTe3dp92",
        "colab_type": "code",
        "colab": {
          "base_uri": "https://localhost:8080/",
          "height": 34
        },
        "outputId": "6d1acbe6-03ad-4bdb-dcbf-ade4f1d97353"
      },
      "source": [
        "# Determining the no. of records in our dataset\n",
        "#\n",
        "df.shape"
      ],
      "execution_count": 14,
      "outputs": [
        {
          "output_type": "execute_result",
          "data": {
            "text/plain": [
              "(10240701, 24)"
            ]
          },
          "metadata": {
            "tags": []
          },
          "execution_count": 14
        }
      ]
    },
    {
      "cell_type": "code",
      "metadata": {
        "id": "djl2yPLNHoPi",
        "colab_type": "code",
        "colab": {
          "base_uri": "https://localhost:8080/",
          "height": 141
        },
        "outputId": "139c3615-6d6b-4b8b-eb86-dd8859c9bab0"
      },
      "source": [
        "# A Preview of dataset columns\n",
        "df.columns"
      ],
      "execution_count": 15,
      "outputs": [
        {
          "output_type": "execute_result",
          "data": {
            "text/plain": [
              "Index(['rank', 'country', 'country_abrv', 'total_points', 'previous_points',\n",
              "       'rank_change', 'cur_year_avg', 'cur_year_avg_weighted', 'last_year_avg',\n",
              "       'last_year_avg_weighted', 'two_year_ago_avg', 'two_year_ago_weighted',\n",
              "       'three_year_ago_avg', 'three_year_ago_weighted', 'confederation',\n",
              "       'rank_date', 'date', 'home_team', 'away_team', 'home_score',\n",
              "       'away_score', 'tournament', 'city', 'neutral'],\n",
              "      dtype='object')"
            ]
          },
          "metadata": {
            "tags": []
          },
          "execution_count": 15
        }
      ]
    },
    {
      "cell_type": "code",
      "metadata": {
        "id": "6Mx9xgKNd2BQ",
        "colab_type": "code",
        "colab": {
          "base_uri": "https://localhost:8080/",
          "height": 207
        },
        "outputId": "e128661f-d3c6-49fb-8a80-69de7abf8e24"
      },
      "source": [
        "# Previewing the top of our dataset\n",
        "#\n",
        "df.head(3)"
      ],
      "execution_count": 16,
      "outputs": [
        {
          "output_type": "execute_result",
          "data": {
            "text/html": [
              "<div>\n",
              "<style scoped>\n",
              "    .dataframe tbody tr th:only-of-type {\n",
              "        vertical-align: middle;\n",
              "    }\n",
              "\n",
              "    .dataframe tbody tr th {\n",
              "        vertical-align: top;\n",
              "    }\n",
              "\n",
              "    .dataframe thead th {\n",
              "        text-align: right;\n",
              "    }\n",
              "</style>\n",
              "<table border=\"1\" class=\"dataframe\">\n",
              "  <thead>\n",
              "    <tr style=\"text-align: right;\">\n",
              "      <th></th>\n",
              "      <th>rank</th>\n",
              "      <th>country</th>\n",
              "      <th>country_abrv</th>\n",
              "      <th>total_points</th>\n",
              "      <th>previous_points</th>\n",
              "      <th>rank_change</th>\n",
              "      <th>cur_year_avg</th>\n",
              "      <th>cur_year_avg_weighted</th>\n",
              "      <th>last_year_avg</th>\n",
              "      <th>last_year_avg_weighted</th>\n",
              "      <th>two_year_ago_avg</th>\n",
              "      <th>two_year_ago_weighted</th>\n",
              "      <th>three_year_ago_avg</th>\n",
              "      <th>three_year_ago_weighted</th>\n",
              "      <th>confederation</th>\n",
              "      <th>rank_date</th>\n",
              "      <th>date</th>\n",
              "      <th>home_team</th>\n",
              "      <th>away_team</th>\n",
              "      <th>home_score</th>\n",
              "      <th>away_score</th>\n",
              "      <th>tournament</th>\n",
              "      <th>city</th>\n",
              "      <th>neutral</th>\n",
              "    </tr>\n",
              "  </thead>\n",
              "  <tbody>\n",
              "    <tr>\n",
              "      <th>0</th>\n",
              "      <td>1</td>\n",
              "      <td>Germany</td>\n",
              "      <td>GER</td>\n",
              "      <td>0.0</td>\n",
              "      <td>57</td>\n",
              "      <td>0</td>\n",
              "      <td>0.0</td>\n",
              "      <td>0.0</td>\n",
              "      <td>0.0</td>\n",
              "      <td>0.0</td>\n",
              "      <td>0.0</td>\n",
              "      <td>0.0</td>\n",
              "      <td>0.0</td>\n",
              "      <td>0.0</td>\n",
              "      <td>UEFA</td>\n",
              "      <td>1993-08-08</td>\n",
              "      <td>1909-04-04</td>\n",
              "      <td>Germany</td>\n",
              "      <td>Switzerland</td>\n",
              "      <td>1</td>\n",
              "      <td>0</td>\n",
              "      <td>Friendly</td>\n",
              "      <td>Karlsruhe</td>\n",
              "      <td>False</td>\n",
              "    </tr>\n",
              "    <tr>\n",
              "      <th>1</th>\n",
              "      <td>1</td>\n",
              "      <td>Germany</td>\n",
              "      <td>GER</td>\n",
              "      <td>0.0</td>\n",
              "      <td>57</td>\n",
              "      <td>0</td>\n",
              "      <td>0.0</td>\n",
              "      <td>0.0</td>\n",
              "      <td>0.0</td>\n",
              "      <td>0.0</td>\n",
              "      <td>0.0</td>\n",
              "      <td>0.0</td>\n",
              "      <td>0.0</td>\n",
              "      <td>0.0</td>\n",
              "      <td>UEFA</td>\n",
              "      <td>1993-08-08</td>\n",
              "      <td>1910-05-16</td>\n",
              "      <td>Germany</td>\n",
              "      <td>Belgium</td>\n",
              "      <td>0</td>\n",
              "      <td>3</td>\n",
              "      <td>Friendly</td>\n",
              "      <td>Duisburg</td>\n",
              "      <td>False</td>\n",
              "    </tr>\n",
              "    <tr>\n",
              "      <th>2</th>\n",
              "      <td>1</td>\n",
              "      <td>Germany</td>\n",
              "      <td>GER</td>\n",
              "      <td>0.0</td>\n",
              "      <td>57</td>\n",
              "      <td>0</td>\n",
              "      <td>0.0</td>\n",
              "      <td>0.0</td>\n",
              "      <td>0.0</td>\n",
              "      <td>0.0</td>\n",
              "      <td>0.0</td>\n",
              "      <td>0.0</td>\n",
              "      <td>0.0</td>\n",
              "      <td>0.0</td>\n",
              "      <td>UEFA</td>\n",
              "      <td>1993-08-08</td>\n",
              "      <td>1910-10-16</td>\n",
              "      <td>Germany</td>\n",
              "      <td>Netherlands</td>\n",
              "      <td>1</td>\n",
              "      <td>2</td>\n",
              "      <td>Friendly</td>\n",
              "      <td>Kleve</td>\n",
              "      <td>False</td>\n",
              "    </tr>\n",
              "  </tbody>\n",
              "</table>\n",
              "</div>"
            ],
            "text/plain": [
              "   rank  country country_abrv  ...  tournament       city  neutral\n",
              "0     1  Germany          GER  ...    Friendly  Karlsruhe    False\n",
              "1     1  Germany          GER  ...    Friendly   Duisburg    False\n",
              "2     1  Germany          GER  ...    Friendly      Kleve    False\n",
              "\n",
              "[3 rows x 24 columns]"
            ]
          },
          "metadata": {
            "tags": []
          },
          "execution_count": 16
        }
      ]
    },
    {
      "cell_type": "code",
      "metadata": {
        "id": "ifjVbCpreC0Q",
        "colab_type": "code",
        "colab": {
          "base_uri": "https://localhost:8080/",
          "height": 224
        },
        "outputId": "63d44f68-3c0c-4738-cf95-29da9bbead92"
      },
      "source": [
        "# Previewing the bottom of our dataset\n",
        "#\n",
        "df.tail(3)"
      ],
      "execution_count": 17,
      "outputs": [
        {
          "output_type": "execute_result",
          "data": {
            "text/html": [
              "<div>\n",
              "<style scoped>\n",
              "    .dataframe tbody tr th:only-of-type {\n",
              "        vertical-align: middle;\n",
              "    }\n",
              "\n",
              "    .dataframe tbody tr th {\n",
              "        vertical-align: top;\n",
              "    }\n",
              "\n",
              "    .dataframe thead th {\n",
              "        text-align: right;\n",
              "    }\n",
              "</style>\n",
              "<table border=\"1\" class=\"dataframe\">\n",
              "  <thead>\n",
              "    <tr style=\"text-align: right;\">\n",
              "      <th></th>\n",
              "      <th>rank</th>\n",
              "      <th>country</th>\n",
              "      <th>country_abrv</th>\n",
              "      <th>total_points</th>\n",
              "      <th>previous_points</th>\n",
              "      <th>rank_change</th>\n",
              "      <th>cur_year_avg</th>\n",
              "      <th>cur_year_avg_weighted</th>\n",
              "      <th>last_year_avg</th>\n",
              "      <th>last_year_avg_weighted</th>\n",
              "      <th>two_year_ago_avg</th>\n",
              "      <th>two_year_ago_weighted</th>\n",
              "      <th>three_year_ago_avg</th>\n",
              "      <th>three_year_ago_weighted</th>\n",
              "      <th>confederation</th>\n",
              "      <th>rank_date</th>\n",
              "      <th>date</th>\n",
              "      <th>home_team</th>\n",
              "      <th>away_team</th>\n",
              "      <th>home_score</th>\n",
              "      <th>away_score</th>\n",
              "      <th>tournament</th>\n",
              "      <th>city</th>\n",
              "      <th>neutral</th>\n",
              "    </tr>\n",
              "  </thead>\n",
              "  <tbody>\n",
              "    <tr>\n",
              "      <th>10240698</th>\n",
              "      <td>195</td>\n",
              "      <td>Gibraltar</td>\n",
              "      <td>GIB</td>\n",
              "      <td>34.16</td>\n",
              "      <td>34</td>\n",
              "      <td>1</td>\n",
              "      <td>34.16</td>\n",
              "      <td>34.16</td>\n",
              "      <td>0.0</td>\n",
              "      <td>0.0</td>\n",
              "      <td>0.0</td>\n",
              "      <td>0.0</td>\n",
              "      <td>0.0</td>\n",
              "      <td>0.0</td>\n",
              "      <td>UEFA</td>\n",
              "      <td>2018-06-07</td>\n",
              "      <td>2018-11-16</td>\n",
              "      <td>Gibraltar</td>\n",
              "      <td>Armenia</td>\n",
              "      <td>2</td>\n",
              "      <td>6</td>\n",
              "      <td>UEFA Nations League</td>\n",
              "      <td>Gibraltar</td>\n",
              "      <td>False</td>\n",
              "    </tr>\n",
              "    <tr>\n",
              "      <th>10240699</th>\n",
              "      <td>195</td>\n",
              "      <td>Gibraltar</td>\n",
              "      <td>GIB</td>\n",
              "      <td>34.16</td>\n",
              "      <td>34</td>\n",
              "      <td>1</td>\n",
              "      <td>34.16</td>\n",
              "      <td>34.16</td>\n",
              "      <td>0.0</td>\n",
              "      <td>0.0</td>\n",
              "      <td>0.0</td>\n",
              "      <td>0.0</td>\n",
              "      <td>0.0</td>\n",
              "      <td>0.0</td>\n",
              "      <td>UEFA</td>\n",
              "      <td>2018-06-07</td>\n",
              "      <td>2019-03-23</td>\n",
              "      <td>Gibraltar</td>\n",
              "      <td>Republic of Ireland</td>\n",
              "      <td>0</td>\n",
              "      <td>1</td>\n",
              "      <td>UEFA Euro qualification</td>\n",
              "      <td>Gibraltar</td>\n",
              "      <td>False</td>\n",
              "    </tr>\n",
              "    <tr>\n",
              "      <th>10240700</th>\n",
              "      <td>195</td>\n",
              "      <td>Gibraltar</td>\n",
              "      <td>GIB</td>\n",
              "      <td>34.16</td>\n",
              "      <td>34</td>\n",
              "      <td>1</td>\n",
              "      <td>34.16</td>\n",
              "      <td>34.16</td>\n",
              "      <td>0.0</td>\n",
              "      <td>0.0</td>\n",
              "      <td>0.0</td>\n",
              "      <td>0.0</td>\n",
              "      <td>0.0</td>\n",
              "      <td>0.0</td>\n",
              "      <td>UEFA</td>\n",
              "      <td>2018-06-07</td>\n",
              "      <td>2019-03-26</td>\n",
              "      <td>Gibraltar</td>\n",
              "      <td>Estonia</td>\n",
              "      <td>0</td>\n",
              "      <td>1</td>\n",
              "      <td>Friendly</td>\n",
              "      <td>Gibraltar</td>\n",
              "      <td>False</td>\n",
              "    </tr>\n",
              "  </tbody>\n",
              "</table>\n",
              "</div>"
            ],
            "text/plain": [
              "          rank    country  ...       city  neutral\n",
              "10240698   195  Gibraltar  ...  Gibraltar    False\n",
              "10240699   195  Gibraltar  ...  Gibraltar    False\n",
              "10240700   195  Gibraltar  ...  Gibraltar    False\n",
              "\n",
              "[3 rows x 24 columns]"
            ]
          },
          "metadata": {
            "tags": []
          },
          "execution_count": 17
        }
      ]
    },
    {
      "cell_type": "code",
      "metadata": {
        "id": "sVWlNb_RDvwr",
        "colab_type": "code",
        "colab": {
          "base_uri": "https://localhost:8080/",
          "height": 307
        },
        "outputId": "de9fe5c8-4294-4e09-daba-d6bc0b2d72aa"
      },
      "source": [
        "# Taking a look at our statistical summaries\n",
        "#\n",
        "df.describe()"
      ],
      "execution_count": 18,
      "outputs": [
        {
          "output_type": "execute_result",
          "data": {
            "text/html": [
              "<div>\n",
              "<style scoped>\n",
              "    .dataframe tbody tr th:only-of-type {\n",
              "        vertical-align: middle;\n",
              "    }\n",
              "\n",
              "    .dataframe tbody tr th {\n",
              "        vertical-align: top;\n",
              "    }\n",
              "\n",
              "    .dataframe thead th {\n",
              "        text-align: right;\n",
              "    }\n",
              "</style>\n",
              "<table border=\"1\" class=\"dataframe\">\n",
              "  <thead>\n",
              "    <tr style=\"text-align: right;\">\n",
              "      <th></th>\n",
              "      <th>rank</th>\n",
              "      <th>total_points</th>\n",
              "      <th>previous_points</th>\n",
              "      <th>rank_change</th>\n",
              "      <th>cur_year_avg</th>\n",
              "      <th>cur_year_avg_weighted</th>\n",
              "      <th>last_year_avg</th>\n",
              "      <th>last_year_avg_weighted</th>\n",
              "      <th>two_year_ago_avg</th>\n",
              "      <th>two_year_ago_weighted</th>\n",
              "      <th>three_year_ago_avg</th>\n",
              "      <th>three_year_ago_weighted</th>\n",
              "      <th>home_score</th>\n",
              "      <th>away_score</th>\n",
              "    </tr>\n",
              "  </thead>\n",
              "  <tbody>\n",
              "    <tr>\n",
              "      <th>count</th>\n",
              "      <td>1.024070e+07</td>\n",
              "      <td>1.024070e+07</td>\n",
              "      <td>1.024070e+07</td>\n",
              "      <td>1.024070e+07</td>\n",
              "      <td>1.024070e+07</td>\n",
              "      <td>1.024070e+07</td>\n",
              "      <td>1.024070e+07</td>\n",
              "      <td>1.024070e+07</td>\n",
              "      <td>1.024070e+07</td>\n",
              "      <td>1.024070e+07</td>\n",
              "      <td>1.024070e+07</td>\n",
              "      <td>1.024070e+07</td>\n",
              "      <td>1.024070e+07</td>\n",
              "      <td>1.024070e+07</td>\n",
              "    </tr>\n",
              "    <tr>\n",
              "      <th>mean</th>\n",
              "      <td>6.913781e+01</td>\n",
              "      <td>1.723203e+02</td>\n",
              "      <td>4.596894e+02</td>\n",
              "      <td>-2.487730e-02</td>\n",
              "      <td>8.696770e+01</td>\n",
              "      <td>8.696770e+01</td>\n",
              "      <td>8.602791e+01</td>\n",
              "      <td>4.301402e+01</td>\n",
              "      <td>8.486915e+01</td>\n",
              "      <td>2.546078e+01</td>\n",
              "      <td>8.437956e+01</td>\n",
              "      <td>1.687593e+01</td>\n",
              "      <td>1.734412e+00</td>\n",
              "      <td>1.179132e+00</td>\n",
              "    </tr>\n",
              "    <tr>\n",
              "      <th>std</th>\n",
              "      <td>5.084940e+01</td>\n",
              "      <td>3.364306e+02</td>\n",
              "      <td>3.536158e+02</td>\n",
              "      <td>5.380187e+00</td>\n",
              "      <td>1.766095e+02</td>\n",
              "      <td>1.766095e+02</td>\n",
              "      <td>1.766132e+02</td>\n",
              "      <td>8.830662e+01</td>\n",
              "      <td>1.738576e+02</td>\n",
              "      <td>5.215731e+01</td>\n",
              "      <td>1.730509e+02</td>\n",
              "      <td>3.461018e+01</td>\n",
              "      <td>1.733334e+00</td>\n",
              "      <td>1.381380e+00</td>\n",
              "    </tr>\n",
              "    <tr>\n",
              "      <th>min</th>\n",
              "      <td>1.000000e+00</td>\n",
              "      <td>0.000000e+00</td>\n",
              "      <td>0.000000e+00</td>\n",
              "      <td>-7.200000e+01</td>\n",
              "      <td>0.000000e+00</td>\n",
              "      <td>0.000000e+00</td>\n",
              "      <td>0.000000e+00</td>\n",
              "      <td>0.000000e+00</td>\n",
              "      <td>0.000000e+00</td>\n",
              "      <td>0.000000e+00</td>\n",
              "      <td>0.000000e+00</td>\n",
              "      <td>0.000000e+00</td>\n",
              "      <td>0.000000e+00</td>\n",
              "      <td>0.000000e+00</td>\n",
              "    </tr>\n",
              "    <tr>\n",
              "      <th>25%</th>\n",
              "      <td>2.500000e+01</td>\n",
              "      <td>0.000000e+00</td>\n",
              "      <td>1.400000e+02</td>\n",
              "      <td>-2.000000e+00</td>\n",
              "      <td>0.000000e+00</td>\n",
              "      <td>0.000000e+00</td>\n",
              "      <td>0.000000e+00</td>\n",
              "      <td>0.000000e+00</td>\n",
              "      <td>0.000000e+00</td>\n",
              "      <td>0.000000e+00</td>\n",
              "      <td>0.000000e+00</td>\n",
              "      <td>0.000000e+00</td>\n",
              "      <td>1.000000e+00</td>\n",
              "      <td>0.000000e+00</td>\n",
              "    </tr>\n",
              "    <tr>\n",
              "      <th>50%</th>\n",
              "      <td>6.100000e+01</td>\n",
              "      <td>0.000000e+00</td>\n",
              "      <td>4.430000e+02</td>\n",
              "      <td>0.000000e+00</td>\n",
              "      <td>0.000000e+00</td>\n",
              "      <td>0.000000e+00</td>\n",
              "      <td>0.000000e+00</td>\n",
              "      <td>0.000000e+00</td>\n",
              "      <td>0.000000e+00</td>\n",
              "      <td>0.000000e+00</td>\n",
              "      <td>0.000000e+00</td>\n",
              "      <td>0.000000e+00</td>\n",
              "      <td>1.000000e+00</td>\n",
              "      <td>1.000000e+00</td>\n",
              "    </tr>\n",
              "    <tr>\n",
              "      <th>75%</th>\n",
              "      <td>1.050000e+02</td>\n",
              "      <td>1.948700e+02</td>\n",
              "      <td>6.600000e+02</td>\n",
              "      <td>1.000000e+00</td>\n",
              "      <td>8.279000e+01</td>\n",
              "      <td>8.279000e+01</td>\n",
              "      <td>8.179000e+01</td>\n",
              "      <td>4.090000e+01</td>\n",
              "      <td>7.841000e+01</td>\n",
              "      <td>2.352000e+01</td>\n",
              "      <td>7.845000e+01</td>\n",
              "      <td>1.569000e+01</td>\n",
              "      <td>2.000000e+00</td>\n",
              "      <td>2.000000e+00</td>\n",
              "    </tr>\n",
              "    <tr>\n",
              "      <th>max</th>\n",
              "      <td>2.090000e+02</td>\n",
              "      <td>1.775030e+03</td>\n",
              "      <td>1.920000e+03</td>\n",
              "      <td>9.200000e+01</td>\n",
              "      <td>1.158660e+03</td>\n",
              "      <td>1.158660e+03</td>\n",
              "      <td>1.169570e+03</td>\n",
              "      <td>5.847900e+02</td>\n",
              "      <td>1.159710e+03</td>\n",
              "      <td>3.479100e+02</td>\n",
              "      <td>1.200770e+03</td>\n",
              "      <td>2.401500e+02</td>\n",
              "      <td>3.100000e+01</td>\n",
              "      <td>2.100000e+01</td>\n",
              "    </tr>\n",
              "  </tbody>\n",
              "</table>\n",
              "</div>"
            ],
            "text/plain": [
              "               rank  total_points  ...    home_score    away_score\n",
              "count  1.024070e+07  1.024070e+07  ...  1.024070e+07  1.024070e+07\n",
              "mean   6.913781e+01  1.723203e+02  ...  1.734412e+00  1.179132e+00\n",
              "std    5.084940e+01  3.364306e+02  ...  1.733334e+00  1.381380e+00\n",
              "min    1.000000e+00  0.000000e+00  ...  0.000000e+00  0.000000e+00\n",
              "25%    2.500000e+01  0.000000e+00  ...  1.000000e+00  0.000000e+00\n",
              "50%    6.100000e+01  0.000000e+00  ...  1.000000e+00  1.000000e+00\n",
              "75%    1.050000e+02  1.948700e+02  ...  2.000000e+00  2.000000e+00\n",
              "max    2.090000e+02  1.775030e+03  ...  3.100000e+01  2.100000e+01\n",
              "\n",
              "[8 rows x 14 columns]"
            ]
          },
          "metadata": {
            "tags": []
          },
          "execution_count": 18
        }
      ]
    },
    {
      "cell_type": "markdown",
      "metadata": {
        "id": "2WH_GfCFbhrg",
        "colab_type": "text"
      },
      "source": [
        "## *4.* External Source Validation\n",
        "\n",
        ">Our measurements are in line with what has been recorded. We got our external source validation and confirmed our dataset from Autolib Car sharing company.\n"
      ]
    },
    {
      "cell_type": "markdown",
      "metadata": {
        "id": "h7BBPWvgb4_X",
        "colab_type": "text"
      },
      "source": [
        "## *5.* Tidying the Dataset\n"
      ]
    },
    {
      "cell_type": "markdown",
      "metadata": {
        "id": "u5LowEDRXzXk",
        "colab_type": "text"
      },
      "source": [
        "Tidying column names"
      ]
    },
    {
      "cell_type": "code",
      "metadata": {
        "id": "mnFRQOWTEbSt",
        "colab_type": "code",
        "colab": {
          "base_uri": "https://localhost:8080/",
          "height": 161
        },
        "outputId": "f463e572-bcb7-43d5-dfe3-94b511f38260"
      },
      "source": [
        "# Data cleaning procedures, fixing column names to lower case\n",
        "#\n",
        "df.columns= df.columns.str.strip().str.lower().str.replace(' ','_')\n",
        "df.head(2)"
      ],
      "execution_count": 19,
      "outputs": [
        {
          "output_type": "execute_result",
          "data": {
            "text/html": [
              "<div>\n",
              "<style scoped>\n",
              "    .dataframe tbody tr th:only-of-type {\n",
              "        vertical-align: middle;\n",
              "    }\n",
              "\n",
              "    .dataframe tbody tr th {\n",
              "        vertical-align: top;\n",
              "    }\n",
              "\n",
              "    .dataframe thead th {\n",
              "        text-align: right;\n",
              "    }\n",
              "</style>\n",
              "<table border=\"1\" class=\"dataframe\">\n",
              "  <thead>\n",
              "    <tr style=\"text-align: right;\">\n",
              "      <th></th>\n",
              "      <th>rank</th>\n",
              "      <th>country</th>\n",
              "      <th>country_abrv</th>\n",
              "      <th>total_points</th>\n",
              "      <th>previous_points</th>\n",
              "      <th>rank_change</th>\n",
              "      <th>cur_year_avg</th>\n",
              "      <th>cur_year_avg_weighted</th>\n",
              "      <th>last_year_avg</th>\n",
              "      <th>last_year_avg_weighted</th>\n",
              "      <th>two_year_ago_avg</th>\n",
              "      <th>two_year_ago_weighted</th>\n",
              "      <th>three_year_ago_avg</th>\n",
              "      <th>three_year_ago_weighted</th>\n",
              "      <th>confederation</th>\n",
              "      <th>rank_date</th>\n",
              "      <th>date</th>\n",
              "      <th>home_team</th>\n",
              "      <th>away_team</th>\n",
              "      <th>home_score</th>\n",
              "      <th>away_score</th>\n",
              "      <th>tournament</th>\n",
              "      <th>city</th>\n",
              "      <th>neutral</th>\n",
              "    </tr>\n",
              "  </thead>\n",
              "  <tbody>\n",
              "    <tr>\n",
              "      <th>0</th>\n",
              "      <td>1</td>\n",
              "      <td>Germany</td>\n",
              "      <td>GER</td>\n",
              "      <td>0.0</td>\n",
              "      <td>57</td>\n",
              "      <td>0</td>\n",
              "      <td>0.0</td>\n",
              "      <td>0.0</td>\n",
              "      <td>0.0</td>\n",
              "      <td>0.0</td>\n",
              "      <td>0.0</td>\n",
              "      <td>0.0</td>\n",
              "      <td>0.0</td>\n",
              "      <td>0.0</td>\n",
              "      <td>UEFA</td>\n",
              "      <td>1993-08-08</td>\n",
              "      <td>1909-04-04</td>\n",
              "      <td>Germany</td>\n",
              "      <td>Switzerland</td>\n",
              "      <td>1</td>\n",
              "      <td>0</td>\n",
              "      <td>Friendly</td>\n",
              "      <td>Karlsruhe</td>\n",
              "      <td>False</td>\n",
              "    </tr>\n",
              "    <tr>\n",
              "      <th>1</th>\n",
              "      <td>1</td>\n",
              "      <td>Germany</td>\n",
              "      <td>GER</td>\n",
              "      <td>0.0</td>\n",
              "      <td>57</td>\n",
              "      <td>0</td>\n",
              "      <td>0.0</td>\n",
              "      <td>0.0</td>\n",
              "      <td>0.0</td>\n",
              "      <td>0.0</td>\n",
              "      <td>0.0</td>\n",
              "      <td>0.0</td>\n",
              "      <td>0.0</td>\n",
              "      <td>0.0</td>\n",
              "      <td>UEFA</td>\n",
              "      <td>1993-08-08</td>\n",
              "      <td>1910-05-16</td>\n",
              "      <td>Germany</td>\n",
              "      <td>Belgium</td>\n",
              "      <td>0</td>\n",
              "      <td>3</td>\n",
              "      <td>Friendly</td>\n",
              "      <td>Duisburg</td>\n",
              "      <td>False</td>\n",
              "    </tr>\n",
              "  </tbody>\n",
              "</table>\n",
              "</div>"
            ],
            "text/plain": [
              "   rank  country country_abrv  ...  tournament       city  neutral\n",
              "0     1  Germany          GER  ...    Friendly  Karlsruhe    False\n",
              "1     1  Germany          GER  ...    Friendly   Duisburg    False\n",
              "\n",
              "[2 rows x 24 columns]"
            ]
          },
          "metadata": {
            "tags": []
          },
          "execution_count": 19
        }
      ]
    },
    {
      "cell_type": "code",
      "metadata": {
        "id": "KRAwBO66WrDI",
        "colab_type": "code",
        "colab": {
          "base_uri": "https://localhost:8080/",
          "height": 141
        },
        "outputId": "1ce77ae7-f9da-46b2-8180-93a9b771f57f"
      },
      "source": [
        "# Review column names to ensure proper naming\n",
        "df.columns"
      ],
      "execution_count": 20,
      "outputs": [
        {
          "output_type": "execute_result",
          "data": {
            "text/plain": [
              "Index(['rank', 'country', 'country_abrv', 'total_points', 'previous_points',\n",
              "       'rank_change', 'cur_year_avg', 'cur_year_avg_weighted', 'last_year_avg',\n",
              "       'last_year_avg_weighted', 'two_year_ago_avg', 'two_year_ago_weighted',\n",
              "       'three_year_ago_avg', 'three_year_ago_weighted', 'confederation',\n",
              "       'rank_date', 'date', 'home_team', 'away_team', 'home_score',\n",
              "       'away_score', 'tournament', 'city', 'neutral'],\n",
              "      dtype='object')"
            ]
          },
          "metadata": {
            "tags": []
          },
          "execution_count": 20
        }
      ]
    },
    {
      "cell_type": "code",
      "metadata": {
        "id": "2QCr-Z1MYupa",
        "colab_type": "code",
        "colab": {
          "base_uri": "https://localhost:8080/",
          "height": 461
        },
        "outputId": "379bd609-dd33-4183-f427-d23892207142"
      },
      "source": [
        "# checking column data types\n",
        "df.dtypes"
      ],
      "execution_count": 21,
      "outputs": [
        {
          "output_type": "execute_result",
          "data": {
            "text/plain": [
              "rank                         int64\n",
              "country                     object\n",
              "country_abrv                object\n",
              "total_points               float64\n",
              "previous_points              int64\n",
              "rank_change                  int64\n",
              "cur_year_avg               float64\n",
              "cur_year_avg_weighted      float64\n",
              "last_year_avg              float64\n",
              "last_year_avg_weighted     float64\n",
              "two_year_ago_avg           float64\n",
              "two_year_ago_weighted      float64\n",
              "three_year_ago_avg         float64\n",
              "three_year_ago_weighted    float64\n",
              "confederation               object\n",
              "rank_date                   object\n",
              "date                        object\n",
              "home_team                   object\n",
              "away_team                   object\n",
              "home_score                   int64\n",
              "away_score                   int64\n",
              "tournament                  object\n",
              "city                        object\n",
              "neutral                       bool\n",
              "dtype: object"
            ]
          },
          "metadata": {
            "tags": []
          },
          "execution_count": 21
        }
      ]
    },
    {
      "cell_type": "markdown",
      "metadata": {
        "colab_type": "text",
        "id": "9UYJSehGQXx0"
      },
      "source": [
        "We will have to change the data types of objects to categorical"
      ]
    },
    {
      "cell_type": "code",
      "metadata": {
        "colab_type": "code",
        "id": "Z-KOyksqQght",
        "colab": {
          "base_uri": "https://localhost:8080/",
          "height": 478
        },
        "outputId": "12960912-52a2-4d89-9f46-8626033f97a9"
      },
      "source": [
        "# Changing the column datatypes (object) of the data we'll be using into category\n",
        "df['tounament'] = df.tournament.astype('category')\n",
        "df['home_team'] = df.home_team.astype('category')\n",
        "df['away_team'] = df.away_team.astype('category')\n",
        "df.dtypes"
      ],
      "execution_count": 22,
      "outputs": [
        {
          "output_type": "execute_result",
          "data": {
            "text/plain": [
              "rank                          int64\n",
              "country                      object\n",
              "country_abrv                 object\n",
              "total_points                float64\n",
              "previous_points               int64\n",
              "rank_change                   int64\n",
              "cur_year_avg                float64\n",
              "cur_year_avg_weighted       float64\n",
              "last_year_avg               float64\n",
              "last_year_avg_weighted      float64\n",
              "two_year_ago_avg            float64\n",
              "two_year_ago_weighted       float64\n",
              "three_year_ago_avg          float64\n",
              "three_year_ago_weighted     float64\n",
              "confederation                object\n",
              "rank_date                    object\n",
              "date                         object\n",
              "home_team                  category\n",
              "away_team                  category\n",
              "home_score                    int64\n",
              "away_score                    int64\n",
              "tournament                   object\n",
              "city                         object\n",
              "neutral                        bool\n",
              "tounament                  category\n",
              "dtype: object"
            ]
          },
          "metadata": {
            "tags": []
          },
          "execution_count": 22
        }
      ]
    },
    {
      "cell_type": "markdown",
      "metadata": {
        "id": "IUyFHNbAeIsL",
        "colab_type": "text"
      },
      "source": [
        "Dealing with missing values"
      ]
    },
    {
      "cell_type": "code",
      "metadata": {
        "id": "nlxQLha4f9uI",
        "colab_type": "code",
        "colab": {
          "base_uri": "https://localhost:8080/",
          "height": 478
        },
        "outputId": "d5d51d2d-1daf-4fc4-edb0-d0cdb6596fd0"
      },
      "source": [
        "# Identifying the Missing Data\n",
        "df.isnull().sum()"
      ],
      "execution_count": 23,
      "outputs": [
        {
          "output_type": "execute_result",
          "data": {
            "text/plain": [
              "rank                       0\n",
              "country                    0\n",
              "country_abrv               0\n",
              "total_points               0\n",
              "previous_points            0\n",
              "rank_change                0\n",
              "cur_year_avg               0\n",
              "cur_year_avg_weighted      0\n",
              "last_year_avg              0\n",
              "last_year_avg_weighted     0\n",
              "two_year_ago_avg           0\n",
              "two_year_ago_weighted      0\n",
              "three_year_ago_avg         0\n",
              "three_year_ago_weighted    0\n",
              "confederation              0\n",
              "rank_date                  0\n",
              "date                       0\n",
              "home_team                  0\n",
              "away_team                  0\n",
              "home_score                 0\n",
              "away_score                 0\n",
              "tournament                 0\n",
              "city                       0\n",
              "neutral                    0\n",
              "tounament                  0\n",
              "dtype: int64"
            ]
          },
          "metadata": {
            "tags": []
          },
          "execution_count": 23
        }
      ]
    },
    {
      "cell_type": "markdown",
      "metadata": {
        "id": "8WWMfvliQrNN",
        "colab_type": "text"
      },
      "source": [
        "We have no missing values"
      ]
    },
    {
      "cell_type": "markdown",
      "metadata": {
        "id": "KrTyisJAeWEZ",
        "colab_type": "text"
      },
      "source": [
        "Checking for consistency and Uniformity"
      ]
    },
    {
      "cell_type": "code",
      "metadata": {
        "id": "4A5zObwaei7Z",
        "colab_type": "code",
        "colab": {
          "base_uri": "https://localhost:8080/",
          "height": 1000
        },
        "outputId": "3698f208-05d4-446f-e7f9-f9d438feb0ae"
      },
      "source": [
        "# Checking for unique values per column. To check for any anomalies\n",
        "for column in df.columns:\n",
        "  print('\\n')\n",
        "  print(df[column].nunique())\n",
        "  print(df[column].unique())"
      ],
      "execution_count": 24,
      "outputs": [
        {
          "output_type": "stream",
          "text": [
            "\n",
            "\n",
            "209\n",
            "[  1   5   4   3   2   6   9  11   8  12  14  10   7  13  16  19  17  18\n",
            "  20  21  15  22  26  31  35  39  43  47  51  56  61  63  64  65  62  68\n",
            "  69  70  81  73  76  77  82  83  60  54  53  50  49  48  52  55  57  58\n",
            "  59  67  45  44  41  40  42  38  36  37  25  46  27  24  23  29  30  28\n",
            "  32  33  34  66  84  86  87  88  85  71  74  75  72  78  79  80  92  90\n",
            "  96 102  97  89  91  94  98  99 107 108 101 103  95 113 109 110 106 105\n",
            " 100 104 111 112 116 115 114 117  93 118 122 124 129 119 126 120 131 127\n",
            " 123 121 130 138 132 139 128 125 133 141 140 144 143 159 167 172 171 168\n",
            " 165 166 173 174 181 186 188 189 176 160 147 158 169 156 134 137 135 136\n",
            " 152 142 146 148 149 157 145 150 162 161 163 154 155 153 164 170 151 175\n",
            " 178 184 183 179 185 180 177 187 182 190 191 192 193 194 196 195 197 198\n",
            " 199 200 201 202 203 204 206 205 207 208 209]\n",
            "\n",
            "\n",
            "196\n",
            "['Germany' 'Italy' 'Switzerland' 'Sweden' 'Argentina'\n",
            " 'Republic of Ireland' 'Russia' 'Brazil' 'Norway' 'Denmark' 'England'\n",
            " 'France' 'Spain' 'Mexico' 'Netherlands' 'Nigeria' 'Belgium' 'Colombia'\n",
            " 'Poland' 'Romania' 'Uruguay' 'Portugal' 'Cameroon' 'Zambia' 'Egypt'\n",
            " 'Wales' 'Scotland' 'Tunisia' 'Greece' 'Morocco' 'Algeria' 'Ecuador'\n",
            " 'Bulgaria' 'Austria' 'Costa Rica' 'Northern Ireland' 'Honduras' 'Hungary'\n",
            " 'Japan' 'Saudi Arabia' 'China PR' 'Canada' 'Finland' 'Ghana' 'Chile'\n",
            " 'Zimbabwe' 'Qatar' 'Australia' 'Iceland' 'United Arab Emirates'\n",
            " 'Yugoslavia' 'Iraq' 'Senegal' 'Bolivia' 'Kuwait' 'El Salvador' 'Turkey'\n",
            " 'Gabon' 'Guinea' 'Thailand' 'Paraguay' 'Malawi' 'Israel' 'Peru' 'Cyprus'\n",
            " 'Singapore' 'Mali' 'Malaysia' 'Bermuda' 'Niger' 'Syria' 'Bahrain'\n",
            " 'New Zealand' 'Madagascar' 'Malta' 'Jamaica' 'Lithuania'\n",
            " 'Trinidad and Tobago' 'Sierra Leone' 'Jordan' 'Kenya' 'Latvia' 'Yemen'\n",
            " 'Tanzania' 'Albania' 'Angola' 'Venezuela' 'Ethiopia' 'Burundi' 'Oman'\n",
            " 'Indonesia' 'Liberia' 'Mozambique' 'Puerto Rico' 'Hong Kong' 'Uganda'\n",
            " 'Barbados' 'Myanmar' 'Congo' 'Lebanon' 'South Africa' 'Luxembourg'\n",
            " 'Faroe Islands' 'Guatemala' 'Burkina Faso' 'Togo' 'Suriname' 'Fiji'\n",
            " 'Croatia' 'Estonia' 'San Marino' 'Bangladesh' 'Netherlands Antilles'\n",
            " 'Mauritius' 'Benin' 'Panama' 'Sudan' 'Antigua and Barbuda' 'Slovenia'\n",
            " 'India' 'Belarus' 'Ukraine' 'Vietnam' 'Guinea-Bissau' 'Guyana' 'Botswana'\n",
            " 'Tahiti' 'Grenada' 'Haiti' 'Libya' 'Laos' 'Mauritania' 'Solomon Islands'\n",
            " 'Lesotho' 'Dominican Republic' 'Pakistan' 'Nicaragua' 'Cuba' 'Seychelles'\n",
            " 'Central African Republic' 'Gambia' 'Namibia' 'Cayman Islands' 'Nepal'\n",
            " 'Liechtenstein' 'Equatorial Guinea' 'Chinese Taipei' 'Sri Lanka'\n",
            " 'Philippines' 'Chad' 'Vanuatu' 'Aruba' 'Bahamas' 'Maldives' 'Macau'\n",
            " 'Slovakia' 'Czech Republic' 'Georgia' 'Moldova' 'Armenia' 'Azerbaijan'\n",
            " 'Uzbekistan' 'Turkmenistan' 'Kazakhstan' 'Tajikistan' 'Somalia'\n",
            " 'Djibouti' 'Dominica' 'Rwanda' 'Belize' 'Cambodia'\n",
            " 'Bosnia and Herzegovina' 'Guam' 'Papua New Guinea' 'Tonga' 'Samoa'\n",
            " 'Andorra' 'Cook Islands' 'British Virgin Islands' 'Anguilla' 'Eritrea'\n",
            " 'Palestine' 'Mongolia' 'Turks and Caicos Islands' 'Montserrat' 'Bhutan'\n",
            " 'Serbia and Montenegro' 'Afghanistan' 'New Caledonia' 'Serbia' 'Comoros'\n",
            " 'Montenegro' 'CuraÃ§ao' 'South Sudan' 'Kosovo' 'Gibraltar']\n",
            "\n",
            "\n",
            "196\n",
            "['GER' 'ITA' 'SUI' 'SWE' 'ARG' 'IRL' 'RUS' 'BRA' 'NOR' 'DEN' 'ENG' 'FRA'\n",
            " 'ESP' 'MEX' 'NED' 'NGA' 'BEL' 'COL' 'POL' 'ROU' 'URU' 'POR' 'CMR' 'ZAM'\n",
            " 'EGY' 'WAL' 'SCO' 'TUN' 'GRE' 'MAR' 'ALG' 'ECU' 'BUL' 'AUT' 'CRC' 'NIR'\n",
            " 'HON' 'HUN' 'JPN' 'KSA' 'CHN' 'CAN' 'FIN' 'GHA' 'CHI' 'ZIM' 'QAT' 'AUS'\n",
            " 'ISL' 'UAE' 'YUG' 'IRQ' 'SEN' 'BOL' 'KUW' 'SLV' 'TUR' 'GAB' 'GUI' 'THA'\n",
            " 'PAR' 'MWI' 'ISR' 'PER' 'CYP' 'SIN' 'MLI' 'MAS' 'BER' 'NIG' 'SYR' 'BHR'\n",
            " 'NZL' 'MAD' 'MLT' 'JAM' 'LTU' 'TRI' 'SLE' 'JOR' 'KEN' 'LVA' 'YEM' 'TAN'\n",
            " 'ALB' 'ANG' 'VEN' 'ETH' 'BDI' 'OMA' 'IDN' 'LBR' 'MOZ' 'PUR' 'HKG' 'UGA'\n",
            " 'BRB' 'MYA' 'CGO' 'LIB' 'RSA' 'LUX' 'FRO' 'GUA' 'BFA' 'TOG' 'SUR' 'FIJ'\n",
            " 'CRO' 'EST' 'SMR' 'BAN' 'ANT' 'MRI' 'BEN' 'PAN' 'SDN' 'ATG' 'SVN' 'IND'\n",
            " 'BLR' 'UKR' 'VIE' 'GNB' 'GUY' 'BOT' 'TAH' 'GRN' 'HAI' 'LBY' 'LAO' 'MTN'\n",
            " 'SOL' 'LES' 'DOM' 'PAK' 'NCA' 'CUB' 'SEY' 'CTA' 'GAM' 'NAM' 'CAY' 'NEP'\n",
            " 'LIE' 'EQG' 'TPE' 'SRI' 'PHI' 'CHA' 'VAN' 'ARU' 'BAH' 'MDV' 'MAC' 'SVK'\n",
            " 'CZE' 'GEO' 'MDA' 'ARM' 'AZE' 'UZB' 'TKM' 'KAZ' 'TJK' 'SOM' 'DJI' 'DMA'\n",
            " 'RWA' 'BLZ' 'CAM' 'BIH' 'GUM' 'PNG' 'TGA' 'SAM' 'AND' 'COK' 'VGB' 'AIA'\n",
            " 'ERI' 'PLE' 'MNG' 'TCA' 'MSR' 'BHU' 'SCG' 'AFG' 'NCL' 'SRB' 'COM' 'MNE'\n",
            " 'CUW' 'SSD' 'KVX' 'GIB']\n",
            "\n",
            "\n",
            "10297\n",
            "[   0.   1329.86 1289.99 ...   97.49  163.57   34.16]\n",
            "\n",
            "\n",
            "1556\n",
            "[  57   55   58 ... 1048    1 1253]\n",
            "\n",
            "\n",
            "121\n",
            "[  0  -4   1   2  -1  -3  -2   3  -7   6  10  -5  12   4   8  11  -6   9\n",
            "   5 -11  18   7  22 -20  -9 -10  -8  16 -13  13  20 -15 -12  15 -14 -23\n",
            "  35 -16  19 -17  14  17  24 -25  25 -27 -26  26 -18 -29  32  21  23 -21\n",
            "  29  28 -22 -19  27  45  30  34 -28 -43 -24 -31 -47  38 -37  39  40  37\n",
            "  31 -36 -50 -34  36 -53  55  46 -40 -33 -45 -52  41 -32  57  54  33  42\n",
            "  43 -42 -38  65 -39 -30 -46  49  52  53  82 -35  77  47  73  58  51 -41\n",
            " -44  69  48  50  44 -72  72  60 -62  59 -49  92  71]\n",
            "\n",
            "\n",
            "6925\n",
            "[  0.   617.83 557.21 ... 107.43 143.02  34.16]\n",
            "\n",
            "\n",
            "6925\n",
            "[  0.   617.83 557.21 ... 107.43 143.02  34.16]\n",
            "\n",
            "\n",
            "6958\n",
            "[  0.   860.14 921.47 ...  95.63  65.93 112.28]\n",
            "\n",
            "\n",
            "6546\n",
            "[  0.   430.07 460.73 ...  47.81  32.97  56.14]\n",
            "\n",
            "\n",
            "7049\n",
            "[  0.   504.02 494.01 ... 223.13 159.38  65.93]\n",
            "\n",
            "\n",
            "6128\n",
            "[  0.   151.21 148.2  ...   5.93  47.81  19.78]\n",
            "\n",
            "\n",
            "7128\n",
            "[  0.   653.74 619.26 ... 128.71  19.78  36.98]\n",
            "\n",
            "\n",
            "5569\n",
            "[  0.   130.75 123.85 ...  28.75   3.96   7.4 ]\n",
            "\n",
            "\n",
            "6\n",
            "['UEFA' 'CONMEBOL' 'CONCACAF' 'CAF' 'AFC' 'OFC']\n",
            "\n",
            "\n",
            "286\n",
            "['1993-08-08' '1993-09-23' '1993-10-22' '1993-11-19' '1993-12-23'\n",
            " '1994-02-15' '1994-03-15' '1994-04-19' '1994-05-17' '1994-06-14'\n",
            " '1994-07-21' '1994-09-13' '1994-10-25' '1994-11-22' '1994-12-20'\n",
            " '1995-02-20' '1995-04-19' '1995-05-16' '1995-06-13' '1995-07-25'\n",
            " '1995-08-22' '1995-09-19' '1995-10-17' '1995-11-21' '1995-12-19'\n",
            " '1996-01-24' '1996-02-21' '1996-04-24' '1996-05-22' '1996-07-03'\n",
            " '1996-08-28' '1996-09-25' '1996-10-23' '1996-11-20' '1996-12-18'\n",
            " '1997-02-27' '1997-04-09' '1997-05-14' '1997-06-18' '1997-07-16'\n",
            " '1997-08-20' '1997-09-17' '1997-10-17' '1997-11-19' '1997-12-23'\n",
            " '1998-02-18' '1998-03-18' '1998-04-22' '1998-05-20' '1998-07-15'\n",
            " '1998-08-19' '1998-09-16' '1998-10-21' '1998-11-18' '1998-12-23'\n",
            " '1999-01-27' '1999-02-24' '1999-03-24' '1999-04-21' '1999-05-19'\n",
            " '1999-06-16' '1999-07-21' '1999-08-18' '1999-09-15' '1999-10-13'\n",
            " '1999-11-17' '1999-12-22' '2000-01-19' '2000-02-16' '2000-03-15'\n",
            " '2000-04-12' '2000-05-10' '2000-06-07' '2000-07-05' '2000-08-09'\n",
            " '2000-09-06' '2000-10-11' '2000-11-15' '2000-12-20' '2001-01-17'\n",
            " '2001-02-14' '2001-03-14' '2001-04-11' '2001-05-16' '2001-06-20'\n",
            " '2001-07-18' '2001-08-22' '2001-09-19' '2001-10-17' '2001-11-21'\n",
            " '2001-12-19' '2002-01-16' '2002-02-13' '2002-03-20' '2002-04-17'\n",
            " '2002-05-15' '2002-07-03' '2002-08-14' '2002-09-18' '2002-10-23'\n",
            " '2002-11-20' '2002-12-18' '2003-01-15' '2003-02-19' '2003-03-26'\n",
            " '2003-04-23' '2003-05-21' '2003-06-25' '2003-07-30' '2003-08-27'\n",
            " '2003-09-24' '2003-10-22' '2003-11-19' '2003-12-15' '2004-01-14'\n",
            " '2004-02-18' '2004-03-17' '2004-04-14' '2004-05-12' '2004-06-09'\n",
            " '2004-07-07' '2004-08-04' '2004-09-01' '2004-10-06' '2004-11-10'\n",
            " '2004-12-20' '2005-01-19' '2005-02-16' '2005-03-23' '2005-04-20'\n",
            " '2005-05-18' '2005-06-15' '2005-07-20' '2005-08-17' '2005-09-12'\n",
            " '2005-10-17' '2005-11-21' '2005-12-16' '2006-01-18' '2006-02-15'\n",
            " '2006-03-15' '2006-04-19' '2006-05-17' '2006-07-12' '2006-08-16'\n",
            " '2006-09-13' '2006-10-18' '2006-11-22' '2006-12-18' '2007-01-17'\n",
            " '2007-02-14' '2007-03-14' '2007-04-18' '2007-05-16' '2007-06-13'\n",
            " '2007-07-18' '2007-08-22' '2007-09-19' '2007-10-24' '2007-11-23'\n",
            " '2007-12-17' '2008-01-16' '2008-02-13' '2008-03-12' '2008-04-09'\n",
            " '2008-05-07' '2008-06-04' '2008-07-02' '2008-08-06' '2008-09-03'\n",
            " '2008-10-08' '2008-11-12' '2008-12-17' '2009-01-14' '2009-02-11'\n",
            " '2009-03-11' '2009-04-08' '2009-05-06' '2009-06-03' '2009-07-01'\n",
            " '2009-08-05' '2009-09-02' '2009-10-16' '2009-11-20' '2009-12-16'\n",
            " '2010-02-03' '2010-03-03' '2010-03-31' '2010-04-28' '2010-05-26'\n",
            " '2010-07-14' '2010-08-11' '2010-09-15' '2010-10-20' '2010-11-17'\n",
            " '2010-12-15' '2011-01-12' '2011-02-02' '2011-03-09' '2011-04-13'\n",
            " '2011-05-18' '2011-06-29' '2011-07-27' '2011-08-24' '2011-09-21'\n",
            " '2011-10-19' '2011-11-23' '2011-12-21' '2012-01-18' '2012-02-15'\n",
            " '2012-03-07' '2012-04-11' '2012-05-09' '2012-06-06' '2012-07-04'\n",
            " '2012-08-08' '2012-09-05' '2012-10-03' '2012-11-07' '2012-12-19'\n",
            " '2013-01-17' '2013-02-14' '2013-03-14' '2013-04-11' '2013-05-09'\n",
            " '2013-06-06' '2013-07-04' '2013-08-08' '2013-09-12' '2013-10-17'\n",
            " '2013-11-28' '2013-12-19' '2014-01-16' '2014-02-13' '2014-03-13'\n",
            " '2014-04-10' '2014-05-08' '2014-06-05' '2014-07-17' '2014-08-14'\n",
            " '2014-09-18' '2014-10-23' '2014-11-27' '2014-12-18' '2015-01-08'\n",
            " '2015-02-12' '2015-03-12' '2015-04-09' '2015-05-07' '2015-06-04'\n",
            " '2015-07-09' '2015-08-06' '2015-09-03' '2015-10-01' '2015-11-05'\n",
            " '2015-12-03' '2016-01-07' '2016-02-04' '2016-03-03' '2016-04-07'\n",
            " '2016-05-05' '2016-06-02' '2016-07-14' '2016-08-11' '2016-09-15'\n",
            " '2016-10-20' '2016-11-24' '2016-12-22' '2017-01-12' '2017-02-09'\n",
            " '2017-03-09' '2017-04-06' '2017-05-04' '2017-06-01' '2017-07-06'\n",
            " '2017-08-10' '2017-09-14' '2017-10-16' '2017-11-23' '2017-12-21'\n",
            " '2018-01-18' '2018-02-15' '2018-03-15' '2018-04-12' '2018-05-17'\n",
            " '2018-06-07']\n",
            "\n",
            "\n",
            "13974\n",
            "['1909-04-04' '1910-05-16' '1910-10-16' ... '2012-07-10' '2017-04-30'\n",
            " '2011-03-11']\n",
            "\n",
            "\n",
            "302\n",
            "[Germany, German DR, Switzerland, Austria, Yugoslavia, ..., Sint Maarten, Northern Mariana Islands, Somaliland, Chameria, North Vietnam]\n",
            "Length: 302\n",
            "Categories (302, object): [Germany, German DR, Switzerland, Austria, ...,\n",
            "                           Northern Mariana Islands, Somaliland, Chameria, North Vietnam]\n",
            "\n",
            "\n",
            "302\n",
            "[Switzerland, Belgium, Netherlands, Austria, Sweden, ..., Kiribati, Micronesia, Turks and Caicos Islands, Northern Mariana Islands, Chameria]\n",
            "Length: 302\n",
            "Categories (302, object): [Switzerland, Belgium, Netherlands, Austria, ..., Micronesia,\n",
            "                           Turks and Caicos Islands, Northern Mariana Islands, Chameria]\n",
            "\n",
            "\n",
            "25\n",
            "[ 1  0  6  2  3  4  7  5  8  9 13 12 10 11 14 21 15 16 22 31 20 24 18 17\n",
            " 19]\n",
            "\n",
            "\n",
            "22\n",
            "[ 0  3  2  4  1  6  7  5  8 10 13 20 19  9 12 11 16 15 18 17 21 14]\n",
            "\n",
            "\n",
            "104\n",
            "['Friendly' 'FIFA World Cup qualification' 'UEFA Euro qualification'\n",
            " 'FIFA World Cup' 'UEFA Euro' 'Confederations Cup' 'FIFI Wild Cup'\n",
            " 'UEFA Nations League' 'International Cup' 'Viva World Cup'\n",
            " 'Nordic Championship' 'Island Games' 'CONIFA World Football Cup'\n",
            " 'Copa Lipton' 'Copa Newton' 'Copa Premio Honor Argentino' 'Copa Roca'\n",
            " 'Copa AmÃ©rica' 'Copa Chevallier Boutell' 'Atlantic Cup'\n",
            " 'Copa Carlos Dittborn' 'Copa RamÃ³n Castilla' 'Copa FÃ©lix Bogado'\n",
            " 'Copa Paz del Chaco' 'British Championship' 'Nations Cup'\n",
            " 'Copa Rio Branco' 'Copa Oswaldo Cruz' \"Copa Bernardo O'Higgins\"\n",
            " 'Brazil Independence Cup' 'Rous Cup' 'World Unity Cup'\n",
            " 'Atlantic Heritage Cup' 'Tournoi de France'\n",
            " 'African Nations Championship' 'Pan American Championship' 'Gold Cup'\n",
            " 'African Cup of Nations qualification' 'African Cup of Nations'\n",
            " 'Balkan Cup' 'Copa Premio Honor Uruguayo' 'Copa Juan Pinto DurÃ¡n'\n",
            " 'Copa Artigas' 'Mundialito' 'UDEAC Cup' 'CECAFA Cup' 'COSAFA Cup'\n",
            " 'Nile Basin Tournament' 'Inter Games Football Tournament'\n",
            " 'King Hassan II Tournament' 'UAFA Cup' 'CCCF Championship'\n",
            " 'CONCACAF Championship' 'UNCAF Cup' 'CONCACAF Championship qualification'\n",
            " 'Gold Cup qualification' 'CONIFA European Football Cup' 'Kirin Cup'\n",
            " 'AFC Asian Cup' 'Dynasty Cup' 'EAFF Championship'\n",
            " 'AFC Asian Cup qualification' 'Gulf Cup' 'OSN Cup' 'NAFU Championship'\n",
            " 'West African Cup' 'Copa del PacÃ\\xadfico' 'WAFF Championship'\n",
            " 'Oceania Nations Cup' 'United Arab Emirates Friendship Tournament'\n",
            " 'AmÃ\\xadlcar Cabral Cup' 'UNIFFAC Cup' \"King's Cup\" 'AFF Championship'\n",
            " 'Cyprus International Tournament' 'Merlion Cup' 'Merdeka Tournament'\n",
            " 'Dunhill Cup' 'AFC Challenge Cup qualification' 'AFC Challenge Cup'\n",
            " 'AFF Championship qualification' 'CFU Caribbean Cup qualification'\n",
            " \"Prime Minister's Cup\" 'Malta International Tournament'\n",
            " 'CFU Caribbean Cup' 'Baltic Cup' 'Jordan International Tournament'\n",
            " 'UAFA Cup qualification' 'Indonesia Tournament' 'Lunar New Year Cup'\n",
            " 'Simba Tournament' 'ABCS Tournament' 'South Pacific Games'\n",
            " 'Oceania Nations Cup qualification' 'SAFF Cup'\n",
            " 'Copa AmÃ©rica qualification' 'Nehru Cup' 'Millennium Cup'\n",
            " 'Intercontinental Cup' 'VFF Cup' 'Windward Islands Tournament'\n",
            " 'Dragon Cup' 'GaNEFo' 'Pacific Games']\n",
            "\n",
            "\n",
            "1733\n",
            "['Karlsruhe' 'Duisburg' 'Kleve' ... 'Prishtina' 'Pristina' 'Gibraltar']\n",
            "\n",
            "\n",
            "2\n",
            "[False  True]\n",
            "\n",
            "\n",
            "104\n",
            "[Friendly, FIFA World Cup qualification, UEFA Euro qualification, FIFA World Cup, UEFA Euro, ..., VFF Cup, Windward Islands Tournament, Dragon Cup, GaNEFo, Pacific Games]\n",
            "Length: 104\n",
            "Categories (104, object): [Friendly, FIFA World Cup qualification, UEFA Euro qualification,\n",
            "                           FIFA World Cup, ..., Windward Islands Tournament, Dragon Cup, GaNEFo,\n",
            "                           Pacific Games]\n"
          ],
          "name": "stdout"
        }
      ]
    },
    {
      "cell_type": "markdown",
      "metadata": {
        "id": "_TAMo8mFSIsj",
        "colab_type": "text"
      },
      "source": [
        "From my observation, the tournament column has 104 possibilities"
      ]
    },
    {
      "cell_type": "markdown",
      "metadata": {
        "id": "QfPcFMhTTF8W",
        "colab_type": "text"
      },
      "source": [
        "Creating a new column for wins, draws and losses."
      ]
    },
    {
      "cell_type": "code",
      "metadata": {
        "id": "BV3wXOJms7D2",
        "colab_type": "code",
        "colab": {}
      },
      "source": [
        "# First create a new column that takes our scores so that we are able to figure if it's a win(>=1) or a loss (<0), draw(0)\n",
        "df['score']= df['home_score']-df['away_score']"
      ],
      "execution_count": 25,
      "outputs": []
    },
    {
      "cell_type": "code",
      "metadata": {
        "id": "rhnZzS4ftuTf",
        "colab_type": "code",
        "colab": {
          "base_uri": "https://localhost:8080/",
          "height": 207
        },
        "outputId": "e837ea44-d82c-4968-ab93-e0bc55b91cef"
      },
      "source": [
        "# Create a for loop to feed into a new column called results\n",
        "outcome = [] \n",
        "# For each row in the column \n",
        "for score in df['score']:        \n",
        "    if score >= 1:                   # if home score is greater than away score\n",
        "        outcome.append('win') \n",
        "    elif score < 0:                  # if away score is greater than home score\n",
        "        outcome.append(\"lose\") \n",
        "    else: \n",
        "        outcome.append(\"draw\") \n",
        "  \n",
        "# Create a column from the list \n",
        "df['home_results'] = outcome \n",
        "df.head(3)"
      ],
      "execution_count": 26,
      "outputs": [
        {
          "output_type": "execute_result",
          "data": {
            "text/html": [
              "<div>\n",
              "<style scoped>\n",
              "    .dataframe tbody tr th:only-of-type {\n",
              "        vertical-align: middle;\n",
              "    }\n",
              "\n",
              "    .dataframe tbody tr th {\n",
              "        vertical-align: top;\n",
              "    }\n",
              "\n",
              "    .dataframe thead th {\n",
              "        text-align: right;\n",
              "    }\n",
              "</style>\n",
              "<table border=\"1\" class=\"dataframe\">\n",
              "  <thead>\n",
              "    <tr style=\"text-align: right;\">\n",
              "      <th></th>\n",
              "      <th>rank</th>\n",
              "      <th>country</th>\n",
              "      <th>country_abrv</th>\n",
              "      <th>total_points</th>\n",
              "      <th>previous_points</th>\n",
              "      <th>rank_change</th>\n",
              "      <th>cur_year_avg</th>\n",
              "      <th>cur_year_avg_weighted</th>\n",
              "      <th>last_year_avg</th>\n",
              "      <th>last_year_avg_weighted</th>\n",
              "      <th>two_year_ago_avg</th>\n",
              "      <th>two_year_ago_weighted</th>\n",
              "      <th>three_year_ago_avg</th>\n",
              "      <th>three_year_ago_weighted</th>\n",
              "      <th>confederation</th>\n",
              "      <th>rank_date</th>\n",
              "      <th>date</th>\n",
              "      <th>home_team</th>\n",
              "      <th>away_team</th>\n",
              "      <th>home_score</th>\n",
              "      <th>away_score</th>\n",
              "      <th>tournament</th>\n",
              "      <th>city</th>\n",
              "      <th>neutral</th>\n",
              "      <th>tounament</th>\n",
              "      <th>score</th>\n",
              "      <th>home_results</th>\n",
              "    </tr>\n",
              "  </thead>\n",
              "  <tbody>\n",
              "    <tr>\n",
              "      <th>0</th>\n",
              "      <td>1</td>\n",
              "      <td>Germany</td>\n",
              "      <td>GER</td>\n",
              "      <td>0.0</td>\n",
              "      <td>57</td>\n",
              "      <td>0</td>\n",
              "      <td>0.0</td>\n",
              "      <td>0.0</td>\n",
              "      <td>0.0</td>\n",
              "      <td>0.0</td>\n",
              "      <td>0.0</td>\n",
              "      <td>0.0</td>\n",
              "      <td>0.0</td>\n",
              "      <td>0.0</td>\n",
              "      <td>UEFA</td>\n",
              "      <td>1993-08-08</td>\n",
              "      <td>1909-04-04</td>\n",
              "      <td>Germany</td>\n",
              "      <td>Switzerland</td>\n",
              "      <td>1</td>\n",
              "      <td>0</td>\n",
              "      <td>Friendly</td>\n",
              "      <td>Karlsruhe</td>\n",
              "      <td>False</td>\n",
              "      <td>Friendly</td>\n",
              "      <td>1</td>\n",
              "      <td>win</td>\n",
              "    </tr>\n",
              "    <tr>\n",
              "      <th>1</th>\n",
              "      <td>1</td>\n",
              "      <td>Germany</td>\n",
              "      <td>GER</td>\n",
              "      <td>0.0</td>\n",
              "      <td>57</td>\n",
              "      <td>0</td>\n",
              "      <td>0.0</td>\n",
              "      <td>0.0</td>\n",
              "      <td>0.0</td>\n",
              "      <td>0.0</td>\n",
              "      <td>0.0</td>\n",
              "      <td>0.0</td>\n",
              "      <td>0.0</td>\n",
              "      <td>0.0</td>\n",
              "      <td>UEFA</td>\n",
              "      <td>1993-08-08</td>\n",
              "      <td>1910-05-16</td>\n",
              "      <td>Germany</td>\n",
              "      <td>Belgium</td>\n",
              "      <td>0</td>\n",
              "      <td>3</td>\n",
              "      <td>Friendly</td>\n",
              "      <td>Duisburg</td>\n",
              "      <td>False</td>\n",
              "      <td>Friendly</td>\n",
              "      <td>-3</td>\n",
              "      <td>lose</td>\n",
              "    </tr>\n",
              "    <tr>\n",
              "      <th>2</th>\n",
              "      <td>1</td>\n",
              "      <td>Germany</td>\n",
              "      <td>GER</td>\n",
              "      <td>0.0</td>\n",
              "      <td>57</td>\n",
              "      <td>0</td>\n",
              "      <td>0.0</td>\n",
              "      <td>0.0</td>\n",
              "      <td>0.0</td>\n",
              "      <td>0.0</td>\n",
              "      <td>0.0</td>\n",
              "      <td>0.0</td>\n",
              "      <td>0.0</td>\n",
              "      <td>0.0</td>\n",
              "      <td>UEFA</td>\n",
              "      <td>1993-08-08</td>\n",
              "      <td>1910-10-16</td>\n",
              "      <td>Germany</td>\n",
              "      <td>Netherlands</td>\n",
              "      <td>1</td>\n",
              "      <td>2</td>\n",
              "      <td>Friendly</td>\n",
              "      <td>Kleve</td>\n",
              "      <td>False</td>\n",
              "      <td>Friendly</td>\n",
              "      <td>-1</td>\n",
              "      <td>lose</td>\n",
              "    </tr>\n",
              "  </tbody>\n",
              "</table>\n",
              "</div>"
            ],
            "text/plain": [
              "   rank  country country_abrv  ...  tounament  score  home_results\n",
              "0     1  Germany          GER  ...   Friendly      1           win\n",
              "1     1  Germany          GER  ...   Friendly     -3          lose\n",
              "2     1  Germany          GER  ...   Friendly     -1          lose\n",
              "\n",
              "[3 rows x 27 columns]"
            ]
          },
          "metadata": {
            "tags": []
          },
          "execution_count": 26
        }
      ]
    },
    {
      "cell_type": "markdown",
      "metadata": {
        "id": "Rp8hPp2YvxUn",
        "colab_type": "text"
      },
      "source": [
        "The new column called home results contains information on whether the home team won, lost or got a draw."
      ]
    },
    {
      "cell_type": "code",
      "metadata": {
        "id": "EqlC5y4TxxNW",
        "colab_type": "code",
        "colab": {
          "base_uri": "https://localhost:8080/",
          "height": 161
        },
        "outputId": "7d59964b-fbe2-459b-a59f-b05a4351c3ae"
      },
      "source": [
        "# Creating an empty column for our new information on tounaments\n",
        "df['game']=\"\"\n",
        "df.head(2)"
      ],
      "execution_count": 27,
      "outputs": [
        {
          "output_type": "execute_result",
          "data": {
            "text/html": [
              "<div>\n",
              "<style scoped>\n",
              "    .dataframe tbody tr th:only-of-type {\n",
              "        vertical-align: middle;\n",
              "    }\n",
              "\n",
              "    .dataframe tbody tr th {\n",
              "        vertical-align: top;\n",
              "    }\n",
              "\n",
              "    .dataframe thead th {\n",
              "        text-align: right;\n",
              "    }\n",
              "</style>\n",
              "<table border=\"1\" class=\"dataframe\">\n",
              "  <thead>\n",
              "    <tr style=\"text-align: right;\">\n",
              "      <th></th>\n",
              "      <th>rank</th>\n",
              "      <th>country</th>\n",
              "      <th>country_abrv</th>\n",
              "      <th>total_points</th>\n",
              "      <th>previous_points</th>\n",
              "      <th>rank_change</th>\n",
              "      <th>cur_year_avg</th>\n",
              "      <th>cur_year_avg_weighted</th>\n",
              "      <th>last_year_avg</th>\n",
              "      <th>last_year_avg_weighted</th>\n",
              "      <th>two_year_ago_avg</th>\n",
              "      <th>two_year_ago_weighted</th>\n",
              "      <th>three_year_ago_avg</th>\n",
              "      <th>three_year_ago_weighted</th>\n",
              "      <th>confederation</th>\n",
              "      <th>rank_date</th>\n",
              "      <th>date</th>\n",
              "      <th>home_team</th>\n",
              "      <th>away_team</th>\n",
              "      <th>home_score</th>\n",
              "      <th>away_score</th>\n",
              "      <th>tournament</th>\n",
              "      <th>city</th>\n",
              "      <th>neutral</th>\n",
              "      <th>tounament</th>\n",
              "      <th>score</th>\n",
              "      <th>home_results</th>\n",
              "      <th>game</th>\n",
              "    </tr>\n",
              "  </thead>\n",
              "  <tbody>\n",
              "    <tr>\n",
              "      <th>0</th>\n",
              "      <td>1</td>\n",
              "      <td>Germany</td>\n",
              "      <td>GER</td>\n",
              "      <td>0.0</td>\n",
              "      <td>57</td>\n",
              "      <td>0</td>\n",
              "      <td>0.0</td>\n",
              "      <td>0.0</td>\n",
              "      <td>0.0</td>\n",
              "      <td>0.0</td>\n",
              "      <td>0.0</td>\n",
              "      <td>0.0</td>\n",
              "      <td>0.0</td>\n",
              "      <td>0.0</td>\n",
              "      <td>UEFA</td>\n",
              "      <td>1993-08-08</td>\n",
              "      <td>1909-04-04</td>\n",
              "      <td>Germany</td>\n",
              "      <td>Switzerland</td>\n",
              "      <td>1</td>\n",
              "      <td>0</td>\n",
              "      <td>Friendly</td>\n",
              "      <td>Karlsruhe</td>\n",
              "      <td>False</td>\n",
              "      <td>Friendly</td>\n",
              "      <td>1</td>\n",
              "      <td>win</td>\n",
              "      <td></td>\n",
              "    </tr>\n",
              "    <tr>\n",
              "      <th>1</th>\n",
              "      <td>1</td>\n",
              "      <td>Germany</td>\n",
              "      <td>GER</td>\n",
              "      <td>0.0</td>\n",
              "      <td>57</td>\n",
              "      <td>0</td>\n",
              "      <td>0.0</td>\n",
              "      <td>0.0</td>\n",
              "      <td>0.0</td>\n",
              "      <td>0.0</td>\n",
              "      <td>0.0</td>\n",
              "      <td>0.0</td>\n",
              "      <td>0.0</td>\n",
              "      <td>0.0</td>\n",
              "      <td>UEFA</td>\n",
              "      <td>1993-08-08</td>\n",
              "      <td>1910-05-16</td>\n",
              "      <td>Germany</td>\n",
              "      <td>Belgium</td>\n",
              "      <td>0</td>\n",
              "      <td>3</td>\n",
              "      <td>Friendly</td>\n",
              "      <td>Duisburg</td>\n",
              "      <td>False</td>\n",
              "      <td>Friendly</td>\n",
              "      <td>-3</td>\n",
              "      <td>lose</td>\n",
              "      <td></td>\n",
              "    </tr>\n",
              "  </tbody>\n",
              "</table>\n",
              "</div>"
            ],
            "text/plain": [
              "   rank  country country_abrv  total_points  ...  tounament  score  home_results  game\n",
              "0     1  Germany          GER           0.0  ...   Friendly      1           win      \n",
              "1     1  Germany          GER           0.0  ...   Friendly     -3          lose      \n",
              "\n",
              "[2 rows x 28 columns]"
            ]
          },
          "metadata": {
            "tags": []
          },
          "execution_count": 27
        }
      ]
    },
    {
      "cell_type": "code",
      "metadata": {
        "id": "NnXXMlwmtzIx",
        "colab_type": "code",
        "colab": {}
      },
      "source": [
        "# I would also like to separate my competitions from my friendly tournaments\n",
        "for g in df['tournament']:        \n",
        "  def tounament (g):\n",
        "    if g != 'Friendly':\n",
        "      return 'competition'\n",
        "    else :\n",
        "      return 'friendly_match'"
      ],
      "execution_count": 28,
      "outputs": []
    },
    {
      "cell_type": "code",
      "metadata": {
        "id": "6YTt058ix-2O",
        "colab_type": "code",
        "colab": {
          "base_uri": "https://localhost:8080/",
          "height": 254
        },
        "outputId": "c8c5745a-4a1b-46dc-d89a-d3fcc90c070f"
      },
      "source": [
        "# Applying the formula we have provided above to our pandas dataframe\n",
        "df['game'] = df.tournament.apply(lambda x: tounament(g))\n",
        "df.head(4)"
      ],
      "execution_count": 29,
      "outputs": [
        {
          "output_type": "execute_result",
          "data": {
            "text/html": [
              "<div>\n",
              "<style scoped>\n",
              "    .dataframe tbody tr th:only-of-type {\n",
              "        vertical-align: middle;\n",
              "    }\n",
              "\n",
              "    .dataframe tbody tr th {\n",
              "        vertical-align: top;\n",
              "    }\n",
              "\n",
              "    .dataframe thead th {\n",
              "        text-align: right;\n",
              "    }\n",
              "</style>\n",
              "<table border=\"1\" class=\"dataframe\">\n",
              "  <thead>\n",
              "    <tr style=\"text-align: right;\">\n",
              "      <th></th>\n",
              "      <th>rank</th>\n",
              "      <th>country</th>\n",
              "      <th>country_abrv</th>\n",
              "      <th>total_points</th>\n",
              "      <th>previous_points</th>\n",
              "      <th>rank_change</th>\n",
              "      <th>cur_year_avg</th>\n",
              "      <th>cur_year_avg_weighted</th>\n",
              "      <th>last_year_avg</th>\n",
              "      <th>last_year_avg_weighted</th>\n",
              "      <th>two_year_ago_avg</th>\n",
              "      <th>two_year_ago_weighted</th>\n",
              "      <th>three_year_ago_avg</th>\n",
              "      <th>three_year_ago_weighted</th>\n",
              "      <th>confederation</th>\n",
              "      <th>rank_date</th>\n",
              "      <th>date</th>\n",
              "      <th>home_team</th>\n",
              "      <th>away_team</th>\n",
              "      <th>home_score</th>\n",
              "      <th>away_score</th>\n",
              "      <th>tournament</th>\n",
              "      <th>city</th>\n",
              "      <th>neutral</th>\n",
              "      <th>tounament</th>\n",
              "      <th>score</th>\n",
              "      <th>home_results</th>\n",
              "      <th>game</th>\n",
              "    </tr>\n",
              "  </thead>\n",
              "  <tbody>\n",
              "    <tr>\n",
              "      <th>0</th>\n",
              "      <td>1</td>\n",
              "      <td>Germany</td>\n",
              "      <td>GER</td>\n",
              "      <td>0.0</td>\n",
              "      <td>57</td>\n",
              "      <td>0</td>\n",
              "      <td>0.0</td>\n",
              "      <td>0.0</td>\n",
              "      <td>0.0</td>\n",
              "      <td>0.0</td>\n",
              "      <td>0.0</td>\n",
              "      <td>0.0</td>\n",
              "      <td>0.0</td>\n",
              "      <td>0.0</td>\n",
              "      <td>UEFA</td>\n",
              "      <td>1993-08-08</td>\n",
              "      <td>1909-04-04</td>\n",
              "      <td>Germany</td>\n",
              "      <td>Switzerland</td>\n",
              "      <td>1</td>\n",
              "      <td>0</td>\n",
              "      <td>Friendly</td>\n",
              "      <td>Karlsruhe</td>\n",
              "      <td>False</td>\n",
              "      <td>Friendly</td>\n",
              "      <td>1</td>\n",
              "      <td>win</td>\n",
              "      <td>friendly_match</td>\n",
              "    </tr>\n",
              "    <tr>\n",
              "      <th>1</th>\n",
              "      <td>1</td>\n",
              "      <td>Germany</td>\n",
              "      <td>GER</td>\n",
              "      <td>0.0</td>\n",
              "      <td>57</td>\n",
              "      <td>0</td>\n",
              "      <td>0.0</td>\n",
              "      <td>0.0</td>\n",
              "      <td>0.0</td>\n",
              "      <td>0.0</td>\n",
              "      <td>0.0</td>\n",
              "      <td>0.0</td>\n",
              "      <td>0.0</td>\n",
              "      <td>0.0</td>\n",
              "      <td>UEFA</td>\n",
              "      <td>1993-08-08</td>\n",
              "      <td>1910-05-16</td>\n",
              "      <td>Germany</td>\n",
              "      <td>Belgium</td>\n",
              "      <td>0</td>\n",
              "      <td>3</td>\n",
              "      <td>Friendly</td>\n",
              "      <td>Duisburg</td>\n",
              "      <td>False</td>\n",
              "      <td>Friendly</td>\n",
              "      <td>-3</td>\n",
              "      <td>lose</td>\n",
              "      <td>friendly_match</td>\n",
              "    </tr>\n",
              "    <tr>\n",
              "      <th>2</th>\n",
              "      <td>1</td>\n",
              "      <td>Germany</td>\n",
              "      <td>GER</td>\n",
              "      <td>0.0</td>\n",
              "      <td>57</td>\n",
              "      <td>0</td>\n",
              "      <td>0.0</td>\n",
              "      <td>0.0</td>\n",
              "      <td>0.0</td>\n",
              "      <td>0.0</td>\n",
              "      <td>0.0</td>\n",
              "      <td>0.0</td>\n",
              "      <td>0.0</td>\n",
              "      <td>0.0</td>\n",
              "      <td>UEFA</td>\n",
              "      <td>1993-08-08</td>\n",
              "      <td>1910-10-16</td>\n",
              "      <td>Germany</td>\n",
              "      <td>Netherlands</td>\n",
              "      <td>1</td>\n",
              "      <td>2</td>\n",
              "      <td>Friendly</td>\n",
              "      <td>Kleve</td>\n",
              "      <td>False</td>\n",
              "      <td>Friendly</td>\n",
              "      <td>-1</td>\n",
              "      <td>lose</td>\n",
              "      <td>friendly_match</td>\n",
              "    </tr>\n",
              "    <tr>\n",
              "      <th>3</th>\n",
              "      <td>1</td>\n",
              "      <td>Germany</td>\n",
              "      <td>GER</td>\n",
              "      <td>0.0</td>\n",
              "      <td>57</td>\n",
              "      <td>0</td>\n",
              "      <td>0.0</td>\n",
              "      <td>0.0</td>\n",
              "      <td>0.0</td>\n",
              "      <td>0.0</td>\n",
              "      <td>0.0</td>\n",
              "      <td>0.0</td>\n",
              "      <td>0.0</td>\n",
              "      <td>0.0</td>\n",
              "      <td>UEFA</td>\n",
              "      <td>1993-08-08</td>\n",
              "      <td>1911-03-26</td>\n",
              "      <td>Germany</td>\n",
              "      <td>Switzerland</td>\n",
              "      <td>6</td>\n",
              "      <td>2</td>\n",
              "      <td>Friendly</td>\n",
              "      <td>Stuttgart</td>\n",
              "      <td>False</td>\n",
              "      <td>Friendly</td>\n",
              "      <td>4</td>\n",
              "      <td>win</td>\n",
              "      <td>friendly_match</td>\n",
              "    </tr>\n",
              "  </tbody>\n",
              "</table>\n",
              "</div>"
            ],
            "text/plain": [
              "   rank  country country_abrv  ...  score  home_results            game\n",
              "0     1  Germany          GER  ...      1           win  friendly_match\n",
              "1     1  Germany          GER  ...     -3          lose  friendly_match\n",
              "2     1  Germany          GER  ...     -1          lose  friendly_match\n",
              "3     1  Germany          GER  ...      4           win  friendly_match\n",
              "\n",
              "[4 rows x 28 columns]"
            ]
          },
          "metadata": {
            "tags": []
          },
          "execution_count": 29
        }
      ]
    },
    {
      "cell_type": "code",
      "metadata": {
        "id": "7-bh8FID6ld1",
        "colab_type": "code",
        "colab": {
          "base_uri": "https://localhost:8080/",
          "height": 1000
        },
        "outputId": "4ab421f9-c2ea-4830-fd67-9bd3aa05e84a"
      },
      "source": [
        "# We are interested in data with one rank date\n",
        "df['rank_date'].unique()"
      ],
      "execution_count": 30,
      "outputs": [
        {
          "output_type": "execute_result",
          "data": {
            "text/plain": [
              "array(['1993-08-08', '1993-09-23', '1993-10-22', '1993-11-19',\n",
              "       '1993-12-23', '1994-02-15', '1994-03-15', '1994-04-19',\n",
              "       '1994-05-17', '1994-06-14', '1994-07-21', '1994-09-13',\n",
              "       '1994-10-25', '1994-11-22', '1994-12-20', '1995-02-20',\n",
              "       '1995-04-19', '1995-05-16', '1995-06-13', '1995-07-25',\n",
              "       '1995-08-22', '1995-09-19', '1995-10-17', '1995-11-21',\n",
              "       '1995-12-19', '1996-01-24', '1996-02-21', '1996-04-24',\n",
              "       '1996-05-22', '1996-07-03', '1996-08-28', '1996-09-25',\n",
              "       '1996-10-23', '1996-11-20', '1996-12-18', '1997-02-27',\n",
              "       '1997-04-09', '1997-05-14', '1997-06-18', '1997-07-16',\n",
              "       '1997-08-20', '1997-09-17', '1997-10-17', '1997-11-19',\n",
              "       '1997-12-23', '1998-02-18', '1998-03-18', '1998-04-22',\n",
              "       '1998-05-20', '1998-07-15', '1998-08-19', '1998-09-16',\n",
              "       '1998-10-21', '1998-11-18', '1998-12-23', '1999-01-27',\n",
              "       '1999-02-24', '1999-03-24', '1999-04-21', '1999-05-19',\n",
              "       '1999-06-16', '1999-07-21', '1999-08-18', '1999-09-15',\n",
              "       '1999-10-13', '1999-11-17', '1999-12-22', '2000-01-19',\n",
              "       '2000-02-16', '2000-03-15', '2000-04-12', '2000-05-10',\n",
              "       '2000-06-07', '2000-07-05', '2000-08-09', '2000-09-06',\n",
              "       '2000-10-11', '2000-11-15', '2000-12-20', '2001-01-17',\n",
              "       '2001-02-14', '2001-03-14', '2001-04-11', '2001-05-16',\n",
              "       '2001-06-20', '2001-07-18', '2001-08-22', '2001-09-19',\n",
              "       '2001-10-17', '2001-11-21', '2001-12-19', '2002-01-16',\n",
              "       '2002-02-13', '2002-03-20', '2002-04-17', '2002-05-15',\n",
              "       '2002-07-03', '2002-08-14', '2002-09-18', '2002-10-23',\n",
              "       '2002-11-20', '2002-12-18', '2003-01-15', '2003-02-19',\n",
              "       '2003-03-26', '2003-04-23', '2003-05-21', '2003-06-25',\n",
              "       '2003-07-30', '2003-08-27', '2003-09-24', '2003-10-22',\n",
              "       '2003-11-19', '2003-12-15', '2004-01-14', '2004-02-18',\n",
              "       '2004-03-17', '2004-04-14', '2004-05-12', '2004-06-09',\n",
              "       '2004-07-07', '2004-08-04', '2004-09-01', '2004-10-06',\n",
              "       '2004-11-10', '2004-12-20', '2005-01-19', '2005-02-16',\n",
              "       '2005-03-23', '2005-04-20', '2005-05-18', '2005-06-15',\n",
              "       '2005-07-20', '2005-08-17', '2005-09-12', '2005-10-17',\n",
              "       '2005-11-21', '2005-12-16', '2006-01-18', '2006-02-15',\n",
              "       '2006-03-15', '2006-04-19', '2006-05-17', '2006-07-12',\n",
              "       '2006-08-16', '2006-09-13', '2006-10-18', '2006-11-22',\n",
              "       '2006-12-18', '2007-01-17', '2007-02-14', '2007-03-14',\n",
              "       '2007-04-18', '2007-05-16', '2007-06-13', '2007-07-18',\n",
              "       '2007-08-22', '2007-09-19', '2007-10-24', '2007-11-23',\n",
              "       '2007-12-17', '2008-01-16', '2008-02-13', '2008-03-12',\n",
              "       '2008-04-09', '2008-05-07', '2008-06-04', '2008-07-02',\n",
              "       '2008-08-06', '2008-09-03', '2008-10-08', '2008-11-12',\n",
              "       '2008-12-17', '2009-01-14', '2009-02-11', '2009-03-11',\n",
              "       '2009-04-08', '2009-05-06', '2009-06-03', '2009-07-01',\n",
              "       '2009-08-05', '2009-09-02', '2009-10-16', '2009-11-20',\n",
              "       '2009-12-16', '2010-02-03', '2010-03-03', '2010-03-31',\n",
              "       '2010-04-28', '2010-05-26', '2010-07-14', '2010-08-11',\n",
              "       '2010-09-15', '2010-10-20', '2010-11-17', '2010-12-15',\n",
              "       '2011-01-12', '2011-02-02', '2011-03-09', '2011-04-13',\n",
              "       '2011-05-18', '2011-06-29', '2011-07-27', '2011-08-24',\n",
              "       '2011-09-21', '2011-10-19', '2011-11-23', '2011-12-21',\n",
              "       '2012-01-18', '2012-02-15', '2012-03-07', '2012-04-11',\n",
              "       '2012-05-09', '2012-06-06', '2012-07-04', '2012-08-08',\n",
              "       '2012-09-05', '2012-10-03', '2012-11-07', '2012-12-19',\n",
              "       '2013-01-17', '2013-02-14', '2013-03-14', '2013-04-11',\n",
              "       '2013-05-09', '2013-06-06', '2013-07-04', '2013-08-08',\n",
              "       '2013-09-12', '2013-10-17', '2013-11-28', '2013-12-19',\n",
              "       '2014-01-16', '2014-02-13', '2014-03-13', '2014-04-10',\n",
              "       '2014-05-08', '2014-06-05', '2014-07-17', '2014-08-14',\n",
              "       '2014-09-18', '2014-10-23', '2014-11-27', '2014-12-18',\n",
              "       '2015-01-08', '2015-02-12', '2015-03-12', '2015-04-09',\n",
              "       '2015-05-07', '2015-06-04', '2015-07-09', '2015-08-06',\n",
              "       '2015-09-03', '2015-10-01', '2015-11-05', '2015-12-03',\n",
              "       '2016-01-07', '2016-02-04', '2016-03-03', '2016-04-07',\n",
              "       '2016-05-05', '2016-06-02', '2016-07-14', '2016-08-11',\n",
              "       '2016-09-15', '2016-10-20', '2016-11-24', '2016-12-22',\n",
              "       '2017-01-12', '2017-02-09', '2017-03-09', '2017-04-06',\n",
              "       '2017-05-04', '2017-06-01', '2017-07-06', '2017-08-10',\n",
              "       '2017-09-14', '2017-10-16', '2017-11-23', '2017-12-21',\n",
              "       '2018-01-18', '2018-02-15', '2018-03-15', '2018-04-12',\n",
              "       '2018-05-17', '2018-06-07'], dtype=object)"
            ]
          },
          "metadata": {
            "tags": []
          },
          "execution_count": 30
        }
      ]
    },
    {
      "cell_type": "code",
      "metadata": {
        "id": "CesM8Kt48NG4",
        "colab_type": "code",
        "colab": {
          "base_uri": "https://localhost:8080/",
          "height": 230
        },
        "outputId": "a0231b9c-052d-43ba-8833-fca19f916bb3"
      },
      "source": [
        "#Checking the number of records per rank date\n",
        "df['rank_date'].value_counts()"
      ],
      "execution_count": 32,
      "outputs": [
        {
          "output_type": "execute_result",
          "data": {
            "text/plain": [
              "2017-09-14    35997\n",
              "2018-02-15    35997\n",
              "2016-11-24    35997\n",
              "2017-04-06    35997\n",
              "2018-01-18    35997\n",
              "              ...  \n",
              "1993-12-23    34360\n",
              "1994-02-15    34360\n",
              "1993-08-08    34249\n",
              "1993-10-22    34249\n",
              "1993-09-23    34249\n",
              "Name: rank_date, Length: 286, dtype: int64"
            ]
          },
          "metadata": {
            "tags": []
          },
          "execution_count": 32
        }
      ]
    },
    {
      "cell_type": "markdown",
      "metadata": {
        "colab_type": "text",
        "id": "lNo5iE_Y8_ML"
      },
      "source": [
        "The rank date with the highest records which is fairly resent is 2018-01-18, so I will pick this rank date to work with. I have chosen to work with one rank date because one rank date will have only one country recorded per rank."
      ]
    },
    {
      "cell_type": "code",
      "metadata": {
        "colab_type": "code",
        "id": "T3VKbwKl9vQv",
        "colab": {
          "base_uri": "https://localhost:8080/",
          "height": 207
        },
        "outputId": "c7926429-6fdd-402c-f737-fb01f361c423"
      },
      "source": [
        "# Selecting only data for 2008\n",
        "df1 =df.loc[df['rank_date'] == \"2018-01-18\"]\n",
        "df1.head(3)"
      ],
      "execution_count": 33,
      "outputs": [
        {
          "output_type": "execute_result",
          "data": {
            "text/html": [
              "<div>\n",
              "<style scoped>\n",
              "    .dataframe tbody tr th:only-of-type {\n",
              "        vertical-align: middle;\n",
              "    }\n",
              "\n",
              "    .dataframe tbody tr th {\n",
              "        vertical-align: top;\n",
              "    }\n",
              "\n",
              "    .dataframe thead th {\n",
              "        text-align: right;\n",
              "    }\n",
              "</style>\n",
              "<table border=\"1\" class=\"dataframe\">\n",
              "  <thead>\n",
              "    <tr style=\"text-align: right;\">\n",
              "      <th></th>\n",
              "      <th>rank</th>\n",
              "      <th>country</th>\n",
              "      <th>country_abrv</th>\n",
              "      <th>total_points</th>\n",
              "      <th>previous_points</th>\n",
              "      <th>rank_change</th>\n",
              "      <th>cur_year_avg</th>\n",
              "      <th>cur_year_avg_weighted</th>\n",
              "      <th>last_year_avg</th>\n",
              "      <th>last_year_avg_weighted</th>\n",
              "      <th>two_year_ago_avg</th>\n",
              "      <th>two_year_ago_weighted</th>\n",
              "      <th>three_year_ago_avg</th>\n",
              "      <th>three_year_ago_weighted</th>\n",
              "      <th>confederation</th>\n",
              "      <th>rank_date</th>\n",
              "      <th>date</th>\n",
              "      <th>home_team</th>\n",
              "      <th>away_team</th>\n",
              "      <th>home_score</th>\n",
              "      <th>away_score</th>\n",
              "      <th>tournament</th>\n",
              "      <th>city</th>\n",
              "      <th>neutral</th>\n",
              "      <th>tounament</th>\n",
              "      <th>score</th>\n",
              "      <th>home_results</th>\n",
              "      <th>game</th>\n",
              "    </tr>\n",
              "  </thead>\n",
              "  <tbody>\n",
              "    <tr>\n",
              "      <th>162680</th>\n",
              "      <td>1</td>\n",
              "      <td>Germany</td>\n",
              "      <td>GER</td>\n",
              "      <td>1601.91</td>\n",
              "      <td>1602</td>\n",
              "      <td>0</td>\n",
              "      <td>863.86</td>\n",
              "      <td>863.86</td>\n",
              "      <td>752.68</td>\n",
              "      <td>376.34</td>\n",
              "      <td>478.66</td>\n",
              "      <td>143.6</td>\n",
              "      <td>1090.54</td>\n",
              "      <td>218.11</td>\n",
              "      <td>UEFA</td>\n",
              "      <td>2018-01-18</td>\n",
              "      <td>1909-04-04</td>\n",
              "      <td>Germany</td>\n",
              "      <td>Switzerland</td>\n",
              "      <td>1</td>\n",
              "      <td>0</td>\n",
              "      <td>Friendly</td>\n",
              "      <td>Karlsruhe</td>\n",
              "      <td>False</td>\n",
              "      <td>Friendly</td>\n",
              "      <td>1</td>\n",
              "      <td>win</td>\n",
              "      <td>friendly_match</td>\n",
              "    </tr>\n",
              "    <tr>\n",
              "      <th>162681</th>\n",
              "      <td>1</td>\n",
              "      <td>Germany</td>\n",
              "      <td>GER</td>\n",
              "      <td>1601.91</td>\n",
              "      <td>1602</td>\n",
              "      <td>0</td>\n",
              "      <td>863.86</td>\n",
              "      <td>863.86</td>\n",
              "      <td>752.68</td>\n",
              "      <td>376.34</td>\n",
              "      <td>478.66</td>\n",
              "      <td>143.6</td>\n",
              "      <td>1090.54</td>\n",
              "      <td>218.11</td>\n",
              "      <td>UEFA</td>\n",
              "      <td>2018-01-18</td>\n",
              "      <td>1910-05-16</td>\n",
              "      <td>Germany</td>\n",
              "      <td>Belgium</td>\n",
              "      <td>0</td>\n",
              "      <td>3</td>\n",
              "      <td>Friendly</td>\n",
              "      <td>Duisburg</td>\n",
              "      <td>False</td>\n",
              "      <td>Friendly</td>\n",
              "      <td>-3</td>\n",
              "      <td>lose</td>\n",
              "      <td>friendly_match</td>\n",
              "    </tr>\n",
              "    <tr>\n",
              "      <th>162682</th>\n",
              "      <td>1</td>\n",
              "      <td>Germany</td>\n",
              "      <td>GER</td>\n",
              "      <td>1601.91</td>\n",
              "      <td>1602</td>\n",
              "      <td>0</td>\n",
              "      <td>863.86</td>\n",
              "      <td>863.86</td>\n",
              "      <td>752.68</td>\n",
              "      <td>376.34</td>\n",
              "      <td>478.66</td>\n",
              "      <td>143.6</td>\n",
              "      <td>1090.54</td>\n",
              "      <td>218.11</td>\n",
              "      <td>UEFA</td>\n",
              "      <td>2018-01-18</td>\n",
              "      <td>1910-10-16</td>\n",
              "      <td>Germany</td>\n",
              "      <td>Netherlands</td>\n",
              "      <td>1</td>\n",
              "      <td>2</td>\n",
              "      <td>Friendly</td>\n",
              "      <td>Kleve</td>\n",
              "      <td>False</td>\n",
              "      <td>Friendly</td>\n",
              "      <td>-1</td>\n",
              "      <td>lose</td>\n",
              "      <td>friendly_match</td>\n",
              "    </tr>\n",
              "  </tbody>\n",
              "</table>\n",
              "</div>"
            ],
            "text/plain": [
              "        rank  country country_abrv  ...  score  home_results            game\n",
              "162680     1  Germany          GER  ...      1           win  friendly_match\n",
              "162681     1  Germany          GER  ...     -3          lose  friendly_match\n",
              "162682     1  Germany          GER  ...     -1          lose  friendly_match\n",
              "\n",
              "[3 rows x 28 columns]"
            ]
          },
          "metadata": {
            "tags": []
          },
          "execution_count": 33
        }
      ]
    },
    {
      "cell_type": "markdown",
      "metadata": {
        "id": "aaUnizty-qn6",
        "colab_type": "text"
      },
      "source": [
        "We have selected data for rank date 2018-01-18 So we are good to go."
      ]
    },
    {
      "cell_type": "code",
      "metadata": {
        "id": "wCYgw_hNlYIH",
        "colab_type": "code",
        "colab": {
          "base_uri": "https://localhost:8080/",
          "height": 137
        },
        "outputId": "2ee909ea-63b5-440c-d8ab-8c4a56bdf28d"
      },
      "source": [
        "# Picking columns relevant to our research we only neeeded information on rank,\thome_team,\taway_team,\tgame,\tyear,\thome_score,\taway_score and \thome_results\n",
        "df2 = df1[['rank','home_team','away_team','game','home_score','away_score','home_results']]\n",
        "df2.head(3)"
      ],
      "execution_count": 34,
      "outputs": [
        {
          "output_type": "execute_result",
          "data": {
            "text/html": [
              "<div>\n",
              "<style scoped>\n",
              "    .dataframe tbody tr th:only-of-type {\n",
              "        vertical-align: middle;\n",
              "    }\n",
              "\n",
              "    .dataframe tbody tr th {\n",
              "        vertical-align: top;\n",
              "    }\n",
              "\n",
              "    .dataframe thead th {\n",
              "        text-align: right;\n",
              "    }\n",
              "</style>\n",
              "<table border=\"1\" class=\"dataframe\">\n",
              "  <thead>\n",
              "    <tr style=\"text-align: right;\">\n",
              "      <th></th>\n",
              "      <th>rank</th>\n",
              "      <th>home_team</th>\n",
              "      <th>away_team</th>\n",
              "      <th>game</th>\n",
              "      <th>home_score</th>\n",
              "      <th>away_score</th>\n",
              "      <th>home_results</th>\n",
              "    </tr>\n",
              "  </thead>\n",
              "  <tbody>\n",
              "    <tr>\n",
              "      <th>162680</th>\n",
              "      <td>1</td>\n",
              "      <td>Germany</td>\n",
              "      <td>Switzerland</td>\n",
              "      <td>friendly_match</td>\n",
              "      <td>1</td>\n",
              "      <td>0</td>\n",
              "      <td>win</td>\n",
              "    </tr>\n",
              "    <tr>\n",
              "      <th>162681</th>\n",
              "      <td>1</td>\n",
              "      <td>Germany</td>\n",
              "      <td>Belgium</td>\n",
              "      <td>friendly_match</td>\n",
              "      <td>0</td>\n",
              "      <td>3</td>\n",
              "      <td>lose</td>\n",
              "    </tr>\n",
              "    <tr>\n",
              "      <th>162682</th>\n",
              "      <td>1</td>\n",
              "      <td>Germany</td>\n",
              "      <td>Netherlands</td>\n",
              "      <td>friendly_match</td>\n",
              "      <td>1</td>\n",
              "      <td>2</td>\n",
              "      <td>lose</td>\n",
              "    </tr>\n",
              "  </tbody>\n",
              "</table>\n",
              "</div>"
            ],
            "text/plain": [
              "        rank home_team    away_team  ... home_score  away_score  home_results\n",
              "162680     1   Germany  Switzerland  ...          1           0           win\n",
              "162681     1   Germany      Belgium  ...          0           3          lose\n",
              "162682     1   Germany  Netherlands  ...          1           2          lose\n",
              "\n",
              "[3 rows x 7 columns]"
            ]
          },
          "metadata": {
            "tags": []
          },
          "execution_count": 34
        }
      ]
    },
    {
      "cell_type": "markdown",
      "metadata": {
        "id": "YWxJ8xhq_J_I",
        "colab_type": "text"
      },
      "source": [
        "As shown from our rank, we do not have different conflicting ranks which is good."
      ]
    },
    {
      "cell_type": "code",
      "metadata": {
        "id": "YnmkWz7Z4zsH",
        "colab_type": "code",
        "colab": {
          "base_uri": "https://localhost:8080/",
          "height": 197
        },
        "outputId": "5e2737c4-967a-4c20-bbd5-c5a97694f530"
      },
      "source": [
        "# I will also rename the column rank to home_rank\n",
        "df2.rename(columns={'rank':'home_rank'},inplace=True)\n",
        "df2.head()"
      ],
      "execution_count": 37,
      "outputs": [
        {
          "output_type": "execute_result",
          "data": {
            "text/html": [
              "<div>\n",
              "<style scoped>\n",
              "    .dataframe tbody tr th:only-of-type {\n",
              "        vertical-align: middle;\n",
              "    }\n",
              "\n",
              "    .dataframe tbody tr th {\n",
              "        vertical-align: top;\n",
              "    }\n",
              "\n",
              "    .dataframe thead th {\n",
              "        text-align: right;\n",
              "    }\n",
              "</style>\n",
              "<table border=\"1\" class=\"dataframe\">\n",
              "  <thead>\n",
              "    <tr style=\"text-align: right;\">\n",
              "      <th></th>\n",
              "      <th>home_rank</th>\n",
              "      <th>home_team</th>\n",
              "      <th>away_team</th>\n",
              "      <th>game</th>\n",
              "      <th>home_score</th>\n",
              "      <th>away_score</th>\n",
              "      <th>home_results</th>\n",
              "    </tr>\n",
              "  </thead>\n",
              "  <tbody>\n",
              "    <tr>\n",
              "      <th>162680</th>\n",
              "      <td>1</td>\n",
              "      <td>Germany</td>\n",
              "      <td>Switzerland</td>\n",
              "      <td>friendly_match</td>\n",
              "      <td>1</td>\n",
              "      <td>0</td>\n",
              "      <td>win</td>\n",
              "    </tr>\n",
              "    <tr>\n",
              "      <th>162681</th>\n",
              "      <td>1</td>\n",
              "      <td>Germany</td>\n",
              "      <td>Belgium</td>\n",
              "      <td>friendly_match</td>\n",
              "      <td>0</td>\n",
              "      <td>3</td>\n",
              "      <td>lose</td>\n",
              "    </tr>\n",
              "    <tr>\n",
              "      <th>162682</th>\n",
              "      <td>1</td>\n",
              "      <td>Germany</td>\n",
              "      <td>Netherlands</td>\n",
              "      <td>friendly_match</td>\n",
              "      <td>1</td>\n",
              "      <td>2</td>\n",
              "      <td>lose</td>\n",
              "    </tr>\n",
              "    <tr>\n",
              "      <th>162683</th>\n",
              "      <td>1</td>\n",
              "      <td>Germany</td>\n",
              "      <td>Switzerland</td>\n",
              "      <td>friendly_match</td>\n",
              "      <td>6</td>\n",
              "      <td>2</td>\n",
              "      <td>win</td>\n",
              "    </tr>\n",
              "    <tr>\n",
              "      <th>162684</th>\n",
              "      <td>1</td>\n",
              "      <td>Germany</td>\n",
              "      <td>Austria</td>\n",
              "      <td>friendly_match</td>\n",
              "      <td>1</td>\n",
              "      <td>2</td>\n",
              "      <td>lose</td>\n",
              "    </tr>\n",
              "  </tbody>\n",
              "</table>\n",
              "</div>"
            ],
            "text/plain": [
              "        home_rank home_team    away_team  ... home_score  away_score  home_results\n",
              "162680          1   Germany  Switzerland  ...          1           0           win\n",
              "162681          1   Germany      Belgium  ...          0           3          lose\n",
              "162682          1   Germany  Netherlands  ...          1           2          lose\n",
              "162683          1   Germany  Switzerland  ...          6           2           win\n",
              "162684          1   Germany      Austria  ...          1           2          lose\n",
              "\n",
              "[5 rows x 7 columns]"
            ]
          },
          "metadata": {
            "tags": []
          },
          "execution_count": 37
        }
      ]
    },
    {
      "cell_type": "code",
      "metadata": {
        "id": "wI3h_HtdAJbw",
        "colab_type": "code",
        "colab": {
          "base_uri": "https://localhost:8080/",
          "height": 34
        },
        "outputId": "8b05239b-846f-4cd9-f3a3-8e3818717cd7"
      },
      "source": [
        "df2.duplicated().sum()"
      ],
      "execution_count": 41,
      "outputs": [
        {
          "output_type": "execute_result",
          "data": {
            "text/plain": [
              "5607"
            ]
          },
          "metadata": {
            "tags": []
          },
          "execution_count": 41
        }
      ]
    },
    {
      "cell_type": "code",
      "metadata": {
        "id": "zthdPAmw5lBe",
        "colab_type": "code",
        "colab": {}
      },
      "source": [
        "# Create an empty column called away rank\n",
        "df3['away_rank']=\"\""
      ],
      "execution_count": null,
      "outputs": []
    },
    {
      "cell_type": "code",
      "metadata": {
        "id": "ceZvNyg_4tvk",
        "colab_type": "code",
        "colab": {
          "base_uri": "https://localhost:8080/",
          "height": 34
        },
        "outputId": "560dfcb0-93d3-4403-8d44-ae52f1665b5e"
      },
      "source": [
        "df2.shape"
      ],
      "execution_count": 38,
      "outputs": [
        {
          "output_type": "execute_result",
          "data": {
            "text/plain": [
              "(35997, 7)"
            ]
          },
          "metadata": {
            "tags": []
          },
          "execution_count": 38
        }
      ]
    },
    {
      "cell_type": "markdown",
      "metadata": {
        "id": "vYKFESYqgnDY",
        "colab_type": "text"
      },
      "source": [
        "Checking for outliers"
      ]
    },
    {
      "cell_type": "code",
      "metadata": {
        "id": "oenRsPBWRtlz",
        "colab_type": "code",
        "colab": {
          "base_uri": "https://localhost:8080/",
          "height": 713
        },
        "outputId": "35b83182-f8ba-47b0-d48b-31930b54ee51"
      },
      "source": [
        "# Checking for outliers\n",
        "fig, ((ax1),(ax2), (ax3)) = plt.subplots(3 ,figsize=(10, 10))\n",
        "fig.suptitle('Boxplots')\n",
        "print('\\n')\n",
        "sns.boxplot(df2['home_score'], ax=ax1, color='maroon')\n",
        "sns.boxplot(df2['away_score'], ax=ax2, color='maroon')\n",
        "sns.boxplot(df2['home_rank'], ax=ax3, color='maroon')\n",
        "\n",
        "plt.show()"
      ],
      "execution_count": 46,
      "outputs": [
        {
          "output_type": "stream",
          "text": [
            "\n",
            "\n"
          ],
          "name": "stdout"
        },
        {
          "output_type": "display_data",
          "data": {
            "image/png": "[encoded data removed]",
            "text/plain": [
              "<Figure size 720x720 with 3 Axes>"
            ]
          },
          "metadata": {
            "tags": [],
            "needs_background": "light"
          }
        }
      ]
    },
    {
      "cell_type": "markdown",
      "metadata": {
        "id": "sPYkS9NILy8E",
        "colab_type": "text"
      },
      "source": [
        "There are scores that are way beyond 20 for home score and 30 for away score, which appears not to be normal to get such high scores. I will therefore remove the outliers."
      ]
    },
    {
      "cell_type": "code",
      "metadata": {
        "id": "R403rD9C_DYz",
        "colab_type": "code",
        "colab": {
          "base_uri": "https://localhost:8080/",
          "height": 1000
        },
        "outputId": "56cbb9bf-515a-480c-cad5-1db3c85fc1c9"
      },
      "source": [
        "#  Removing outliers using percentile based outlier removal giving a threshold of 20\n",
        "def percentile_based_outlier(df, threshold=20):\n",
        "    diff = (100 - threshold) / 2\n",
        "    minval, maxval = np.percentile(df, [diff, 100 - diff])\n",
        "    return (df < minval) | (df > maxval)\n",
        "\n",
        "col_names = ['home_score','away_score']\n",
        "\n",
        "fig, ax = plt.subplots(len(col_names), figsize=(8,40))\n",
        "\n",
        "for i, col_val in enumerate(col_names):\n",
        "    x = df [col_val][:1000]\n",
        "    sns.distplot(x, ax=ax[i], rug=True, hist=False)\n",
        "    outliers = x[percentile_based_outlier(x)]\n",
        "    ax[i].plot(outliers, np.zeros_like(outliers), 'ro', clip_on=False)\n",
        "\n",
        "    ax[i].set_title('Outlier detection - {}'.format(col_val), fontsize=10)\n",
        "    ax[i].set_xlabel(col_val, fontsize=8)\n",
        "\n",
        "plt.show()\n",
        "# The values marked with a dot below in the x-axis of the graph have been removed from the column based on the set threshold percentile."
      ],
      "execution_count": 43,
      "outputs": [
        {
          "output_type": "display_data",
          "data": {
            "image/png": "[encoded data removed]",
            "text/plain": [
              "<Figure size 576x2880 with 2 Axes>"
            ]
          },
          "metadata": {
            "tags": [],
            "needs_background": "light"
          }
        }
      ]
    },
    {
      "cell_type": "markdown",
      "metadata": {
        "id": "rLi2pKu-PTe9",
        "colab_type": "text"
      },
      "source": [
        "We have successfully removed our outliers"
      ]
    },
    {
      "cell_type": "markdown",
      "metadata": {
        "id": "ZsCpzhGQb9eS",
        "colab_type": "text"
      },
      "source": [
        "## *6.* Exploratory Analysis\n",
        "\n",
        "\n"
      ]
    },
    {
      "cell_type": "markdown",
      "metadata": {
        "id": "yj4Cvp9VDEVb",
        "colab_type": "text"
      },
      "source": [
        "### Univariate analysis"
      ]
    },
    {
      "cell_type": "markdown",
      "metadata": {
        "id": "P-40tm1fCH3I",
        "colab_type": "text"
      },
      "source": [
        "**Measures of central tendancy**"
      ]
    },
    {
      "cell_type": "code",
      "metadata": {
        "id": "59Xn7ClQCc8H",
        "colab_type": "code",
        "colab": {}
      },
      "source": [
        "# Creating a list with my column names to make it easier to create a for loop\n",
        "all_columns= list(df1.columns)\n",
        "all_columns.remove('home_team')\n",
        "all_columns.remove('away_team')\n",
        "all_columns.remove('tournament')\n",
        "all_columns.remove('home_results')\n",
        "#\n",
        "columns= list(df1.columns)\n",
        "columns.remove('home_score')\n",
        "columns.remove('away_score')\n",
        "columns.remove('rank')                        "
      ],
      "execution_count": 57,
      "outputs": []
    },
    {
      "cell_type": "markdown",
      "metadata": {
        "id": "yimKCvyxR3aj",
        "colab_type": "text"
      },
      "source": [
        "We have separated the numerical from the categorical columns to ease performing our Exploratory analysis."
      ]
    },
    {
      "cell_type": "code",
      "metadata": {
        "id": "Z_uYoDT6_tx_",
        "colab_type": "code",
        "colab": {
          "base_uri": "https://localhost:8080/",
          "height": 176
        },
        "outputId": "bcc3a3b3-f7a8-45e4-c8ad-d724bac33807"
      },
      "source": [
        "# Getting the mean\n",
        "for column in all_columns:\n",
        "  print('\\n')\n",
        "  print(column+ ':'+ str(df[column].mean()))\n",
        "  "
      ],
      "execution_count": 58,
      "outputs": [
        {
          "output_type": "stream",
          "text": [
            "\n",
            "\n",
            "rank:69.13781185487204\n",
            "\n",
            "\n",
            "home_score:1.7344123219689747\n",
            "\n",
            "\n",
            "away_score:1.1791319754380096\n"
          ],
          "name": "stdout"
        }
      ]
    },
    {
      "cell_type": "markdown",
      "metadata": {
        "id": "YVH5LXxOSK97",
        "colab_type": "text"
      },
      "source": [
        "The averages(sum of total divide by number of entries) is 69.13 for rank and 1.73 for home score and 1.17 for away score."
      ]
    },
    {
      "cell_type": "code",
      "metadata": {
        "id": "r-rB42FHJ6CN",
        "colab_type": "code",
        "colab": {
          "base_uri": "https://localhost:8080/",
          "height": 176
        },
        "outputId": "9d91fed1-0721-415b-ce26-cd4d9d5c6b99"
      },
      "source": [
        "#Getting the median\n",
        "for column in all_columns:\n",
        "  print('\\n')\n",
        "  print(column+ ':'+ str(df[column].median()))"
      ],
      "execution_count": 59,
      "outputs": [
        {
          "output_type": "stream",
          "text": [
            "\n",
            "\n",
            "rank:61.0\n",
            "\n",
            "\n",
            "home_score:1.0\n",
            "\n",
            "\n",
            "away_score:1.0\n"
          ],
          "name": "stdout"
        }
      ]
    },
    {
      "cell_type": "markdown",
      "metadata": {
        "id": "EUETj1K0Skzd",
        "colab_type": "text"
      },
      "source": [
        "The center most character in rank is 61, home_score is 1 as well as away score."
      ]
    },
    {
      "cell_type": "code",
      "metadata": {
        "id": "3DYg5ut9L8l6",
        "colab_type": "code",
        "colab": {
          "base_uri": "https://localhost:8080/",
          "height": 230
        },
        "outputId": "d3a42bbe-e29c-49d9-e9af-60668234c8fa"
      },
      "source": [
        "# Getting the mode\n",
        "for column in all_columns:\n",
        "  print('\\n')\n",
        "  print(column+ ':'+ str(df[column].mode()))"
      ],
      "execution_count": 60,
      "outputs": [
        {
          "output_type": "stream",
          "text": [
            "\n",
            "\n",
            "rank:0    2\n",
            "dtype: int64\n",
            "\n",
            "\n",
            "home_score:0    1\n",
            "dtype: int64\n",
            "\n",
            "\n",
            "away_score:0    0\n",
            "dtype: int64\n"
          ],
          "name": "stdout"
        }
      ]
    },
    {
      "cell_type": "markdown",
      "metadata": {
        "id": "CIVBSi2XS-1h",
        "colab_type": "text"
      },
      "source": [
        "* The most frequently occuring number in rank is rank number two. \n",
        "* While the most frequently occuring home score is 1 this could mean that most home players score a 1. \n",
        "* The most frequent away score is zero, meaning most visiting teams score a zero."
      ]
    },
    {
      "cell_type": "code",
      "metadata": {
        "id": "k5cndXOIMG0l",
        "colab_type": "code",
        "colab": {
          "base_uri": "https://localhost:8080/",
          "height": 176
        },
        "outputId": "239c17c1-2c7f-4aa3-8488-414f8ec2fa0a"
      },
      "source": [
        "# Getting the standard deviation\n",
        "for column in all_columns:\n",
        "  print('\\n')\n",
        "  print(column+ ':'+ str(df[column].std()))"
      ],
      "execution_count": 61,
      "outputs": [
        {
          "output_type": "stream",
          "text": [
            "\n",
            "\n",
            "rank:50.84939531198202\n",
            "\n",
            "\n",
            "home_score:1.7333341036958654\n",
            "\n",
            "\n",
            "away_score:1.381379693058336\n"
          ],
          "name": "stdout"
        }
      ]
    },
    {
      "cell_type": "markdown",
      "metadata": {
        "id": "Fvichx-ZTy7M",
        "colab_type": "text"
      },
      "source": [
        "Standard deviation means a variance from the mean. From our values;\n",
        "* The SD for rank is 50.89 which is a high SD. This means that there is a large difference in values from the mean value.\n",
        "* The SD for home_score is 1.73 which is not too large nor too small. This means that most values surround the mean value\n",
        "* The SD for away score is also not so high (1.38)"
      ]
    },
    {
      "cell_type": "code",
      "metadata": {
        "id": "WmmNKLHTNGkr",
        "colab_type": "code",
        "colab": {
          "base_uri": "https://localhost:8080/",
          "height": 176
        },
        "outputId": "3883102f-2bf2-47a8-d4ca-f99c893686b2"
      },
      "source": [
        "# Getting the range of each numerical column\n",
        "#\n",
        "def calculating_range(column):\n",
        "  maximum= df[column].max()\n",
        "  minimum=df[column].min()\n",
        "  column_range= maximum-minimum\n",
        "  return column_range\n",
        "\n",
        "for column in all_columns:\n",
        "  print('\\n')\n",
        "  print(column+ ':'+ str(calculating_range(column)))"
      ],
      "execution_count": 62,
      "outputs": [
        {
          "output_type": "stream",
          "text": [
            "\n",
            "\n",
            "rank:208\n",
            "\n",
            "\n",
            "home_score:31\n",
            "\n",
            "\n",
            "away_score:21\n"
          ],
          "name": "stdout"
        }
      ]
    },
    {
      "cell_type": "markdown",
      "metadata": {
        "id": "pl9RyHaWUr-M",
        "colab_type": "text"
      },
      "source": [
        "Range means distance between the highest and the lowest variable. For our variables;\n",
        "* Rank is 208, the data is largely distributed.\n",
        "* Home score is 31, the data is fairly distributed.\n",
        "* Away score is 21, the data is fairly distributed."
      ]
    },
    {
      "cell_type": "code",
      "metadata": {
        "id": "-Y0YBk1tOWGz",
        "colab_type": "code",
        "colab": {
          "base_uri": "https://localhost:8080/",
          "height": 336
        },
        "outputId": "4e9bc312-910b-416e-ef53-42e5d76b86f3"
      },
      "source": [
        "# Interquartile range\n",
        "for column in all_columns:\n",
        "  print('\\n')\n",
        "  print(df[column].quantile([0.25,0.5,0.75]))"
      ],
      "execution_count": 63,
      "outputs": [
        {
          "output_type": "stream",
          "text": [
            "\n",
            "\n",
            "0.25     25.0\n",
            "0.50     61.0\n",
            "0.75    105.0\n",
            "Name: rank, dtype: float64\n",
            "\n",
            "\n",
            "0.25    1.0\n",
            "0.50    1.0\n",
            "0.75    2.0\n",
            "Name: home_score, dtype: float64\n",
            "\n",
            "\n",
            "0.25    0.0\n",
            "0.50    1.0\n",
            "0.75    2.0\n",
            "Name: away_score, dtype: float64\n"
          ],
          "name": "stdout"
        }
      ]
    },
    {
      "cell_type": "markdown",
      "metadata": {
        "id": "UXPt5onFVuYN",
        "colab_type": "text"
      },
      "source": [
        "* The first quartile(0.25); is the median of the lower half of the data set this means that about 25% of the numbers in the data set lie below (25-rank), (1-home score) and (0-away score)\n",
        "* Second quartile(0.50) ; the middle part of the dataset. \n",
        "* Third quartile (0.75);is the median of the upper half of the data set.\n",
        "ranges are listed above this means that aout 25% of the numbers lie above (105-rank), (2-home score) and (2-away score)"
      ]
    },
    {
      "cell_type": "code",
      "metadata": {
        "id": "P8d3rohuPCHS",
        "colab_type": "code",
        "colab": {
          "base_uri": "https://localhost:8080/",
          "height": 230
        },
        "outputId": "2ddd188e-d953-47dd-9490-dbcb0fc5b99f"
      },
      "source": [
        "# Getting the Skewness and Kurtosis\n",
        "for column in all_columns:\n",
        "  print('\\n')\n",
        "  print(column+ ', Skewness: '+str(df[column].skew()))\n",
        "  print(column+ ', Kurtosis: '+str(df[column].kurt()))"
      ],
      "execution_count": 64,
      "outputs": [
        {
          "output_type": "stream",
          "text": [
            "\n",
            "\n",
            "rank, Skewness: 0.5534948366922966\n",
            "rank, Kurtosis: -0.6440316117271565\n",
            "\n",
            "\n",
            "home_score, Skewness: 2.0998132130286375\n",
            "home_score, Kurtosis: 10.175852373888224\n",
            "\n",
            "\n",
            "away_score, Skewness: 2.4450273843467487\n",
            "away_score, Kurtosis: 14.138043113077712\n"
          ],
          "name": "stdout"
        }
      ]
    },
    {
      "cell_type": "markdown",
      "metadata": {
        "id": "PSka8HbaX1KS",
        "colab_type": "text"
      },
      "source": [
        "*Skewness is a measure of a dataset’s symmetry.A perfectly symmetrical data set will have a skewness of 0.* From our dataset, \n",
        "\n",
        "* Rank seems to almost have a symetrical as it is closest to zero (0.55) but both home score and away score are positively skewed, meaning most numbers lie to the right of the x axis.\n",
        "\n",
        "*“The kurtosis parameter is a measure of the combined weight of the tails relative to the rest of the distribution.”- Dr Wheeler*.  From our dataset;\n",
        "\n",
        "* Rank has a kurtosis closer to zero, meaning it's tail is fairly distributed to the rest of the dataset.\n",
        "Home score and away score both have  positive Kursosis meaning they have a larger tail compared to the rest of the dataset.\n",
        "\n",
        "We will visualize this using the histograms below.\n",
        "\n",
        "\n",
        "\n"
      ]
    },
    {
      "cell_type": "markdown",
      "metadata": {
        "id": "My-xibk3QXTo",
        "colab_type": "text"
      },
      "source": [
        "**Histograms**"
      ]
    },
    {
      "cell_type": "code",
      "metadata": {
        "id": "CvFLjZnwQcS7",
        "colab_type": "code",
        "colab": {
          "base_uri": "https://localhost:8080/",
          "height": 308
        },
        "outputId": "72ca10d4-01c4-41d3-a075-b3b4e211ac77"
      },
      "source": [
        "# Plotting a histogram for away score\n",
        "sns.distplot(df1['home_score'], kde = False, color = 'maroon')"
      ],
      "execution_count": 52,
      "outputs": [
        {
          "output_type": "execute_result",
          "data": {
            "text/plain": [
              "<matplotlib.axes._subplots.AxesSubplot at 0x7f5c2a2bac50>"
            ]
          },
          "metadata": {
            "tags": []
          },
          "execution_count": 52
        },
        {
          "output_type": "display_data",
          "data": {
            "image/png": "[encoded data removed]",
            "text/plain": [
              "<Figure size 432x288 with 1 Axes>"
            ]
          },
          "metadata": {
            "tags": [],
            "needs_background": "light"
          }
        }
      ]
    },
    {
      "cell_type": "markdown",
      "metadata": {
        "id": "pR9asjMgasyC",
        "colab_type": "text"
      },
      "source": [
        "As shown above, the histogram of home score shows that the values are more to the right of the x axis  and there are many numbers as well on the bottom part causing a peak."
      ]
    },
    {
      "cell_type": "code",
      "metadata": {
        "id": "_-922Kj8R5EG",
        "colab_type": "code",
        "colab": {
          "base_uri": "https://localhost:8080/",
          "height": 307
        },
        "outputId": "fc461026-8134-42ea-ec3f-efdc919d3ddb"
      },
      "source": [
        "# Plotting a histogram for away score\n",
        "sns.distplot(df1['away_score'], kde = False, color = 'maroon')\n",
        "# The histogram shows that our data is skewed to the right implying that most data falls to the right, or positive side, of the graph's peak. and highly peaked."
      ],
      "execution_count": 51,
      "outputs": [
        {
          "output_type": "execute_result",
          "data": {
            "text/plain": [
              "<matplotlib.axes._subplots.AxesSubplot at 0x7f5c2ab7ff28>"
            ]
          },
          "metadata": {
            "tags": []
          },
          "execution_count": 51
        },
        {
          "output_type": "display_data",
          "data": {
            "image/png": "[encoded data removed]",
            "text/plain": [
              "<Figure size 432x288 with 1 Axes>"
            ]
          },
          "metadata": {
            "tags": [],
            "needs_background": "light"
          }
        }
      ]
    },
    {
      "cell_type": "markdown",
      "metadata": {
        "id": "O_Gs8cqLbnS0",
        "colab_type": "text"
      },
      "source": [
        "As shown above, the histogram of away score shows that the values are more to the right of the x axis and there are many numbers as well on the bottom part causing a peak"
      ]
    },
    {
      "cell_type": "code",
      "metadata": {
        "id": "zRdABqr4bKq_",
        "colab_type": "code",
        "colab": {
          "base_uri": "https://localhost:8080/",
          "height": 296
        },
        "outputId": "fc70d36c-a89d-488a-c917-e95d600f3d3f"
      },
      "source": [
        "# Plotting a histogram for rank\n",
        "sns.distplot(df1['rank'], kde = False, color = 'maroon')"
      ],
      "execution_count": 65,
      "outputs": [
        {
          "output_type": "execute_result",
          "data": {
            "text/plain": [
              "<matplotlib.axes._subplots.AxesSubplot at 0x7f5c25a68ef0>"
            ]
          },
          "metadata": {
            "tags": []
          },
          "execution_count": 65
        },
        {
          "output_type": "display_data",
          "data": {
            "image/png": "[encoded data removed]",
            "text/plain": [
              "<Figure size 432x288 with 1 Axes>"
            ]
          },
          "metadata": {
            "tags": [],
            "needs_background": "light"
          }
        }
      ]
    },
    {
      "cell_type": "markdown",
      "metadata": {
        "id": "6TVcdNMzbs9-",
        "colab_type": "text"
      },
      "source": [
        "The histogram above shows that our rank data is fairly distributed and it seams thet the highly ranked (top ten)teams participated more than the lowly ranked(200's)"
      ]
    },
    {
      "cell_type": "markdown",
      "metadata": {
        "id": "ziCEqwFkbqo_",
        "colab_type": "text"
      },
      "source": [
        "**Distribution plot**"
      ]
    },
    {
      "cell_type": "code",
      "metadata": {
        "id": "1n66NuURbxax",
        "colab_type": "code",
        "colab": {
          "base_uri": "https://localhost:8080/",
          "height": 297
        },
        "outputId": "395e4b15-ad7d-42b5-854d-f0f91ab44646"
      },
      "source": [
        "# A plot showing both a line and histogram graph for home score\n",
        "sns.distplot(df['home_score'],color='maroon', bins=10)"
      ],
      "execution_count": 67,
      "outputs": [
        {
          "output_type": "execute_result",
          "data": {
            "text/plain": [
              "<matplotlib.axes._subplots.AxesSubplot at 0x7f5c25a555c0>"
            ]
          },
          "metadata": {
            "tags": []
          },
          "execution_count": 67
        },
        {
          "output_type": "display_data",
          "data": {
            "image/png": "[encoded data removed]",
            "text/plain": [
              "<Figure size 432x288 with 1 Axes>"
            ]
          },
          "metadata": {
            "tags": [],
            "needs_background": "light"
          }
        }
      ]
    },
    {
      "cell_type": "markdown",
      "metadata": {
        "id": "51awXl09cr28",
        "colab_type": "text"
      },
      "source": [
        "The distribution between scores is very low."
      ]
    },
    {
      "cell_type": "code",
      "metadata": {
        "id": "GiuZ5nxOb9yV",
        "colab_type": "code",
        "colab": {
          "base_uri": "https://localhost:8080/",
          "height": 296
        },
        "outputId": "c38b97a7-4f30-4d4a-e951-3ed381d7b2d2"
      },
      "source": [
        "# A plot showing both a line and histogram graph for away score\n",
        "sns.distplot(df['away_score'],color='maroon',bins=10)"
      ],
      "execution_count": 69,
      "outputs": [
        {
          "output_type": "execute_result",
          "data": {
            "text/plain": [
              "<matplotlib.axes._subplots.AxesSubplot at 0x7f5c2a4a7c18>"
            ]
          },
          "metadata": {
            "tags": []
          },
          "execution_count": 69
        },
        {
          "output_type": "display_data",
          "data": {
            "image/png": "[encoded data removed]",
            "text/plain": [
              "<Figure size 432x288 with 1 Axes>"
            ]
          },
          "metadata": {
            "tags": [],
            "needs_background": "light"
          }
        }
      ]
    },
    {
      "cell_type": "markdown",
      "metadata": {
        "id": "Kx65u7Jdc_9x",
        "colab_type": "text"
      },
      "source": [
        "The distribution between scores is very low."
      ]
    },
    {
      "cell_type": "code",
      "metadata": {
        "id": "rF1WEm8wdIIH",
        "colab_type": "code",
        "colab": {
          "base_uri": "https://localhost:8080/",
          "height": 296
        },
        "outputId": "6c0c6dc3-d4c2-4590-8f6b-71a4c8f5accc"
      },
      "source": [
        "# A plot showing both a line and histogram graph for rank\n",
        "sns.distplot(df['rank'],color='maroon',bins=10)"
      ],
      "execution_count": 70,
      "outputs": [
        {
          "output_type": "execute_result",
          "data": {
            "text/plain": [
              "<matplotlib.axes._subplots.AxesSubplot at 0x7f5c2a5ad278>"
            ]
          },
          "metadata": {
            "tags": []
          },
          "execution_count": 70
        },
        {
          "output_type": "display_data",
          "data": {
            "image/png": "[encoded data removed]",
            "text/plain": [
              "<Figure size 432x288 with 1 Axes>"
            ]
          },
          "metadata": {
            "tags": [],
            "needs_background": "light"
          }
        }
      ]
    },
    {
      "cell_type": "markdown",
      "metadata": {
        "id": "GkRsBA1TSjZv",
        "colab_type": "text"
      },
      "source": [
        "**Bar graphs**"
      ]
    },
    {
      "cell_type": "code",
      "metadata": {
        "id": "z_i9Vzh4TLCM",
        "colab_type": "code",
        "colab": {
          "base_uri": "https://localhost:8080/",
          "height": 404
        },
        "outputId": "ee582f1f-d227-44c0-c5d3-5f2cd18115bb"
      },
      "source": [
        "# Getting the frequency of the bluecars both in the weekend and weekday\n",
        "import matplotlib.colors as mcolors\n",
        "plt.figure(figsize=(10,6))\n",
        "sns.countplot(df1['home_results'], palette='PuRd' )\n",
        "plt.title('Number of times home team wins, draws or looses')\n",
        "plt.show()\n"
      ],
      "execution_count": 90,
      "outputs": [
        {
          "output_type": "display_data",
          "data": {
            "image/png": "[encoded data removed]",
            "text/plain": [
              "<Figure size 720x432 with 1 Axes>"
            ]
          },
          "metadata": {
            "tags": [],
            "needs_background": "light"
          }
        }
      ]
    },
    {
      "cell_type": "markdown",
      "metadata": {
        "id": "wHdASAQohiF2",
        "colab_type": "text"
      },
      "source": [
        "Wins have the highest count followed by losses then draws. This could mean that If a home team plays it wins more times than it loses or draws."
      ]
    },
    {
      "cell_type": "code",
      "metadata": {
        "id": "aP9Kx1PagAHE",
        "colab_type": "code",
        "colab": {
          "base_uri": "https://localhost:8080/",
          "height": 137
        },
        "outputId": "88088710-faf1-47a1-e81e-2f730ae43fa5"
      },
      "source": [
        "df1.head(3)"
      ],
      "execution_count": 79,
      "outputs": [
        {
          "output_type": "execute_result",
          "data": {
            "text/html": [
              "<div>\n",
              "<style scoped>\n",
              "    .dataframe tbody tr th:only-of-type {\n",
              "        vertical-align: middle;\n",
              "    }\n",
              "\n",
              "    .dataframe tbody tr th {\n",
              "        vertical-align: top;\n",
              "    }\n",
              "\n",
              "    .dataframe thead th {\n",
              "        text-align: right;\n",
              "    }\n",
              "</style>\n",
              "<table border=\"1\" class=\"dataframe\">\n",
              "  <thead>\n",
              "    <tr style=\"text-align: right;\">\n",
              "      <th></th>\n",
              "      <th>rank</th>\n",
              "      <th>home_team</th>\n",
              "      <th>away_team</th>\n",
              "      <th>tournament</th>\n",
              "      <th>home_score</th>\n",
              "      <th>away_score</th>\n",
              "      <th>home_results</th>\n",
              "    </tr>\n",
              "  </thead>\n",
              "  <tbody>\n",
              "    <tr>\n",
              "      <th>0</th>\n",
              "      <td>1</td>\n",
              "      <td>Germany</td>\n",
              "      <td>Switzerland</td>\n",
              "      <td>Friendly</td>\n",
              "      <td>1</td>\n",
              "      <td>0</td>\n",
              "      <td>win</td>\n",
              "    </tr>\n",
              "    <tr>\n",
              "      <th>1</th>\n",
              "      <td>1</td>\n",
              "      <td>Germany</td>\n",
              "      <td>Belgium</td>\n",
              "      <td>Friendly</td>\n",
              "      <td>0</td>\n",
              "      <td>3</td>\n",
              "      <td>lose</td>\n",
              "    </tr>\n",
              "    <tr>\n",
              "      <th>2</th>\n",
              "      <td>1</td>\n",
              "      <td>Germany</td>\n",
              "      <td>Netherlands</td>\n",
              "      <td>Friendly</td>\n",
              "      <td>1</td>\n",
              "      <td>2</td>\n",
              "      <td>lose</td>\n",
              "    </tr>\n",
              "  </tbody>\n",
              "</table>\n",
              "</div>"
            ],
            "text/plain": [
              "   rank home_team    away_team tournament  home_score  away_score home_results\n",
              "0     1   Germany  Switzerland   Friendly           1           0          win\n",
              "1     1   Germany      Belgium   Friendly           0           3         lose\n",
              "2     1   Germany  Netherlands   Friendly           1           2         lose"
            ]
          },
          "metadata": {
            "tags": []
          },
          "execution_count": 79
        }
      ]
    },
    {
      "cell_type": "markdown",
      "metadata": {
        "id": "nDN0BhVtHipp",
        "colab_type": "text"
      },
      "source": [
        "### Bivariate analysis"
      ]
    },
    {
      "cell_type": "code",
      "metadata": {
        "id": "QGt9uS5pYT1y",
        "colab_type": "code",
        "colab": {
          "base_uri": "https://localhost:8080/",
          "height": 142
        },
        "outputId": "649a9a43-25ac-43fb-8cec-8287e6206b9d"
      },
      "source": [
        "# Showing correlation using a correlation table\n",
        "df1.corr()\n",
        "# There is a perfectly positive correlation between bluecars taken and blue cars returned of 0.99\n",
        "\n",
        "# There is a moderate negative correlation beteween postal code and blue cars taken of -0.698 and also a moderate negative correlation \n",
        "# between blue cars returned and postal code of -0.6975\n"
      ],
      "execution_count": null,
      "outputs": [
        {
          "output_type": "execute_result",
          "data": {
            "text/html": [
              "<div>\n",
              "<style scoped>\n",
              "    .dataframe tbody tr th:only-of-type {\n",
              "        vertical-align: middle;\n",
              "    }\n",
              "\n",
              "    .dataframe tbody tr th {\n",
              "        vertical-align: top;\n",
              "    }\n",
              "\n",
              "    .dataframe thead th {\n",
              "        text-align: right;\n",
              "    }\n",
              "</style>\n",
              "<table border=\"1\" class=\"dataframe\">\n",
              "  <thead>\n",
              "    <tr style=\"text-align: right;\">\n",
              "      <th></th>\n",
              "      <th>postal_code</th>\n",
              "      <th>bluecars_taken_sum</th>\n",
              "      <th>bluecars_returned_sum</th>\n",
              "    </tr>\n",
              "  </thead>\n",
              "  <tbody>\n",
              "    <tr>\n",
              "      <th>postal_code</th>\n",
              "      <td>1.000000</td>\n",
              "      <td>-0.69802</td>\n",
              "      <td>-0.697519</td>\n",
              "    </tr>\n",
              "    <tr>\n",
              "      <th>bluecars_taken_sum</th>\n",
              "      <td>-0.698020</td>\n",
              "      <td>1.00000</td>\n",
              "      <td>0.998660</td>\n",
              "    </tr>\n",
              "    <tr>\n",
              "      <th>bluecars_returned_sum</th>\n",
              "      <td>-0.697519</td>\n",
              "      <td>0.99866</td>\n",
              "      <td>1.000000</td>\n",
              "    </tr>\n",
              "  </tbody>\n",
              "</table>\n",
              "</div>"
            ],
            "text/plain": [
              "                       postal_code  bluecars_taken_sum  bluecars_returned_sum\n",
              "postal_code               1.000000            -0.69802              -0.697519\n",
              "bluecars_taken_sum       -0.698020             1.00000               0.998660\n",
              "bluecars_returned_sum    -0.697519             0.99866               1.000000"
            ]
          },
          "metadata": {
            "tags": []
          },
          "execution_count": 31
        }
      ]
    },
    {
      "cell_type": "code",
      "metadata": {
        "id": "71Bn0mgwYvCb",
        "colab_type": "code",
        "colab": {
          "base_uri": "https://localhost:8080/",
          "height": 355
        },
        "outputId": "b1687246-d376-4676-ed12-b43633f8e5f9"
      },
      "source": [
        "# Showing correlation using a heatmap\n",
        "sns.heatmap(df1.corr(),annot=True)\n",
        "plt.show()"
      ],
      "execution_count": null,
      "outputs": [
        {
          "output_type": "display_data",
          "data": {
            "image/png": "[encoded data removed]",
            "text/plain": [
              "<Figure size 576x396 with 2 Axes>"
            ]
          },
          "metadata": {
            "tags": []
          }
        }
      ]
    },
    {
      "cell_type": "markdown",
      "metadata": {
        "id": "YBu8rCihcgNk",
        "colab_type": "text"
      },
      "source": [
        "* There is a perfectly positive relationship between bluecars taken and bluecars returned with a correlation of 1"
      ]
    },
    {
      "cell_type": "code",
      "metadata": {
        "id": "XPkNy3-ncWPS",
        "colab_type": "code",
        "colab": {
          "base_uri": "https://localhost:8080/",
          "height": 584
        },
        "outputId": "5a931876-ed23-4a2f-e958-b32df40b8d91"
      },
      "source": [
        "# Bivariate using a pair plot\n",
        "sns.pairplot(df1)\n",
        "# As shown below, the correlation between the blue cars returened and blue cars taken is positive as the line graphs ascend from left to right. \n",
        "# Postal code seem to have a sepereted graph due to the nature of postal code allocation."
      ],
      "execution_count": null,
      "outputs": [
        {
          "output_type": "execute_result",
          "data": {
            "text/plain": [
              "<seaborn.axisgrid.PairGrid at 0x7fb97eaad630>"
            ]
          },
          "metadata": {
            "tags": []
          },
          "execution_count": 168
        },
        {
          "output_type": "display_data",
          "data": {
            "image/png": "[encoded data removed]",
            "text/plain": [
              "<Figure size 540x540 with 12 Axes>"
            ]
          },
          "metadata": {
            "tags": []
          }
        }
      ]
    },
    {
      "cell_type": "markdown",
      "metadata": {
        "id": "YzhZTEwwudHB",
        "colab_type": "text"
      },
      "source": [
        "## **Hypothesis**\n",
        "\n",
        "* **Null-Hypothesis** : There is no difference between the number of Bluecars taken on Weekdays from postal code 75011 and postal code 75015.\n",
        "\n",
        "* **Alternative-Hypothesis** : There is a difference between the number of blue cars taken on weekdays from postal code 75011 ad postal 75015.\n",
        "\n",
        "* **Significance level** : a= 0.025 due to it's two tailed nature.\n",
        "\n",
        "* **P-value** : Calculated as 0.05"
      ]
    },
    {
      "cell_type": "code",
      "metadata": {
        "id": "gFR922Arug_s",
        "colab_type": "code",
        "colab": {
          "base_uri": "https://localhost:8080/",
          "height": 419
        },
        "outputId": "3fe1c995-1c4e-4aef-de56-bbf6ee2eb4b4"
      },
      "source": [
        "# selecting a random sample\n",
        "df1_sample= df1.sample(n= 1000,replace=False)\n",
        "df1_sample"
      ],
      "execution_count": null,
      "outputs": [
        {
          "output_type": "execute_result",
          "data": {
            "text/html": [
              "<div>\n",
              "<style scoped>\n",
              "    .dataframe tbody tr th:only-of-type {\n",
              "        vertical-align: middle;\n",
              "    }\n",
              "\n",
              "    .dataframe tbody tr th {\n",
              "        vertical-align: top;\n",
              "    }\n",
              "\n",
              "    .dataframe thead th {\n",
              "        text-align: right;\n",
              "    }\n",
              "</style>\n",
              "<table border=\"1\" class=\"dataframe\">\n",
              "  <thead>\n",
              "    <tr style=\"text-align: right;\">\n",
              "      <th></th>\n",
              "      <th>postal_code</th>\n",
              "      <th>day_type</th>\n",
              "      <th>bluecars_taken_sum</th>\n",
              "      <th>bluecars_returned_sum</th>\n",
              "    </tr>\n",
              "  </thead>\n",
              "  <tbody>\n",
              "    <tr>\n",
              "      <th>1453</th>\n",
              "      <td>75010</td>\n",
              "      <td>weekday</td>\n",
              "      <td>222</td>\n",
              "      <td>246</td>\n",
              "    </tr>\n",
              "    <tr>\n",
              "      <th>7761</th>\n",
              "      <td>92320</td>\n",
              "      <td>weekday</td>\n",
              "      <td>44</td>\n",
              "      <td>46</td>\n",
              "    </tr>\n",
              "    <tr>\n",
              "      <th>2986</th>\n",
              "      <td>75020</td>\n",
              "      <td>weekday</td>\n",
              "      <td>389</td>\n",
              "      <td>417</td>\n",
              "    </tr>\n",
              "    <tr>\n",
              "      <th>13605</th>\n",
              "      <td>94130</td>\n",
              "      <td>weekday</td>\n",
              "      <td>25</td>\n",
              "      <td>24</td>\n",
              "    </tr>\n",
              "    <tr>\n",
              "      <th>11102</th>\n",
              "      <td>93260</td>\n",
              "      <td>weekday</td>\n",
              "      <td>44</td>\n",
              "      <td>38</td>\n",
              "    </tr>\n",
              "    <tr>\n",
              "      <th>...</th>\n",
              "      <td>...</td>\n",
              "      <td>...</td>\n",
              "      <td>...</td>\n",
              "      <td>...</td>\n",
              "    </tr>\n",
              "    <tr>\n",
              "      <th>9283</th>\n",
              "      <td>92420</td>\n",
              "      <td>weekday</td>\n",
              "      <td>8</td>\n",
              "      <td>11</td>\n",
              "    </tr>\n",
              "    <tr>\n",
              "      <th>286</th>\n",
              "      <td>75002</td>\n",
              "      <td>weekday</td>\n",
              "      <td>160</td>\n",
              "      <td>162</td>\n",
              "    </tr>\n",
              "    <tr>\n",
              "      <th>3440</th>\n",
              "      <td>78000</td>\n",
              "      <td>weekday</td>\n",
              "      <td>31</td>\n",
              "      <td>35</td>\n",
              "    </tr>\n",
              "    <tr>\n",
              "      <th>7522</th>\n",
              "      <td>92310</td>\n",
              "      <td>weekday</td>\n",
              "      <td>37</td>\n",
              "      <td>32</td>\n",
              "    </tr>\n",
              "    <tr>\n",
              "      <th>10671</th>\n",
              "      <td>93170</td>\n",
              "      <td>weekday</td>\n",
              "      <td>35</td>\n",
              "      <td>31</td>\n",
              "    </tr>\n",
              "  </tbody>\n",
              "</table>\n",
              "<p>1000 rows × 4 columns</p>\n",
              "</div>"
            ],
            "text/plain": [
              "       postal_code day_type  bluecars_taken_sum  bluecars_returned_sum\n",
              "1453         75010  weekday                 222                    246\n",
              "7761         92320  weekday                  44                     46\n",
              "2986         75020  weekday                 389                    417\n",
              "13605        94130  weekday                  25                     24\n",
              "11102        93260  weekday                  44                     38\n",
              "...            ...      ...                 ...                    ...\n",
              "9283         92420  weekday                   8                     11\n",
              "286          75002  weekday                 160                    162\n",
              "3440         78000  weekday                  31                     35\n",
              "7522         92310  weekday                  37                     32\n",
              "10671        93170  weekday                  35                     31\n",
              "\n",
              "[1000 rows x 4 columns]"
            ]
          },
          "metadata": {
            "tags": []
          },
          "execution_count": 32
        }
      ]
    },
    {
      "cell_type": "markdown",
      "metadata": {
        "id": "9i5_fRcTk-Mp",
        "colab_type": "text"
      },
      "source": [
        "> **Reason for sampling technique** \n",
        ">*  Simple random sampling is a better sampling technique because it gives equal chance to all the data to be a part of our sample. We do not have categorical data to compare so stratified sampling will not be suitable.\n",
        "\n",
        ">**Reason for sampling size**\n",
        "> * We use a sample size of a thousand because it is almost 10% of our population dataset which will accurately represent my total population. "
      ]
    },
    {
      "cell_type": "code",
      "metadata": {
        "id": "CH2SAK5XjNLo",
        "colab_type": "code",
        "colab": {
          "base_uri": "https://localhost:8080/",
          "height": 390
        },
        "outputId": "600e6a68-eec6-4053-a986-ce2445e2f44e"
      },
      "source": [
        "# Select from our sample data with postal code 75015\n",
        "sample_75015 =df1_sample.loc[df1_sample['postal_code'] == 75015]\n",
        "sample_75015"
      ],
      "execution_count": null,
      "outputs": [
        {
          "output_type": "execute_result",
          "data": {
            "text/html": [
              "<div>\n",
              "<style scoped>\n",
              "    .dataframe tbody tr th:only-of-type {\n",
              "        vertical-align: middle;\n",
              "    }\n",
              "\n",
              "    .dataframe tbody tr th {\n",
              "        vertical-align: top;\n",
              "    }\n",
              "\n",
              "    .dataframe thead th {\n",
              "        text-align: right;\n",
              "    }\n",
              "</style>\n",
              "<table border=\"1\" class=\"dataframe\">\n",
              "  <thead>\n",
              "    <tr style=\"text-align: right;\">\n",
              "      <th></th>\n",
              "      <th>postal_code</th>\n",
              "      <th>day_type</th>\n",
              "      <th>bluecars_taken_sum</th>\n",
              "      <th>bluecars_returned_sum</th>\n",
              "    </tr>\n",
              "  </thead>\n",
              "  <tbody>\n",
              "    <tr>\n",
              "      <th>2289</th>\n",
              "      <td>75015</td>\n",
              "      <td>weekday</td>\n",
              "      <td>712</td>\n",
              "      <td>736</td>\n",
              "    </tr>\n",
              "    <tr>\n",
              "      <th>2278</th>\n",
              "      <td>75015</td>\n",
              "      <td>weekend</td>\n",
              "      <td>1082</td>\n",
              "      <td>1189</td>\n",
              "    </tr>\n",
              "    <tr>\n",
              "      <th>2208</th>\n",
              "      <td>75015</td>\n",
              "      <td>weekday</td>\n",
              "      <td>871</td>\n",
              "      <td>838</td>\n",
              "    </tr>\n",
              "    <tr>\n",
              "      <th>2254</th>\n",
              "      <td>75015</td>\n",
              "      <td>weekday</td>\n",
              "      <td>818</td>\n",
              "      <td>770</td>\n",
              "    </tr>\n",
              "    <tr>\n",
              "      <th>2304</th>\n",
              "      <td>75015</td>\n",
              "      <td>weekday</td>\n",
              "      <td>944</td>\n",
              "      <td>891</td>\n",
              "    </tr>\n",
              "    <tr>\n",
              "      <th>2191</th>\n",
              "      <td>75015</td>\n",
              "      <td>weekday</td>\n",
              "      <td>694</td>\n",
              "      <td>728</td>\n",
              "    </tr>\n",
              "    <tr>\n",
              "      <th>2225</th>\n",
              "      <td>75015</td>\n",
              "      <td>weekend</td>\n",
              "      <td>1036</td>\n",
              "      <td>1066</td>\n",
              "    </tr>\n",
              "    <tr>\n",
              "      <th>2220</th>\n",
              "      <td>75015</td>\n",
              "      <td>weekday</td>\n",
              "      <td>781</td>\n",
              "      <td>793</td>\n",
              "    </tr>\n",
              "    <tr>\n",
              "      <th>2291</th>\n",
              "      <td>75015</td>\n",
              "      <td>weekend</td>\n",
              "      <td>1023</td>\n",
              "      <td>1017</td>\n",
              "    </tr>\n",
              "    <tr>\n",
              "      <th>2286</th>\n",
              "      <td>75015</td>\n",
              "      <td>weekday</td>\n",
              "      <td>737</td>\n",
              "      <td>775</td>\n",
              "    </tr>\n",
              "    <tr>\n",
              "      <th>2338</th>\n",
              "      <td>75015</td>\n",
              "      <td>weekday</td>\n",
              "      <td>669</td>\n",
              "      <td>698</td>\n",
              "    </tr>\n",
              "  </tbody>\n",
              "</table>\n",
              "</div>"
            ],
            "text/plain": [
              "      postal_code day_type  bluecars_taken_sum  bluecars_returned_sum\n",
              "2289        75015  weekday                 712                    736\n",
              "2278        75015  weekend                1082                   1189\n",
              "2208        75015  weekday                 871                    838\n",
              "2254        75015  weekday                 818                    770\n",
              "2304        75015  weekday                 944                    891\n",
              "2191        75015  weekday                 694                    728\n",
              "2225        75015  weekend                1036                   1066\n",
              "2220        75015  weekday                 781                    793\n",
              "2291        75015  weekend                1023                   1017\n",
              "2286        75015  weekday                 737                    775\n",
              "2338        75015  weekday                 669                    698"
            ]
          },
          "metadata": {
            "tags": []
          },
          "execution_count": 34
        }
      ]
    },
    {
      "cell_type": "code",
      "metadata": {
        "id": "WxgSWGjNZENt",
        "colab_type": "code",
        "colab": {
          "base_uri": "https://localhost:8080/",
          "height": 297
        },
        "outputId": "6f4cd300-6837-4984-fe37-6d2aaf7108ef"
      },
      "source": [
        "# A view of the statistic qualities of our sample\n",
        "df1_sample.describe()"
      ],
      "execution_count": null,
      "outputs": [
        {
          "output_type": "execute_result",
          "data": {
            "text/html": [
              "<div>\n",
              "<style scoped>\n",
              "    .dataframe tbody tr th:only-of-type {\n",
              "        vertical-align: middle;\n",
              "    }\n",
              "\n",
              "    .dataframe tbody tr th {\n",
              "        vertical-align: top;\n",
              "    }\n",
              "\n",
              "    .dataframe thead th {\n",
              "        text-align: right;\n",
              "    }\n",
              "</style>\n",
              "<table border=\"1\" class=\"dataframe\">\n",
              "  <thead>\n",
              "    <tr style=\"text-align: right;\">\n",
              "      <th></th>\n",
              "      <th>postal_code</th>\n",
              "      <th>bluecars_taken_sum</th>\n",
              "      <th>bluecars_returned_sum</th>\n",
              "    </tr>\n",
              "  </thead>\n",
              "  <tbody>\n",
              "    <tr>\n",
              "      <th>count</th>\n",
              "      <td>1000.000000</td>\n",
              "      <td>1000.000000</td>\n",
              "      <td>1000.00000</td>\n",
              "    </tr>\n",
              "    <tr>\n",
              "      <th>mean</th>\n",
              "      <td>88870.864000</td>\n",
              "      <td>125.225000</td>\n",
              "      <td>125.39000</td>\n",
              "    </tr>\n",
              "    <tr>\n",
              "      <th>std</th>\n",
              "      <td>7603.595842</td>\n",
              "      <td>183.793559</td>\n",
              "      <td>184.85303</td>\n",
              "    </tr>\n",
              "    <tr>\n",
              "      <th>min</th>\n",
              "      <td>75001.000000</td>\n",
              "      <td>0.000000</td>\n",
              "      <td>0.00000</td>\n",
              "    </tr>\n",
              "    <tr>\n",
              "      <th>25%</th>\n",
              "      <td>91370.000000</td>\n",
              "      <td>21.000000</td>\n",
              "      <td>20.00000</td>\n",
              "    </tr>\n",
              "    <tr>\n",
              "      <th>50%</th>\n",
              "      <td>92350.000000</td>\n",
              "      <td>47.000000</td>\n",
              "      <td>45.00000</td>\n",
              "    </tr>\n",
              "    <tr>\n",
              "      <th>75%</th>\n",
              "      <td>93400.000000</td>\n",
              "      <td>128.500000</td>\n",
              "      <td>129.25000</td>\n",
              "    </tr>\n",
              "    <tr>\n",
              "      <th>max</th>\n",
              "      <td>95880.000000</td>\n",
              "      <td>1088.000000</td>\n",
              "      <td>1189.00000</td>\n",
              "    </tr>\n",
              "  </tbody>\n",
              "</table>\n",
              "</div>"
            ],
            "text/plain": [
              "        postal_code  bluecars_taken_sum  bluecars_returned_sum\n",
              "count   1000.000000         1000.000000             1000.00000\n",
              "mean   88870.864000          125.225000              125.39000\n",
              "std     7603.595842          183.793559              184.85303\n",
              "min    75001.000000            0.000000                0.00000\n",
              "25%    91370.000000           21.000000               20.00000\n",
              "50%    92350.000000           47.000000               45.00000\n",
              "75%    93400.000000          128.500000              129.25000\n",
              "max    95880.000000         1088.000000             1189.00000"
            ]
          },
          "metadata": {
            "tags": []
          },
          "execution_count": 41
        }
      ]
    },
    {
      "cell_type": "code",
      "metadata": {
        "id": "9lTcexteAO-t",
        "colab_type": "code",
        "colab": {
          "base_uri": "https://localhost:8080/",
          "height": 297
        },
        "outputId": "2e6bb999-7ea1-462b-ae99-ab01befe5cc2"
      },
      "source": [
        "# we select we specify our data to weekdays\n",
        "interested_sample=sample_75015[sample_75015['day_type'].str.contains(\"weekday\")]\n",
        "interested_sample"
      ],
      "execution_count": null,
      "outputs": [
        {
          "output_type": "execute_result",
          "data": {
            "text/html": [
              "<div>\n",
              "<style scoped>\n",
              "    .dataframe tbody tr th:only-of-type {\n",
              "        vertical-align: middle;\n",
              "    }\n",
              "\n",
              "    .dataframe tbody tr th {\n",
              "        vertical-align: top;\n",
              "    }\n",
              "\n",
              "    .dataframe thead th {\n",
              "        text-align: right;\n",
              "    }\n",
              "</style>\n",
              "<table border=\"1\" class=\"dataframe\">\n",
              "  <thead>\n",
              "    <tr style=\"text-align: right;\">\n",
              "      <th></th>\n",
              "      <th>postal_code</th>\n",
              "      <th>day_type</th>\n",
              "      <th>bluecars_taken_sum</th>\n",
              "      <th>bluecars_returned_sum</th>\n",
              "    </tr>\n",
              "  </thead>\n",
              "  <tbody>\n",
              "    <tr>\n",
              "      <th>2289</th>\n",
              "      <td>75015</td>\n",
              "      <td>weekday</td>\n",
              "      <td>712</td>\n",
              "      <td>736</td>\n",
              "    </tr>\n",
              "    <tr>\n",
              "      <th>2208</th>\n",
              "      <td>75015</td>\n",
              "      <td>weekday</td>\n",
              "      <td>871</td>\n",
              "      <td>838</td>\n",
              "    </tr>\n",
              "    <tr>\n",
              "      <th>2254</th>\n",
              "      <td>75015</td>\n",
              "      <td>weekday</td>\n",
              "      <td>818</td>\n",
              "      <td>770</td>\n",
              "    </tr>\n",
              "    <tr>\n",
              "      <th>2304</th>\n",
              "      <td>75015</td>\n",
              "      <td>weekday</td>\n",
              "      <td>944</td>\n",
              "      <td>891</td>\n",
              "    </tr>\n",
              "    <tr>\n",
              "      <th>2191</th>\n",
              "      <td>75015</td>\n",
              "      <td>weekday</td>\n",
              "      <td>694</td>\n",
              "      <td>728</td>\n",
              "    </tr>\n",
              "    <tr>\n",
              "      <th>2220</th>\n",
              "      <td>75015</td>\n",
              "      <td>weekday</td>\n",
              "      <td>781</td>\n",
              "      <td>793</td>\n",
              "    </tr>\n",
              "    <tr>\n",
              "      <th>2286</th>\n",
              "      <td>75015</td>\n",
              "      <td>weekday</td>\n",
              "      <td>737</td>\n",
              "      <td>775</td>\n",
              "    </tr>\n",
              "    <tr>\n",
              "      <th>2338</th>\n",
              "      <td>75015</td>\n",
              "      <td>weekday</td>\n",
              "      <td>669</td>\n",
              "      <td>698</td>\n",
              "    </tr>\n",
              "  </tbody>\n",
              "</table>\n",
              "</div>"
            ],
            "text/plain": [
              "      postal_code day_type  bluecars_taken_sum  bluecars_returned_sum\n",
              "2289        75015  weekday                 712                    736\n",
              "2208        75015  weekday                 871                    838\n",
              "2254        75015  weekday                 818                    770\n",
              "2304        75015  weekday                 944                    891\n",
              "2191        75015  weekday                 694                    728\n",
              "2220        75015  weekday                 781                    793\n",
              "2286        75015  weekday                 737                    775\n",
              "2338        75015  weekday                 669                    698"
            ]
          },
          "metadata": {
            "tags": []
          },
          "execution_count": 35
        }
      ]
    },
    {
      "cell_type": "code",
      "metadata": {
        "id": "jb3Ua2IsNo2m",
        "colab_type": "code",
        "colab": {
          "base_uri": "https://localhost:8080/",
          "height": 34
        },
        "outputId": "da11fd67-693a-429a-80c0-1e8f0713949a"
      },
      "source": [
        "bluecar_taken_list = interested_sample['bluecars_taken_sum'].tolist()\n",
        "bluecar_taken_list"
      ],
      "execution_count": null,
      "outputs": [
        {
          "output_type": "execute_result",
          "data": {
            "text/plain": [
              "[712, 871, 818, 944, 694, 781, 737, 669]"
            ]
          },
          "metadata": {
            "tags": []
          },
          "execution_count": 36
        }
      ]
    },
    {
      "cell_type": "code",
      "metadata": {
        "id": "Jr4W8YIxOIVy",
        "colab_type": "code",
        "colab": {}
      },
      "source": [
        "# Getting scipy for our t statistic\n",
        "from scipy.stats import ttest_1samp"
      ],
      "execution_count": null,
      "outputs": []
    },
    {
      "cell_type": "code",
      "metadata": {
        "id": "1vHSj9EPaiwq",
        "colab_type": "code",
        "colab": {
          "base_uri": "https://localhost:8080/",
          "height": 34
        },
        "outputId": "67b91f8a-62a0-4b7b-c454-92f229918480"
      },
      "source": [
        "# population average\n",
        "pop_av= 126\n",
        "# sample av\n",
        "sample_av=125\n",
        "# sample size\n",
        "n = 1000\n",
        "\n",
        "# standard deviation of population\n",
        "std_sample = 182\n",
        "# finish t- calculation\n",
        "t= (sample_av-pop_av)/(std_sample/n**(1/2))\n",
        "# t-statistic\n",
        "t"
      ],
      "execution_count": null,
      "outputs": [
        {
          "output_type": "execute_result",
          "data": {
            "text/plain": [
              "-0.17375151978947137"
            ]
          },
          "metadata": {
            "tags": []
          },
          "execution_count": 42
        }
      ]
    },
    {
      "cell_type": "code",
      "metadata": {
        "id": "io8LjpxYs922",
        "colab_type": "code",
        "colab": {
          "base_uri": "https://localhost:8080/",
          "height": 34
        },
        "outputId": "1054fd32-846a-420a-bbd4-be35b79e7827"
      },
      "source": [
        "# degrees of freedom\n",
        "df = n - 1\n",
        "\n",
        "from scipy import stats\n",
        "# calculate the critical value\n",
        "# alpha is our confidence level\n",
        "alpha = 0.025\n",
        "\n",
        "# ppf is percent point function\n",
        "t_critical_value = round(stats.t.ppf(q=alpha, df=df), 5)\n",
        "t_critical_value"
      ],
      "execution_count": null,
      "outputs": [
        {
          "output_type": "execute_result",
          "data": {
            "text/plain": [
              "-1.96234"
            ]
          },
          "metadata": {
            "tags": []
          },
          "execution_count": 43
        }
      ]
    },
    {
      "cell_type": "code",
      "metadata": {
        "id": "J23ZdXdZgS5r",
        "colab_type": "code",
        "colab": {
          "base_uri": "https://localhost:8080/",
          "height": 34
        },
        "outputId": "380f3421-42c2-4385-bbe9-f53ad81ea5bd"
      },
      "source": [
        "from scipy.stats import norm\n",
        "# calculate the p-value\n",
        "p = stats.norm.cdf(t_critical_value)\n",
        "p"
      ],
      "execution_count": null,
      "outputs": [
        {
          "output_type": "execute_result",
          "data": {
            "text/plain": [
              "0.02486145658322001"
            ]
          },
          "metadata": {
            "tags": []
          },
          "execution_count": 44
        }
      ]
    },
    {
      "cell_type": "code",
      "metadata": {
        "id": "9ItgREQZuMOX",
        "colab_type": "code",
        "colab": {
          "base_uri": "https://localhost:8080/",
          "height": 34
        },
        "outputId": "494f89f9-4dc8-4543-81e6-d61da63edf4e"
      },
      "source": [
        "if p<= 0.05:\n",
        "  print(\"we reject null hypothesis\")\n",
        "else:\n",
        "  print(\"We do not reject null hypothesis\") "
      ],
      "execution_count": null,
      "outputs": [
        {
          "output_type": "stream",
          "text": [
            "we reject null hypothesis\n"
          ],
          "name": "stdout"
        }
      ]
    },
    {
      "cell_type": "markdown",
      "metadata": {
        "id": "plTLUpUbWNmf",
        "colab_type": "text"
      },
      "source": [
        "**Conclusion**\n",
        "\n",
        "* We will reject the null hypothesis and favour of the alternative hypothesis.\n",
        "* The difference between the number of blue cars taken on\n",
        "weekdays from area code 75011 and area 75015 is statistically significant with a p-value of 0.05 and below my alpha of 0.025.\n",
        "* Therefore, we conclude that our study supports the alternative hypothesis that there is a difference \n",
        "between the number of blue cars taken on weekdays from area code 75011 and area 75015."
      ]
    },
    {
      "cell_type": "markdown",
      "metadata": {
        "id": "T9yrGvhOwBrl",
        "colab_type": "text"
      },
      "source": [
        "## *9.*Follow up Questions"
      ]
    },
    {
      "cell_type": "markdown",
      "metadata": {
        "id": "O5KkiyLJZF8F",
        "colab_type": "text"
      },
      "source": [
        "### a). Did we have the right data?\n",
        "\n",
        "> Our data was right and complete we had the variables needed to explain the hypothesis for the year 2018\n",
        "\n"
      ]
    },
    {
      "cell_type": "markdown",
      "metadata": {
        "id": "lxwXt5G0jOFQ",
        "colab_type": "text"
      },
      "source": [
        "### b). Do we need other data to answer our question?\n",
        "\n",
        "> Extra data would have been useful especially data on other years before 2018 because other external factors could have influenced our hypothesis result such as economic state of the people of Paris."
      ]
    },
    {
      "cell_type": "markdown",
      "metadata": {
        "id": "-Uuff6Y7jcBx",
        "colab_type": "text"
      },
      "source": [
        "###c). Did we have the right question?\n",
        "\n",
        "> The research question is right and answerable statistically"
      ]
    },
    {
      "cell_type": "code",
      "metadata": {
        "id": "CkoRlM_azICg",
        "colab_type": "code",
        "colab": {}
      },
      "source": [
        ""
      ],
      "execution_count": null,
      "outputs": []
    },
    {
      "cell_type": "code",
      "metadata": {
        "id": "R3MKdH-3B-QW",
        "colab_type": "code",
        "colab": {}
      },
      "source": [
        "df_results['tournament']=np.where(df_results['tournament']==1,'friendly','championship')"
      ],
      "execution_count": null,
      "outputs": []
    },
    {
      "cell_type": "code",
      "metadata": {
        "id": "mw2OrGrQ1AKd",
        "colab_type": "code",
        "colab": {}
      },
      "source": [
        ""
      ],
      "execution_count": null,
      "outputs": []
    },
    {
      "cell_type": "code",
      "metadata": {
        "id": "qauZPB1JCoVX",
        "colab_type": "code",
        "colab": {
          "base_uri": "https://localhost:8080/",
          "height": 584
        },
        "outputId": "62cfd257-9035-449f-edd4-faa721ea6daf"
      },
      "source": [
        "sns.pairplot(df_results, hue='tournament')"
      ],
      "execution_count": null,
      "outputs": [
        {
          "output_type": "execute_result",
          "data": {
            "text/plain": [
              "<seaborn.axisgrid.PairGrid at 0x7f1867fdfe48>"
            ]
          },
          "metadata": {
            "tags": []
          },
          "execution_count": 40
        },
        {
          "output_type": "display_data",
          "data": {
            "image/png": "[encoded data removed]",
            "text/plain": [
              "<Figure size 645.875x540 with 12 Axes>"
            ]
          },
          "metadata": {
            "tags": [],
            "needs_background": "light"
          }
        }
      ]
    }
  ]
}